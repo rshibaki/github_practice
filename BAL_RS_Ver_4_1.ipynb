{
  "nbformat": 4,
  "nbformat_minor": 0,
  "metadata": {
    "colab": {
      "provenance": [],
      "include_colab_link": true
    },
    "kernelspec": {
      "name": "python3",
      "display_name": "Python 3"
    },
    "language_info": {
      "name": "python"
    }
  },
  "cells": [
    {
      "cell_type": "markdown",
      "metadata": {
        "id": "view-in-github",
        "colab_type": "text"
      },
      "source": [
        "<a href=\"https://colab.research.google.com/github/rshibaki/github_practice/blob/main/BAL_RS_Ver_4_1.ipynb\" target=\"_parent\"><img src=\"https://colab.research.google.com/assets/colab-badge.svg\" alt=\"Open In Colab\"/></a>"
      ]
    },
    {
      "cell_type": "markdown",
      "source": [
        "# 間質性肺炎の予後予測因子の抽出と予後予測のランダムフォレストモデル"
      ],
      "metadata": {
        "id": "ZEvUixaf5AvI"
      }
    },
    {
      "cell_type": "markdown",
      "source": [
        "線維化を伴う間質性肺炎の急性増悪の多施設後ろ向き実態調査に付随した研究として、予後予測因子の抽出と予後予測の新規モデルを作成します。和歌山医科大学の保有する、線維化を伴う間質性肺炎の急性増悪の多施設後ろ向き実態調査に登録された患者において急性増悪中に施行されたBAL液中のサイトカインやケモカインのデータを用いて、間質性肺炎の予後予測因子の抽出と予後予測の新規モデルを作成します。\n",
        "\n",
        "今回の解析は分類問題であるため、ランダムフォレスト分類器が使用されます。Scikit-learnライブラリから、RandomForestClassifierを持つアンサンブルパッケージが使用されます。ランダムフォレストは、平均化を使用して予測精度を向上させ、特定のデータセットのさまざまなサブサンプルに多数の決定木分類器を適合させることで過剰適合を制御するメタ推定量です。"
      ],
      "metadata": {
        "id": "CTdOc_xP5GE-"
      }
    },
    {
      "cell_type": "markdown",
      "source": [
        "## 環境構築"
      ],
      "metadata": {
        "id": "8-JDHmco5KKC"
      }
    },
    {
      "cell_type": "markdown",
      "source": [
        "本章では、下記のライブラリを利用します。"
      ],
      "metadata": {
        "id": "hjo73HGv5MeX"
      }
    },
    {
      "cell_type": "markdown",
      "source": [
        "*  Collections  \n",
        "*  Data Synthesizer\n",
        "*  Google Colab\n",
        "*  Joblib\n",
        "*  Matplotlib\n",
        "*  Numpy\n",
        "*  Optuna\n",
        "*  os\n",
        "*  Pandas\n",
        "*  PyCaret\n",
        "*  Seaborn\n",
        "*  Scikit-learn\n",
        "*  sys\n",
        "*  TensorFlow\n"
      ],
      "metadata": {
        "id": "JPKL9B0r5PZJ"
      }
    },
    {
      "cell_type": "markdown",
      "source": [
        "以下のセルを実行（Shift + Enter)して必要なライブラリをインストールして下さい。"
      ],
      "metadata": {
        "id": "tULWJlAZ5Swq"
      }
    },
    {
      "cell_type": "code",
      "source": [
        "# コラボのセル出力を%%captureで非表示状態にするライブラリ\n",
        "!pip install -q gwpy"
      ],
      "metadata": {
        "colab": {
          "base_uri": "https://localhost:8080/"
        },
        "id": "zTjORdof63Bg",
        "outputId": "5a299f8b-39da-4cfc-a8c1-a0034207e1f9"
      },
      "execution_count": 1,
      "outputs": [
        {
          "output_type": "stream",
          "name": "stdout",
          "text": [
            "\u001b[K     |████████████████████████████████| 1.4 MB 19.4 MB/s \n",
            "\u001b[K     |████████████████████████████████| 11.2 MB 57.3 MB/s \n",
            "\u001b[K     |████████████████████████████████| 51 kB 7.4 MB/s \n",
            "\u001b[K     |████████████████████████████████| 45 kB 3.0 MB/s \n",
            "\u001b[K     |████████████████████████████████| 4.1 MB 30.7 MB/s \n",
            "\u001b[K     |████████████████████████████████| 965 kB 59.6 MB/s \n",
            "\u001b[?25h  Building wheel for ligo-segments (setup.py) ... \u001b[?25l\u001b[?25hdone\n"
          ]
        }
      ]
    },
    {
      "cell_type": "code",
      "execution_count": 2,
      "metadata": {
        "id": "cBGdqQE42W1X"
      },
      "outputs": [],
      "source": [
        "%%capture\n",
        "!pip install openpyxl==3.0\n",
        "!pip install pyyaml==5.4.1\n",
        "!pip install mlflow\n",
        "!pip install -q DataSynthesizer\n",
        "!pip install optuna\n",
        "!pip install matplotlib==3.1.3\n",
        "!apt-get install tree"
      ]
    },
    {
      "cell_type": "markdown",
      "source": [
        "インストールが完了したら以下のセルを実行して，各ライブラリのインポート，及びバージョン確認を行って下さい."
      ],
      "metadata": {
        "id": "F5ONq-PQ7mj9"
      }
    },
    {
      "cell_type": "code",
      "source": [
        "from collections import OrderedDict\n",
        "\n",
        "import DataSynthesizer\n",
        "from DataSynthesizer.DataDescriber import DataDescriber\n",
        "from DataSynthesizer.DataGenerator import DataGenerator\n",
        "from DataSynthesizer.ModelInspector import ModelInspector\n",
        "from DataSynthesizer.lib.utils import read_json_file, display_bayesian_network\n",
        "\n",
        "from google.colab import drive\n",
        "import joblib\n",
        "import matplotlib as mpl\n",
        "import matplotlib.pyplot as plt\n",
        "%matplotlib inline\n",
        "import numpy as np\n",
        "import optuna\n",
        "import os\n",
        "import pandas as pd\n",
        "import seaborn as sns\n",
        "\n",
        "import sklearn\n",
        "from sklearn import tree\n",
        "from sklearn import ensemble\n",
        "from sklearn.impute import SimpleImputer\n",
        "from sklearn.metrics import accuracy_score, confusion_matrix, classification_report\n",
        "from sklearn.model_selection import StratifiedKFold, train_test_split, cross_val_score\n",
        "\n",
        "import sys\n",
        "sys.path.append('models')\n",
        "\n",
        "import tensorflow as tf\n",
        "import time\n",
        "\n",
        "print(\"Data Synthesizer: \", DataSynthesizer.__version__)\n",
        "print(\"Google Colab Python: \")\n",
        "!python --version\n",
        "print(\"\\nJoblib: \", joblib.__version__)\n",
        "print(\"Matplotlib: \", mpl.__version__)\n",
        "print(\"Numpy: \", np.__version__)\n",
        "print(\"Optuna: \", optuna.__version__)\n",
        "print(\"pandas: \", pd.__version__)\n",
        "print(\"Seaborn: \", sns.__version__)\n",
        "print(\"Scikit-learn: \", sklearn.__version__)\n",
        "print(\"TensorFlow: \", tf.__version__)"
      ],
      "metadata": {
        "colab": {
          "base_uri": "https://localhost:8080/"
        },
        "id": "t4i72SQs55JW",
        "outputId": "0e3ef57a-a8a2-4f2c-cb19-b798c7fbe01c"
      },
      "execution_count": 3,
      "outputs": [
        {
          "output_type": "stream",
          "name": "stdout",
          "text": [
            "Data Synthesizer:  0.1.11\n",
            "Google Colab Python: \n",
            "Python 3.7.15\n",
            "\n",
            "Joblib:  1.2.0\n",
            "Matplotlib:  3.2.2\n",
            "Numpy:  1.21.6\n",
            "Optuna:  3.0.3\n",
            "pandas:  1.3.5\n",
            "Seaborn:  0.11.2\n",
            "Scikit-learn:  1.0.2\n",
            "TensorFlow:  2.9.2\n"
          ]
        }
      ]
    },
    {
      "cell_type": "markdown",
      "source": [
        "## 使用するデータセット"
      ],
      "metadata": {
        "id": "8lR1ryC_70Xv"
      }
    },
    {
      "cell_type": "code",
      "source": [
        "from google.colab import drive\n",
        "drive.mount('/content/drive')\n",
        "xlsx_input = input(\"入力データが保管してあるドライブの絶対パス: \") or \"/content/drive/MyDrive/Furuta/AE-FILD_BAL_patient_data.xlsx\"\n",
        "!cp {xlsx_input} patient_data.xlsx "
      ],
      "metadata": {
        "colab": {
          "base_uri": "https://localhost:8080/"
        },
        "id": "970HSePJ7pEt",
        "outputId": "be313375-9164-4427-fab7-4cda417d1b64"
      },
      "execution_count": 4,
      "outputs": [
        {
          "name": "stdout",
          "output_type": "stream",
          "text": [
            "Mounted at /content/drive\n",
            "入力データが保管してあるドライブの絶対パス: \n"
          ]
        }
      ]
    },
    {
      "cell_type": "markdown",
      "source": [
        "無事ダウンロードが完了すると， /content/driveフォルダがローカル環境にマウントされます。"
      ],
      "metadata": {
        "id": "fzT3XD7R74YZ"
      }
    },
    {
      "cell_type": "markdown",
      "source": [
        "## データ前処理"
      ],
      "metadata": {
        "id": "VLiF1pu2AcWH"
      }
    },
    {
      "cell_type": "markdown",
      "source": [
        "ダウンロードしたファイルを読み込み，機械学習モデルへの入力形式に変換するデータ前処理を以下の手順で行います。\n",
        "\n",
        "1. ヘルパーファンクションでデータフレームテキスト内の\"\\n\"をスペースに変換する関数を定義する\n",
        "2. 学習に不必要なデータコラムを除外する: \"No\"\n",
        "3. sklearnのSimpleImputerを導入し欠損値（NaN)補完を行う\n",
        "    - 補完方法は中央値で欠損値を埋める（[[1](https://scikit-learn.org/stable/modules/generated/sklearn.impute.SimpleImputer.html)]を参考）\n",
        "4. テスト用のデータをホールドアウト法に基づき先に取り分けておく\n",
        "5. 学習用のデータが不足しているためDataSynthesizerライブラリーを導入し模擬データを作成する\n",
        "    - ベイジアンネットワークを使用して合成データセットを作成する方法はこちらを参考して下さい [[2](https://www.scb.se/contentassets/ca21efb41fee47d293bbee5bf7be7fb3/using-bayesian-networks-to-create-synthetic-data.pdf)]"
      ],
      "metadata": {
        "id": "EZR_hYNLAmKE"
      }
    },
    {
      "cell_type": "markdown",
      "source": [
        "まずは以下のセルを実行して、データ前処理クラスを定義します。\n",
        "全処理クラス内では、以下のメンバ関数を定義しています。\n",
        "\n",
        "* __init__() (コンストラクタ）: 変数の初期化，学習用とテスト用への分割ルール，利用するラベルの集約ルール\n",
        "* clean_header(): Pandasデータフレームのヘッダー内の\"\\n\"をスペースに変換する関数\n",
        "* convert_text_to_list(): Pandasデータフレームのヘッダーをリストに変換する関数\n",
        "* drop_columns(): 学習に不必要な項目をdrop()する関数\n",
        "* data_imputation(): sklearnのSimpleImputerを導入し欠損値（NaN)補完を行う関数\n",
        "* def remove_header_map(): Pandasデータフレームのヘッダー内にカテゴリカル変数が含まれる場合、数値と置き換える関数\n",
        "* def split(): テスト用のデータを分割する為の関数\n",
        "* def create_data_synthesis_network(): 模擬データを作成するためのベイジアンネットワークモデルの定義・学習を行う関数\n",
        "* def generate_synthetic_data(): 学習済のベイジアンネットワークモデルを使い模擬データを実際に作成する関数\n",
        "* def synthetic_data_wrapper(): 学習済のDataDescriberのモデルが存在するかを確認する関数\n",
        "* def main(): 上記全ての工程を一度に実行するためのメイン関数\n",
        "\n",
        "\n"
      ],
      "metadata": {
        "id": "mionfH7tAo7D"
      }
    },
    {
      "cell_type": "code",
      "source": [
        "# 出力ディレクトリーの作成\n",
        "!mkdir ./out\n",
        "\n",
        "# description_fileをグーグルドライブから引っ張ってくる\n",
        "!cp '/content/drive/MyDrive/Furuta/description_simplified.json' ./out/description_simplified.json\n",
        "\n",
        "# synthetic_dataをグーグルドライブから引っ張ってくる\n",
        "!cp '/content/drive/MyDrive/Furuta/synthetic_data_simplified.csv' ./out/synthetic_data_simplified.csv"
      ],
      "metadata": {
        "id": "h0KZTjKf74JN",
        "outputId": "d957da86-cbf4-4512-f0cc-711a1c50d86c",
        "colab": {
          "base_uri": "https://localhost:8080/"
        }
      },
      "execution_count": 5,
      "outputs": [
        {
          "output_type": "stream",
          "name": "stdout",
          "text": [
            "cp: cannot stat '/content/drive/MyDrive/Furuta/description_simplified.json': No such file or directory\n",
            "cp: cannot stat '/content/drive/MyDrive/Furuta/synthetic_data_simplified.csv': No such file or directory\n"
          ]
        }
      ]
    },
    {
      "cell_type": "code",
      "source": [
        "class BaseBALDatasetProcessor(object):\n",
        "    def __init__(\n",
        "        self,\n",
        "        dataset,\n",
        "        dataset_root,\n",
        "        dataframe_name,\n",
        "    ):\n",
        "        # 模擬データが元のデータの類似するように模擬データの作成設定をcorrelated_attribute_modeにする\n",
        "        self.mode = 'correlated_attribute_mode'\n",
        "        self.dataset = dataset\n",
        "        self.dataset_root = dataset_root\n",
        "        self.dataframe_name = dataframe_name\n",
        "\n",
        "        # Holdout法に基づき先に学習用のデータを分割したデータフレーム\n",
        "        self.augment_training_df = pd.DataFrame()\n",
        "\n",
        "        # 模擬データの構造を説明するための情報ファイル等の指定\n",
        "        if os.path.exists(f'./out/description_simplified.json') and os.path.exists(f'./out/synthetic_data_simplified.csv'):\n",
        "            self.description_file = f'./out/description_simplified.json'\n",
        "            self.synthetic_data = f'./out/synthetic_data_simplified.csv'\n",
        "\n",
        "        else:\n",
        "            self.output_dir = f'./out'\n",
        "            self.description_file = f'./out/description_simplified.json'\n",
        "            self.synthetic_data = f'./out/synthetic_data_simplified.csv'\n",
        "\n",
        "        # データセットをPandasのデータフレームとして読み込む\n",
        "        self.dataframe = pd.read_excel(self.dataset, engine='openpyxl')\n",
        "\n",
        "        # データセット内のカテゴリカル変数の数値をその数値が表すカテゴリーに置き換える必要がある際\n",
        "        self.columnname_dict = OrderedDict([\n",
        "            ('90day-mortality', {0.0: 'survival', 1.0: 'death'}),\n",
        "            ('sex', {0.0: 'male', 1.0: 'female'}),\n",
        "            ('smoking-status',\n",
        "             {0.0: 'Never',\n",
        "                   1.0: 'Ex(quit smoking over a year ago)',\n",
        "                   2.0: 'Current'}),\n",
        "            ('emphysema', {0.0: '-', 1.0: '+'}),\n",
        "            ('Baseline-ILD',\n",
        "             {0.0: 'UIP',\n",
        "                   1.0: 'probable UIP',\n",
        "                   2.0: 'Indeterminate for UIP',\n",
        "                   3.0: 'Alternative diagnosis'}),\n",
        "            ('Collagen-disease', {0.0: '-', 1.0: '+'}),\n",
        "            ('IPAF', {0.0: '-', 1.0: '+'})])\n",
        "\n",
        "    def clean_header(\n",
        "        self,\n",
        "        text\n",
        "    ):\n",
        "        \"\"\"\n",
        "        Pandasデータフレームのヘッダー内の\"\\n\"をスペースに変換する関数\n",
        "        \"\"\"\n",
        "        text = text.strip()\n",
        "        text = text.replace(\" \", \"-\")\n",
        "        text_n_newline = text.replace(\"\\n\", \" \")\n",
        "        return text_n_newline\n",
        "\n",
        "    def convert_text_to_list(self):\n",
        "        \"\"\"\n",
        "        Pandasデータフレームのヘッダーをリストに変換する関数\n",
        "        \"\"\"\n",
        "        df_header_list = self.dataframe.columns.values.tolist()\n",
        "        df_header_list_cleaned = [self.clean_header(x) for x in df_header_list]\n",
        "        self.dataframe.columns = df_header_list_cleaned\n",
        "\n",
        "    def drop_columns(\n",
        "        self,\n",
        "        col_names=[\"No\"]\n",
        "    ):\n",
        "        \"\"\"\n",
        "        学習に不必要な項目をdrop()する関数\n",
        "        \"\"\"\n",
        "        self.dataframe.drop(columns=self.dataframe.columns.difference(col_names), inplace=True)\n",
        "    def data_imputation(\n",
        "        self,\n",
        "        null_val='NaN',\n",
        "        strategy='median'\n",
        "    ):\n",
        "        \"\"\"\n",
        "        sklearnのSimpleImputerを導入し欠損値（NaN)補完を行う関数\n",
        "        \"\"\"\n",
        "        if null_val == 'NaN':\n",
        "            nan_attr = np.NaN\n",
        "        else:\n",
        "            print(\"Declare valid null data value for variable null_val\")\n",
        "        # データフレーム内の\"NaN\"をnumpyのNaNと置き換える)\n",
        "        self.dataframe.replace(null_val, nan_attr, inplace=True)\n",
        "        # sklearnのSimpleImputerを使い、np.NaNをnull値として認識させる。\n",
        "        # 加、strategy=\"median\"はnp.NaNをその行のNaNを中央値と置き換えるための指定\n",
        "        imp = SimpleImputer(missing_values=nan_attr, strategy=strategy)\n",
        "        df_idf = pd.DataFrame(imp.fit_transform(self.dataframe))\n",
        "        # SimpleImputerは数値しか作成できない為、元のデータセットの行名を新しいデータセットに加るコード\n",
        "        df_idf.columns = self.dataframe.columns\n",
        "        self.dataframe = df_idf\n",
        "\n",
        "    def remove_header_map(\n",
        "        self,\n",
        "        text\n",
        "    ):\n",
        "        \"\"\"\n",
        "        Pandasデータフレームのヘッダー内にカテゴリカル変数が含まれる場合、数値と置き換える関数\n",
        "        \"\"\"\n",
        "        for key in self.columnname_dict.keys():\n",
        "            if key in text:\n",
        "                text = key\n",
        "        return text\n",
        "\n",
        "    def split (\n",
        "      self,\n",
        "      # Y (ラベル) ターゲットラベル\n",
        "      Y_col = '90day-mortality',\n",
        "      # テスト用データの割合\n",
        "      ts = 0.20,\n",
        "      # 検証用でデータの割合\n",
        "      vs = 0.40,\n",
        "      # ランダムステート \n",
        "      rs = 0\n",
        "    ):\n",
        "      \"\"\"\n",
        "      学習用・テスト用・検証用に分割するための関数\n",
        "      \"\"\"\n",
        "      # ヘッダーコラムのテキストを記号と置き換える必要がある場合\n",
        "      df_header_list = self.dataframe.columns.values.tolist()\n",
        "      df_header_list_cleaned = [self.remove_header_map(\n",
        "          x) for x in self.columnname_dict]\n",
        "      for column in self.dataframe:\n",
        "          for header in df_header_list_cleaned:\n",
        "              if header in column:\n",
        "                  self.dataframe.rename(\n",
        "                      columns={column: header}, inplace=True)\n",
        "                  \n",
        "      # X (フィーチャー) ターゲットラベル以外の全ての行\n",
        "      X_cols = self.dataframe.loc[:, self.dataframe.columns != Y_col].columns\n",
        "\n",
        "      # テストデータ分割（初期の分割ではtrainに学習用・検証用データが含まれ, testにテストデータが含まれる)\n",
        "      X_train, self.X_test, y_train, self.y_test = \\\n",
        "      train_test_split(\n",
        "          self.dataframe[X_cols], \n",
        "          self.dataframe[Y_col],\n",
        "          test_size=ts, \n",
        "          random_state=rs, \n",
        "          stratify=self.dataframe[Y_col]\n",
        "          )\n",
        "      \n",
        "      # 学習用・検証用データ分割\n",
        "      X_train, X_val, y_train, y_val = \\\n",
        "      train_test_split(\n",
        "          X_train, \n",
        "          y_train,\n",
        "          test_size=vs, \n",
        "          random_state=rs,\n",
        "          stratify=y_train\n",
        "          )\n",
        "      \n",
        "      # テスト用データからIDをドロップする\n",
        "      self.X_test = self.X_test.drop(columns=['ID'])\n",
        "      \n",
        "      # 学習用のデータをデータフレームに付け加える\n",
        "      X_temp_df = pd.concat([X_train, X_val], axis=0)\n",
        "      y_temp_df = pd.concat([y_train, y_val], axis=0)\n",
        "      self.augment_training_df = pd.concat([X_temp_df, y_temp_df], axis=1)\n",
        "\n",
        "    def create_data_synthesis_network(\n",
        "        self,\n",
        "        # データの要素を識別できるように、IDをデータのキーとして認識する\n",
        "        candidate_keys={'ID': True},\n",
        "\n",
        "        # ベイジアンネットワークパラメーター指定\n",
        "        # ドメインサイズがこのしきい値よりも小さい場合、属性はカテゴリーに分類されます。\n",
        "        # 今回のデータでは一番多いカテゴリー要素が4だったので、閾値を4と指定する\n",
        "        threshold_value=4,\n",
        "\n",
        "        # 差分プライバシーのパラメーター。 これは、入力データセットの行を削除しても、exp（epsilon）の乗法差以上に同じ出力を取得する確率が変わらないことを大まかに意味します。\n",
        "        # イプシロン値を増やすことで学習モデルのノイズを減らせます。 差分プライバシーをオフにするにはepsilon = 0を設定します。\n",
        "        epsilon=1,\n",
        "\n",
        "        # ベイジアンネットワーク内の親ノードの最大数、つまり、有向グラフでの入力エッジの最大数。\n",
        "        degree_of_bayesian_network=2\n",
        "    ):\n",
        "        \"\"\"\n",
        "        模擬データを作成するためのベイジアンネットワークモデルの定義・学習を行う関数\n",
        "        \"\"\"\n",
        "        # PandasのデータフレームをDataSynthesizerが応用できるようにcsvに変換する\n",
        "        self.augment_training_df.to_csv(self.dataframe_name + '.csv', index=False)\n",
        "\n",
        "        # DataDescriberをインスタンス化する\n",
        "        describer = DataDescriber(category_threshold=threshold_value)\n",
        "\n",
        "        if self.mode == 'correlated_attribute_mode':\n",
        "            # データセットの統計を計算する\n",
        "            describer.describe_dataset_in_correlated_attribute_mode(dataset_file='./' + self.dataframe_name + '.csv',\n",
        "                                                                    epsilon=epsilon,\n",
        "                                                                    k=degree_of_bayesian_network,\n",
        "                                                                    attribute_to_is_candidate_key=candidate_keys)\n",
        "        else:\n",
        "            print(\"The model does not currently suport this mode type for computation\")\n",
        "\n",
        "        # データセットの統計を上で定義した出力ファイルに保存する\n",
        "        # その後に作成されたベイズネットワークを出力する\n",
        "        describer.save_dataset_description_to_file(self.description_file)\n",
        "        display_bayesian_network(describer.bayesian_network)\n",
        "        return describer\n",
        "\n",
        "    def generate_synthetic_data(\n",
        "        self,\n",
        "        # 合成データセットで生成される症例数\n",
        "        num_tuples_to_generate=100\n",
        "    ):\n",
        "        \"\"\"\n",
        "        学習済のベイジアンネットワークモデルを使い模擬データを実際に作成する関数\n",
        "        \"\"\"\n",
        "        # 実際に模擬データを作成するコード\n",
        "        generator = DataGenerator()\n",
        "\n",
        "        # ベイズモデルの応用（模擬データの作成）\n",
        "        # description_fileとして定義してあるJSONファイルにベイズモデルが学習したカテゴリカルアトリビュートの特徴が保存される\n",
        "        # num_tuples_to_generateは生成される症例数\n",
        "        generator.generate_dataset_in_correlated_attribute_mode(\n",
        "            num_tuples_to_generate, self.description_file)\n",
        "\n",
        "        # 作成した模擬データをsynthetic_dataとして定義したcsvファイルに保存する\n",
        "        generator.save_synthetic_data(self.synthetic_data)\n",
        "\n",
        "        # pandasのデータフレームとして模擬データを読み込む\n",
        "        synthetic_df = pd.read_csv(self.synthetic_data)\n",
        "\n",
        "        return synthetic_df, generator\n",
        "\n",
        "    def synthetic_data_wrapper(\n",
        "        self\n",
        "    ):\n",
        "        \"\"\"\n",
        "        学習済のDataDescriberのモデルが存在するかを確認する関数\n",
        "        \"\"\"\n",
        "        # 事前に学習済のDataDescriberが存在するかを確認する\n",
        "        if os.path.exists(self.synthetic_data) and \\\n",
        "                os.stat(self.synthetic_data).st_size != 0:\n",
        "            # pandasのデータフレームとして模擬データを読み込む\n",
        "            synthetic_df = pd.read_csv(self.synthetic_data)\n",
        "\n",
        "        else:\n",
        "            describer = self.create_data_synthesis_network()\n",
        "            synthetic_df, generator = self.generate_synthetic_data()\n",
        "\n",
        "        # 新しく作成した模擬データは上記で作成したsynthetic_df内にあるため、self.augment_training_dfにデータを足す\n",
        "        self.augment_training_df = pd.concat([self.augment_training_df, synthetic_df])\n",
        "        # テスト用のデータを学習済のモデルで測るため、テストデータも模擬データフレームと加え出力する\n",
        "        return self.augment_training_df, self.X_test, self.y_test\n",
        "\n",
        "    def main(\n",
        "        self\n",
        "    ):\n",
        "        \"\"\"\n",
        "        上記全ての工程を一度に実行するためのメイン関数\n",
        "        \"\"\"\n",
        "        self.convert_text_to_list()\n",
        "        self.drop_columns(col_names=[\n",
        "            'LDH', \n",
        "            'CRP', \n",
        "            'P/F-ratio', \n",
        "            'BAL(neutro-%)', \n",
        "            'MMP-1', \n",
        "            'GM-CSF', \n",
        "            'IL-6',\n",
        "            'IL-8',\n",
        "            'MCP-1',\n",
        "            'EOTAXIN',\n",
        "            '90day-mortality survival:0 death:1',\n",
        "            'ID',\n",
        "            ])\n",
        "        self.data_imputation(null_val='NaN', strategy='median')\n",
        "        self.split(Y_col = '90day-mortality', ts = 0.30, rs = 42)\n",
        "        return self.synthetic_data_wrapper()\n"
      ],
      "metadata": {
        "id": "O3fTgT645V7C"
      },
      "execution_count": 6,
      "outputs": []
    },
    {
      "cell_type": "markdown",
      "source": [
        "データ保存先のrootディレクトリ(dataset_root)を指定し， 上記のクラスを使用してデータの前処理を行う。前処理済のデータはdataframe_nameで指定した名前でPandasのデータフレーム形式で所定の場所に保存されます。\n",
        "\n",
        "加え、クラスで先にテスト用のデータをとり分けて置く"
      ],
      "metadata": {
        "id": "acAVNqgFDFRE"
      }
    },
    {
      "cell_type": "code",
      "source": [
        "dataset = 'patient_data.xlsx'\n",
        "dataset_root = './'\n",
        "dataframe_name = 'AE_FILD_df'\n",
        "post_processed_data_frame, X_test, y_test = BaseBALDatasetProcessor(dataset, dataset_root, dataframe_name).main()\n",
        "print(post_processed_data_frame['90day-mortality'].value_counts())"
      ],
      "metadata": {
        "colab": {
          "base_uri": "https://localhost:8080/"
        },
        "id": "l1ukPSh6DEec",
        "outputId": "2895324d-d419-41fb-fef7-e714adb20710"
      },
      "execution_count": 7,
      "outputs": [
        {
          "output_type": "stream",
          "name": "stdout",
          "text": [
            "================ Constructing Bayesian Network (BN) ================\n",
            "Adding ROOT GM-CSF\n",
            "Adding attribute EOTAXIN\n",
            "Adding attribute IL-8\n",
            "Adding attribute MMP-1\n",
            "Adding attribute BAL(neutro-%)\n",
            "Adding attribute CRP\n",
            "Adding attribute MCP-1\n",
            "Adding attribute LDH\n",
            "Adding attribute 90day-mortality\n",
            "Adding attribute IL-6\n",
            "Adding attribute P/F-ratio\n",
            "========================== BN constructed ==========================\n",
            "Constructed Bayesian network:\n",
            "    EOTAXIN         has parents ['GM-CSF'].\n",
            "    IL-8            has parents ['EOTAXIN', 'GM-CSF'].\n",
            "    MMP-1           has parents ['IL-8', 'EOTAXIN'].\n",
            "    BAL(neutro-%)   has parents ['MMP-1', 'EOTAXIN'].\n",
            "    CRP             has parents ['IL-8', 'EOTAXIN'].\n",
            "    MCP-1           has parents ['MMP-1', 'GM-CSF'].\n",
            "    LDH             has parents ['CRP', 'IL-8'].\n",
            "    90day-mortality has parents ['BAL(neutro-%)', 'MMP-1'].\n",
            "    IL-6            has parents ['LDH', 'MCP-1'].\n",
            "    P/F-ratio       has parents ['MMP-1', 'IL-8'].\n",
            "0.0    90\n",
            "1.0    52\n",
            "Name: 90day-mortality, dtype: int64\n"
          ]
        }
      ]
    },
    {
      "cell_type": "markdown",
      "source": [
        "テスト用のデータのラベルの割合を見てみる"
      ],
      "metadata": {
        "id": "LuJsDXvKDJWx"
      }
    },
    {
      "cell_type": "code",
      "source": [
        "post_processed_data_frame = post_processed_data_frame.drop(labels=['LDH', 'CRP', 'P/F-ratio', 'BAL(neutro-%)'], axis=1)"
      ],
      "metadata": {
        "id": "NbnLglmJSpDq"
      },
      "execution_count": 8,
      "outputs": []
    },
    {
      "cell_type": "code",
      "source": [
        "post_processed_data_frame"
      ],
      "metadata": {
        "colab": {
          "base_uri": "https://localhost:8080/",
          "height": 424
        },
        "id": "B4h5q4fJQCOl",
        "outputId": "46928eae-7ff3-4809-bff6-b45deb2219b8"
      },
      "execution_count": 9,
      "outputs": [
        {
          "output_type": "execute_result",
          "data": {
            "text/plain": [
              "            ID        MMP-1    EOTAXIN    GM-CSF        IL-6         IL-8  \\\n",
              "35  10027181.0   325.899389  12.598342  5.482225  674.809777   288.195898   \n",
              "13   5421969.0   722.890250  10.143809  3.406211   78.963719   163.612724   \n",
              "19   7049141.0   151.206356   3.200000  4.700743    3.200000   102.406805   \n",
              "21   7096785.0  1318.708597  17.221732  6.561729  128.949681   238.929290   \n",
              "55  11525309.0   416.326664   4.882875  4.491369   19.231072    66.557475   \n",
              "..         ...          ...        ...       ...         ...          ...   \n",
              "95        95.0  3009.129464   4.451581  4.165791  280.197853   875.748430   \n",
              "96        96.0  2495.128141  31.575205  6.402070  650.784851   209.878936   \n",
              "97        97.0  1441.009776  35.740556  3.224130  162.239997   448.258967   \n",
              "98        98.0  1915.678612  28.360545  7.813761  226.833322  1389.233142   \n",
              "99        99.0  1326.890077  13.053417  3.216244   95.275066  1072.248443   \n",
              "\n",
              "          MCP-1  90day-mortality  \n",
              "35  2318.366083              0.0  \n",
              "13  2675.393197              0.0  \n",
              "19   590.812799              0.0  \n",
              "21  3873.415755              1.0  \n",
              "55   584.321983              0.0  \n",
              "..          ...              ...  \n",
              "95  2042.831694              1.0  \n",
              "96   387.630541              1.0  \n",
              "97   892.081638              0.0  \n",
              "98  1177.159257              0.0  \n",
              "99   766.503540              1.0  \n",
              "\n",
              "[142 rows x 8 columns]"
            ],
            "text/html": [
              "\n",
              "  <div id=\"df-60c539e5-a298-4082-8659-839be9b64ad4\">\n",
              "    <div class=\"colab-df-container\">\n",
              "      <div>\n",
              "<style scoped>\n",
              "    .dataframe tbody tr th:only-of-type {\n",
              "        vertical-align: middle;\n",
              "    }\n",
              "\n",
              "    .dataframe tbody tr th {\n",
              "        vertical-align: top;\n",
              "    }\n",
              "\n",
              "    .dataframe thead th {\n",
              "        text-align: right;\n",
              "    }\n",
              "</style>\n",
              "<table border=\"1\" class=\"dataframe\">\n",
              "  <thead>\n",
              "    <tr style=\"text-align: right;\">\n",
              "      <th></th>\n",
              "      <th>ID</th>\n",
              "      <th>MMP-1</th>\n",
              "      <th>EOTAXIN</th>\n",
              "      <th>GM-CSF</th>\n",
              "      <th>IL-6</th>\n",
              "      <th>IL-8</th>\n",
              "      <th>MCP-1</th>\n",
              "      <th>90day-mortality</th>\n",
              "    </tr>\n",
              "  </thead>\n",
              "  <tbody>\n",
              "    <tr>\n",
              "      <th>35</th>\n",
              "      <td>10027181.0</td>\n",
              "      <td>325.899389</td>\n",
              "      <td>12.598342</td>\n",
              "      <td>5.482225</td>\n",
              "      <td>674.809777</td>\n",
              "      <td>288.195898</td>\n",
              "      <td>2318.366083</td>\n",
              "      <td>0.0</td>\n",
              "    </tr>\n",
              "    <tr>\n",
              "      <th>13</th>\n",
              "      <td>5421969.0</td>\n",
              "      <td>722.890250</td>\n",
              "      <td>10.143809</td>\n",
              "      <td>3.406211</td>\n",
              "      <td>78.963719</td>\n",
              "      <td>163.612724</td>\n",
              "      <td>2675.393197</td>\n",
              "      <td>0.0</td>\n",
              "    </tr>\n",
              "    <tr>\n",
              "      <th>19</th>\n",
              "      <td>7049141.0</td>\n",
              "      <td>151.206356</td>\n",
              "      <td>3.200000</td>\n",
              "      <td>4.700743</td>\n",
              "      <td>3.200000</td>\n",
              "      <td>102.406805</td>\n",
              "      <td>590.812799</td>\n",
              "      <td>0.0</td>\n",
              "    </tr>\n",
              "    <tr>\n",
              "      <th>21</th>\n",
              "      <td>7096785.0</td>\n",
              "      <td>1318.708597</td>\n",
              "      <td>17.221732</td>\n",
              "      <td>6.561729</td>\n",
              "      <td>128.949681</td>\n",
              "      <td>238.929290</td>\n",
              "      <td>3873.415755</td>\n",
              "      <td>1.0</td>\n",
              "    </tr>\n",
              "    <tr>\n",
              "      <th>55</th>\n",
              "      <td>11525309.0</td>\n",
              "      <td>416.326664</td>\n",
              "      <td>4.882875</td>\n",
              "      <td>4.491369</td>\n",
              "      <td>19.231072</td>\n",
              "      <td>66.557475</td>\n",
              "      <td>584.321983</td>\n",
              "      <td>0.0</td>\n",
              "    </tr>\n",
              "    <tr>\n",
              "      <th>...</th>\n",
              "      <td>...</td>\n",
              "      <td>...</td>\n",
              "      <td>...</td>\n",
              "      <td>...</td>\n",
              "      <td>...</td>\n",
              "      <td>...</td>\n",
              "      <td>...</td>\n",
              "      <td>...</td>\n",
              "    </tr>\n",
              "    <tr>\n",
              "      <th>95</th>\n",
              "      <td>95.0</td>\n",
              "      <td>3009.129464</td>\n",
              "      <td>4.451581</td>\n",
              "      <td>4.165791</td>\n",
              "      <td>280.197853</td>\n",
              "      <td>875.748430</td>\n",
              "      <td>2042.831694</td>\n",
              "      <td>1.0</td>\n",
              "    </tr>\n",
              "    <tr>\n",
              "      <th>96</th>\n",
              "      <td>96.0</td>\n",
              "      <td>2495.128141</td>\n",
              "      <td>31.575205</td>\n",
              "      <td>6.402070</td>\n",
              "      <td>650.784851</td>\n",
              "      <td>209.878936</td>\n",
              "      <td>387.630541</td>\n",
              "      <td>1.0</td>\n",
              "    </tr>\n",
              "    <tr>\n",
              "      <th>97</th>\n",
              "      <td>97.0</td>\n",
              "      <td>1441.009776</td>\n",
              "      <td>35.740556</td>\n",
              "      <td>3.224130</td>\n",
              "      <td>162.239997</td>\n",
              "      <td>448.258967</td>\n",
              "      <td>892.081638</td>\n",
              "      <td>0.0</td>\n",
              "    </tr>\n",
              "    <tr>\n",
              "      <th>98</th>\n",
              "      <td>98.0</td>\n",
              "      <td>1915.678612</td>\n",
              "      <td>28.360545</td>\n",
              "      <td>7.813761</td>\n",
              "      <td>226.833322</td>\n",
              "      <td>1389.233142</td>\n",
              "      <td>1177.159257</td>\n",
              "      <td>0.0</td>\n",
              "    </tr>\n",
              "    <tr>\n",
              "      <th>99</th>\n",
              "      <td>99.0</td>\n",
              "      <td>1326.890077</td>\n",
              "      <td>13.053417</td>\n",
              "      <td>3.216244</td>\n",
              "      <td>95.275066</td>\n",
              "      <td>1072.248443</td>\n",
              "      <td>766.503540</td>\n",
              "      <td>1.0</td>\n",
              "    </tr>\n",
              "  </tbody>\n",
              "</table>\n",
              "<p>142 rows × 8 columns</p>\n",
              "</div>\n",
              "      <button class=\"colab-df-convert\" onclick=\"convertToInteractive('df-60c539e5-a298-4082-8659-839be9b64ad4')\"\n",
              "              title=\"Convert this dataframe to an interactive table.\"\n",
              "              style=\"display:none;\">\n",
              "        \n",
              "  <svg xmlns=\"http://www.w3.org/2000/svg\" height=\"24px\"viewBox=\"0 0 24 24\"\n",
              "       width=\"24px\">\n",
              "    <path d=\"M0 0h24v24H0V0z\" fill=\"none\"/>\n",
              "    <path d=\"M18.56 5.44l.94 2.06.94-2.06 2.06-.94-2.06-.94-.94-2.06-.94 2.06-2.06.94zm-11 1L8.5 8.5l.94-2.06 2.06-.94-2.06-.94L8.5 2.5l-.94 2.06-2.06.94zm10 10l.94 2.06.94-2.06 2.06-.94-2.06-.94-.94-2.06-.94 2.06-2.06.94z\"/><path d=\"M17.41 7.96l-1.37-1.37c-.4-.4-.92-.59-1.43-.59-.52 0-1.04.2-1.43.59L10.3 9.45l-7.72 7.72c-.78.78-.78 2.05 0 2.83L4 21.41c.39.39.9.59 1.41.59.51 0 1.02-.2 1.41-.59l7.78-7.78 2.81-2.81c.8-.78.8-2.07 0-2.86zM5.41 20L4 18.59l7.72-7.72 1.47 1.35L5.41 20z\"/>\n",
              "  </svg>\n",
              "      </button>\n",
              "      \n",
              "  <style>\n",
              "    .colab-df-container {\n",
              "      display:flex;\n",
              "      flex-wrap:wrap;\n",
              "      gap: 12px;\n",
              "    }\n",
              "\n",
              "    .colab-df-convert {\n",
              "      background-color: #E8F0FE;\n",
              "      border: none;\n",
              "      border-radius: 50%;\n",
              "      cursor: pointer;\n",
              "      display: none;\n",
              "      fill: #1967D2;\n",
              "      height: 32px;\n",
              "      padding: 0 0 0 0;\n",
              "      width: 32px;\n",
              "    }\n",
              "\n",
              "    .colab-df-convert:hover {\n",
              "      background-color: #E2EBFA;\n",
              "      box-shadow: 0px 1px 2px rgba(60, 64, 67, 0.3), 0px 1px 3px 1px rgba(60, 64, 67, 0.15);\n",
              "      fill: #174EA6;\n",
              "    }\n",
              "\n",
              "    [theme=dark] .colab-df-convert {\n",
              "      background-color: #3B4455;\n",
              "      fill: #D2E3FC;\n",
              "    }\n",
              "\n",
              "    [theme=dark] .colab-df-convert:hover {\n",
              "      background-color: #434B5C;\n",
              "      box-shadow: 0px 1px 3px 1px rgba(0, 0, 0, 0.15);\n",
              "      filter: drop-shadow(0px 1px 2px rgba(0, 0, 0, 0.3));\n",
              "      fill: #FFFFFF;\n",
              "    }\n",
              "  </style>\n",
              "\n",
              "      <script>\n",
              "        const buttonEl =\n",
              "          document.querySelector('#df-60c539e5-a298-4082-8659-839be9b64ad4 button.colab-df-convert');\n",
              "        buttonEl.style.display =\n",
              "          google.colab.kernel.accessAllowed ? 'block' : 'none';\n",
              "\n",
              "        async function convertToInteractive(key) {\n",
              "          const element = document.querySelector('#df-60c539e5-a298-4082-8659-839be9b64ad4');\n",
              "          const dataTable =\n",
              "            await google.colab.kernel.invokeFunction('convertToInteractive',\n",
              "                                                     [key], {});\n",
              "          if (!dataTable) return;\n",
              "\n",
              "          const docLinkHtml = 'Like what you see? Visit the ' +\n",
              "            '<a target=\"_blank\" href=https://colab.research.google.com/notebooks/data_table.ipynb>data table notebook</a>'\n",
              "            + ' to learn more about interactive tables.';\n",
              "          element.innerHTML = '';\n",
              "          dataTable['output_type'] = 'display_data';\n",
              "          await google.colab.output.renderOutput(dataTable, element);\n",
              "          const docLink = document.createElement('div');\n",
              "          docLink.innerHTML = docLinkHtml;\n",
              "          element.appendChild(docLink);\n",
              "        }\n",
              "      </script>\n",
              "    </div>\n",
              "  </div>\n",
              "  "
            ]
          },
          "metadata": {},
          "execution_count": 9
        }
      ]
    },
    {
      "cell_type": "code",
      "source": [
        "print(y_test.value_counts())"
      ],
      "metadata": {
        "colab": {
          "base_uri": "https://localhost:8080/"
        },
        "id": "tLXH_Yx1AriU",
        "outputId": "0ccf5ea2-2a7c-4f69-f665-a718ba82cd93"
      },
      "execution_count": 10,
      "outputs": [
        {
          "output_type": "stream",
          "name": "stdout",
          "text": [
            "0.0    15\n",
            "1.0     3\n",
            "Name: 90day-mortality, dtype: int64\n"
          ]
        }
      ]
    },
    {
      "cell_type": "markdown",
      "source": [
        "保存先の./outディレクトリに以下のファイルが保存されていることを確認する。\n",
        "* 模擬データを作成するためのベイジアンネットワークモデルを保管するdescription.jsonファイル\n",
        "* 学習済のベイジアンネットワークモデルを使い作成した模擬データを保管するsynthetic_data.csv\n"
      ],
      "metadata": {
        "id": "U4W32uJ9DMbf"
      }
    },
    {
      "cell_type": "code",
      "source": [
        "!tree ./out"
      ],
      "metadata": {
        "colab": {
          "base_uri": "https://localhost:8080/"
        },
        "id": "tJfyT4DIDPS_",
        "outputId": "08b4fb47-b89a-4813-ed8a-b38bbf3de4a5"
      },
      "execution_count": 11,
      "outputs": [
        {
          "output_type": "stream",
          "name": "stdout",
          "text": [
            "./out\n",
            "├── description_simplified.json\n",
            "└── synthetic_data_simplified.csv\n",
            "\n",
            "0 directories, 2 files\n"
          ]
        }
      ]
    },
    {
      "cell_type": "markdown",
      "source": [
        "### RF解析モデル\n"
      ],
      "metadata": {
        "id": "SBdqD7ZPDROD"
      }
    },
    {
      "cell_type": "markdown",
      "source": [
        "学習モデルを構築する為の学習アルゴリズムには、ランダムフォレストを使用します。\n",
        "まずデータセット分割を行います。\n",
        "教示あり学習には主に交差検証とホールドアウト法がありますが今回はシンプルにホールドアウト法を使ってモデル構築を行います。\n",
        "ホールドアウト法：学習用と評価用にデータセットに分けてから、学習用でモデルを作成してから、評価用のデータでうまく予測する事ができるか確認していきます。\n",
        "X_allにフィーチャー、y_allにラベルと分割し、さらにX_allとy_allを学習用と評価用に分割しました。\n",
        "評価用を30％、学習用を70%と指定しました。\n",
        "加え、ラベルのインデックスは、\n",
        "*   0: 間質性肺炎感染90日後の生存者\n",
        "*   1: 間質性肺炎感染90日後の死者\n",
        "\n",
        "となっています。\n",
        "\n",
        "分割方法についてですが# Scikit-learnのtrain_test_split()を使い自動的にデータセットを学習用と評価用に分割します。test_sizeを0.3にして学習用を30%、訓練用を70%といったように分割できます。加え、random_stateを42にして実験の再現性を向上させます\n"
      ],
      "metadata": {
        "id": "OQMYGFAeDTQA"
      }
    },
    {
      "cell_type": "code",
      "source": [
        "#IDを削除\n",
        "finalized_df = post_processed_data_frame.drop(labels=['ID'], axis=1)\n",
        "\n",
        "# 行数と列数を変数として保管する\n",
        "NUM_ROWS, NUM_COLS = finalized_df.shape[0], finalized_df.shape[1]\n",
        "\n",
        "# Y (ラベル) ターゲットラベル\n",
        "Y_col = '90day-mortality'\n",
        "# X (フィーチャー) ターゲットラベル以外の全ての行\n",
        "X_cols = finalized_df.loc[:, finalized_df.columns != Y_col].columns\n",
        "\n",
        "X_train, X_val, y_train, y_val = \\\n",
        "train_test_split(finalized_df[X_cols], finalized_df[Y_col],test_size=0.3, random_state=0)\n",
        "\n",
        "X_train_op, X_val_op, y_train_op, y_val_op = X_train.copy(), X_val.copy(), y_train.copy(), y_val.copy()\n",
        "\n",
        "print(\"X_train.shape = \", X_train.shape, \" \\t y_train.shape = \", y_train.shape)\n",
        "print(\"X_val.shape = \", X_val.shape, \" \\t y_val.shape = \", y_val.shape)\n"
      ],
      "metadata": {
        "colab": {
          "base_uri": "https://localhost:8080/"
        },
        "id": "O6pvCgO2Db55",
        "outputId": "b41bb652-7e85-4c47-d0a4-e3a05c0ff969"
      },
      "execution_count": 12,
      "outputs": [
        {
          "output_type": "stream",
          "name": "stdout",
          "text": [
            "X_train.shape =  (99, 6)  \t y_train.shape =  (99,)\n",
            "X_val.shape =  (43, 6)  \t y_val.shape =  (43,)\n"
          ]
        }
      ]
    },
    {
      "cell_type": "markdown",
      "source": [
        "学習用データセットに含まれている各ラベル毎のサンプル数をカウントしてみます．"
      ],
      "metadata": {
        "id": "ziLHO70UDfRF"
      }
    },
    {
      "cell_type": "code",
      "source": [
        "uniq_train, counts_train = np.unique(y_train, return_counts=True)\n",
        "print(\"y_train count each labels: \", dict(zip(uniq_train, counts_train)))"
      ],
      "metadata": {
        "colab": {
          "base_uri": "https://localhost:8080/"
        },
        "id": "Fb9-JxwwDigf",
        "outputId": "56a02930-f4c3-45cd-abd6-afd2e5f24cb2"
      },
      "execution_count": 13,
      "outputs": [
        {
          "output_type": "stream",
          "name": "stdout",
          "text": [
            "y_train count each labels:  {0.0: 65, 1.0: 34}\n"
          ]
        }
      ]
    },
    {
      "cell_type": "markdown",
      "source": [
        "評価用データについても同様にラベル毎のサンプル数をカウントします．"
      ],
      "metadata": {
        "id": "yV2U2UZHDkwC"
      }
    },
    {
      "cell_type": "code",
      "source": [
        "uniq_test, counts_test = np.unique(y_val, return_counts=True)\n",
        "print(\"y_val count each labels: \", dict(zip(uniq_test, counts_test)))"
      ],
      "metadata": {
        "colab": {
          "base_uri": "https://localhost:8080/"
        },
        "id": "jyYsTR8hDlsO",
        "outputId": "f14c65b4-81b1-435f-c3b2-4387ea9a9b41"
      },
      "execution_count": 14,
      "outputs": [
        {
          "output_type": "stream",
          "name": "stdout",
          "text": [
            "y_val count each labels:  {0.0: 25, 1.0: 18}\n"
          ]
        }
      ]
    },
    {
      "cell_type": "markdown",
      "source": [
        "### モデル構築から予測精度の確認"
      ],
      "metadata": {
        "id": "uNOrGukeDnx-"
      }
    },
    {
      "cell_type": "markdown",
      "source": [
        "学習したデータに対してとても良い精度を出すモデルであっても、予測が必要な新たなデータに対する精度が非常に低い、いわゆる「過学習」という状態になることが良くあります。こうならないように、汎用的に良い精度になるモデルを作成するためには、妥当性の検証が必要になります。\n",
        "妥当性の検証としては方法を二通り行います：\n",
        "* クロスバリデーション\n",
        "* Optuna\n",
        "\n"
      ],
      "metadata": {
        "id": "2--RpMs_Drj2"
      }
    },
    {
      "cell_type": "markdown",
      "source": [
        "#### クロスバリデーション"
      ],
      "metadata": {
        "id": "rV460L6CDyRn"
      }
    },
    {
      "cell_type": "markdown",
      "source": [
        "クロスバリデーションを使った最終モデル選択までの手順：\n",
        "1. 使うモデルの候補を上げる：RandomForestClassifier --> ランダムフォレストのパラメーターは、初期値として作成する決定木を42、最大の深さを1にしてみます。)\n",
        "\n",
        "2. それぞれのモデルでクロスバリデーションを行い、感度や特異度などの精度を算出する (決定木を50, 150, 250, 350; 最大の深さを1から20でランダムフォレストモデルを定義する) \n",
        "\n",
        "3. クロスバリデーションの結果、テストデータでの精度が一番高そうなモデルを選択\n"
      ],
      "metadata": {
        "id": "94FaU9syD1fA"
      }
    },
    {
      "cell_type": "code",
      "source": [
        "# cross validationを使い、階層や決定木の数をチューニングしてみる（ハイパーパラメーター）\n",
        "# 注：過適合/過剰適合のバランスを見極めながらハイパーパラメーターチューニングを行う\n",
        "best_accuracy = 0\n",
        "best_depth = 1\n",
        "best_num_trees = 42\n",
        "\n",
        "for ntrees in range(50,450,100):  # 決定木50から350の間（ステップ数：100)\n",
        "    for d in range(1,20): # 階層1から20の間\n",
        "        rforest_model = ensemble.RandomForestClassifier(\n",
        "            n_estimators= ntrees,\n",
        "            criterion='entropy',\n",
        "            max_depth=d,\n",
        "            min_samples_split=2,\n",
        "            min_samples_leaf=1,\n",
        "            min_weight_fraction_leaf=0.0,\n",
        "            max_features='auto',\n",
        "            max_leaf_nodes=None,\n",
        "            min_impurity_decrease=0.0,\n",
        "            bootstrap=True,\n",
        "            oob_score=False,\n",
        "            n_jobs=-1,\n",
        "            random_state=0,\n",
        "            verbose=0,\n",
        "            warm_start=False,\n",
        "            class_weight='balanced'\n",
        "        )\n",
        "        cv_scores = cross_val_score( rforest_model, X_train, y_train, cv=5 ) # 5 はトレーニング・テストの割合が8割・2割ということを表す\n",
        "        average_cv_accuracy = cv_scores.mean()  # cvスコアの平均値cv=5はスコアを五つ出すため、その平均値を見る\n",
        "        if average_cv_accuracy >= best_accuracy: # cvスコアの平均値正確性が現在の最適正確性を上回った場合、現在のcvスコア平均値を出した決定木数・階層を最適とする\n",
        "            best_accuracy = average_cv_accuracy\n",
        "            best_depth = d\n",
        "            best_num_trees = ntrees\n",
        "        print(f\"階層: {d:2d} 決定木: {ntrees:3d} cv スコア平均値: {average_cv_accuracy:7.4f}\")\n",
        "\n",
        "print()\n",
        "print(f\"最適層: {best_depth}, 最適決定木数： {best_num_trees}, 最高予測精度：{best_accuracy}\")\n",
        "\n",
        "# 上記で見つけた最適層・最適決定木数をもとにモデルの構築・モデルのトレーニング\n",
        "rforest_model_cv = ensemble.RandomForestClassifier(max_depth=best_depth, n_estimators=best_num_trees) # ensemble.RandomForestClassifierからRF解析モデルを引っ張ってくる\n",
        "\n",
        "# モデルを再度トレーニングする\n",
        "rforest_model_cv.fit(X_train, y_train) # .fit()がトレーニングデータを使い、モデルをトレーニングしろというコマンド\n",
        "\n",
        "# 再度トレーニングした後のモデルのパフォーマンス検証\n",
        "# テストデータにrforest_modelに.predict()関数を応用し、RFモデルがラベルを何個正確に予測出来たかを検証する\n",
        "y_pred = rforest_model_cv.predict(X_val)\n",
        "\n",
        "#モデルを作成する段階でのモデルの識別精度\n",
        "trainaccuracy_random_forest = rforest_model_cv.score(X_train, y_train)\n",
        "print('TrainAccuracy: {}'.format(trainaccuracy_random_forest))\n",
        "\n",
        "#作成したモデルに学習に使用していない評価用のデータセットを入力し精度を確認\n",
        "accuracy_random_forest = accuracy_score(y_val, y_pred)\n",
        "print('Accuracy: {}'.format(accuracy_random_forest))\n",
        "\n",
        "# 正確性の出力\n",
        "print(classification_report(y_val, y_pred))"
      ],
      "metadata": {
        "colab": {
          "base_uri": "https://localhost:8080/"
        },
        "id": "3soCAvOjDrMB",
        "outputId": "71e91fe3-2ec7-4d5b-d683-5d4904080d28"
      },
      "execution_count": 15,
      "outputs": [
        {
          "output_type": "stream",
          "name": "stdout",
          "text": [
            "階層:  1 決定木:  50 cv スコア平均値:  0.5763\n",
            "階層:  2 決定木:  50 cv スコア平均値:  0.6063\n",
            "階層:  3 決定木:  50 cv スコア平均値:  0.6568\n",
            "階層:  4 決定木:  50 cv スコア平均値:  0.6568\n",
            "階層:  5 決定木:  50 cv スコア平均値:  0.6463\n",
            "階層:  6 決定木:  50 cv スコア平均値:  0.6774\n",
            "階層:  7 決定木:  50 cv スコア平均値:  0.6574\n",
            "階層:  8 決定木:  50 cv スコア平均値:  0.6474\n",
            "階層:  9 決定木:  50 cv スコア平均値:  0.6474\n",
            "階層: 10 決定木:  50 cv スコア平均値:  0.6574\n",
            "階層: 11 決定木:  50 cv スコア平均値:  0.6474\n",
            "階層: 12 決定木:  50 cv スコア平均値:  0.6574\n",
            "階層: 13 決定木:  50 cv スコア平均値:  0.6574\n",
            "階層: 14 決定木:  50 cv スコア平均値:  0.6574\n",
            "階層: 15 決定木:  50 cv スコア平均値:  0.6574\n",
            "階層: 16 決定木:  50 cv スコア平均値:  0.6574\n",
            "階層: 17 決定木:  50 cv スコア平均値:  0.6574\n",
            "階層: 18 決定木:  50 cv スコア平均値:  0.6574\n",
            "階層: 19 決定木:  50 cv スコア平均値:  0.6574\n",
            "階層:  1 決定木: 150 cv スコア平均値:  0.5968\n",
            "階層:  2 決定木: 150 cv スコア平均値:  0.5758\n",
            "階層:  3 決定木: 150 cv スコア平均値:  0.6668\n",
            "階層:  4 決定木: 150 cv スコア平均値:  0.6974\n",
            "階層:  5 決定木: 150 cv スコア平均値:  0.6974\n",
            "階層:  6 決定木: 150 cv スコア平均値:  0.6884\n",
            "階層:  7 決定木: 150 cv スコア平均値:  0.6779\n",
            "階層:  8 決定木: 150 cv スコア平均値:  0.6784\n",
            "階層:  9 決定木: 150 cv スコア平均値:  0.6784\n",
            "階層: 10 決定木: 150 cv スコア平均値:  0.6784\n",
            "階層: 11 決定木: 150 cv スコア平均値:  0.6884\n",
            "階層: 12 決定木: 150 cv スコア平均値:  0.6884\n",
            "階層: 13 決定木: 150 cv スコア平均値:  0.6884\n",
            "階層: 14 決定木: 150 cv スコア平均値:  0.6884\n",
            "階層: 15 決定木: 150 cv スコア平均値:  0.6884\n",
            "階層: 16 決定木: 150 cv スコア平均値:  0.6884\n",
            "階層: 17 決定木: 150 cv スコア平均値:  0.6884\n",
            "階層: 18 決定木: 150 cv スコア平均値:  0.6884\n",
            "階層: 19 決定木: 150 cv スコア平均値:  0.6884\n",
            "階層:  1 決定木: 250 cv スコア平均値:  0.5763\n",
            "階層:  2 決定木: 250 cv スコア平均値:  0.6058\n",
            "階層:  3 決定木: 250 cv スコア平均値:  0.6263\n",
            "階層:  4 決定木: 250 cv スコア平均値:  0.6674\n",
            "階層:  5 決定木: 250 cv スコア平均値:  0.6768\n",
            "階層:  6 決定木: 250 cv スコア平均値:  0.6574\n",
            "階層:  7 決定木: 250 cv スコア平均値:  0.6674\n",
            "階層:  8 決定木: 250 cv スコア平均値:  0.6574\n",
            "階層:  9 決定木: 250 cv スコア平均値:  0.6679\n",
            "階層: 10 決定木: 250 cv スコア平均値:  0.6679\n",
            "階層: 11 決定木: 250 cv スコア平均値:  0.6779\n",
            "階層: 12 決定木: 250 cv スコア平均値:  0.6679\n",
            "階層: 13 決定木: 250 cv スコア平均値:  0.6679\n",
            "階層: 14 決定木: 250 cv スコア平均値:  0.6679\n",
            "階層: 15 決定木: 250 cv スコア平均値:  0.6679\n",
            "階層: 16 決定木: 250 cv スコア平均値:  0.6679\n",
            "階層: 17 決定木: 250 cv スコア平均値:  0.6679\n",
            "階層: 18 決定木: 250 cv スコア平均値:  0.6679\n",
            "階層: 19 決定木: 250 cv スコア平均値:  0.6679\n",
            "階層:  1 決定木: 350 cv スコア平均値:  0.5863\n",
            "階層:  2 決定木: 350 cv スコア平均値:  0.5958\n",
            "階層:  3 決定木: 350 cv スコア平均値:  0.6158\n",
            "階層:  4 決定木: 350 cv スコア平均値:  0.6774\n",
            "階層:  5 決定木: 350 cv スコア平均値:  0.6768\n",
            "階層:  6 決定木: 350 cv スコア平均値:  0.6979\n",
            "階層:  7 決定木: 350 cv スコア平均値:  0.6679\n",
            "階層:  8 決定木: 350 cv スコア平均値:  0.6779\n",
            "階層:  9 決定木: 350 cv スコア平均値:  0.6779\n",
            "階層: 10 決定木: 350 cv スコア平均値:  0.6779\n",
            "階層: 11 決定木: 350 cv スコア平均値:  0.6779\n",
            "階層: 12 決定木: 350 cv スコア平均値:  0.6779\n",
            "階層: 13 決定木: 350 cv スコア平均値:  0.6779\n",
            "階層: 14 決定木: 350 cv スコア平均値:  0.6779\n",
            "階層: 15 決定木: 350 cv スコア平均値:  0.6779\n",
            "階層: 16 決定木: 350 cv スコア平均値:  0.6779\n",
            "階層: 17 決定木: 350 cv スコア平均値:  0.6779\n",
            "階層: 18 決定木: 350 cv スコア平均値:  0.6779\n",
            "階層: 19 決定木: 350 cv スコア平均値:  0.6779\n",
            "\n",
            "最適層: 6, 最適決定木数： 350, 最高予測精度：0.6978947368421053\n",
            "TrainAccuracy: 1.0\n",
            "Accuracy: 0.5813953488372093\n",
            "              precision    recall  f1-score   support\n",
            "\n",
            "         0.0       0.61      0.76      0.68        25\n",
            "         1.0       0.50      0.33      0.40        18\n",
            "\n",
            "    accuracy                           0.58        43\n",
            "   macro avg       0.56      0.55      0.54        43\n",
            "weighted avg       0.57      0.58      0.56        43\n",
            "\n"
          ]
        }
      ]
    },
    {
      "cell_type": "markdown",
      "source": [
        "* 適合率(specificity, precision)とは、positiveと分類したデータ(TP + FP)の中で実際にpositiveだったデータ(TP)数の割合であり、この値が高いほど性能が良く、間違った分類が少ないということを意味します。\n",
        "\n",
        "* 再現率(sensitivity, recall)では、取りこぼし無くpositiveなデータを正しくpositiveと推測できているかどうかの指標となります。この値が高いほど性能がよく、間違ったpositiveの判断が少ないということであり、別の言い方をすると本来positiveと推測すべき全てのデータを、うまく推測できたかどうかを示します。\n",
        "\n",
        "* F-MeasureはF値またはF尺度と呼ばれており、適合率と再現率の調和平均を示します。高ければ高いほど、適合率と再現率ともに高くなり、バランスを示す事ができます。\n",
        "\n",
        "また，クラスごとのスコアの下に，複数の平均スコアが表示されていますが，それぞれの意味は以下の通りです．\n",
        "\n",
        "* マイクロ平均 (micro avg) : 各クラスを区別せずに，混同行列全体からスコアを算出．計算結果はいずれも正解率と一致\n",
        "* マクロ平均 (macro avg) : クラスごとに算出されたスコアの単純平均\n",
        "* 重み付き平均 (weighted avg) : クラスごとに算出されたスコアをサンプル数の比率で重み付けした加重平均"
      ],
      "metadata": {
        "id": "_KJg_D2HEHNG"
      }
    },
    {
      "cell_type": "markdown",
      "source": [
        "予測結果を確認していきましょう。\n",
        "\n",
        "混同行列とよばれる，予測の分類結果をまとめた表を作成します．行方向（表側）を正解ラベル，列方向（表頭）を予測ラベルとして，各項目では以下の集計値を求めています．\n",
        "\n",
        "* 左上 : 実際に生存者であるサンプルが，生存者と予測された数\n",
        "* 右上 : 実際に生存者であるサンプルが、死者と予測された数\n",
        "* 左下 : 実際に死者であるサンプルが，生存者と予測された数\n",
        "* 右下 : 実際に死者であるサンプルが，死者と予測された数"
      ],
      "metadata": {
        "id": "shWAJjjOEJG0"
      }
    },
    {
      "cell_type": "code",
      "source": [
        "result = confusion_matrix(y_val, y_pred)\n",
        "print(\"Confusion Matrix:\")\n",
        "#confusion matrix\n",
        "labels = sorted(finalized_df['90day-mortality'].unique())\n",
        "ax = sns.heatmap(\n",
        "confusion_matrix(y_val, y_pred),\n",
        "annot=True,\n",
        "xticklabels=labels,\n",
        "yticklabels=labels\n",
        ")\n",
        "ax.set(xlabel='true label', ylabel='predicted label')"
      ],
      "metadata": {
        "colab": {
          "base_uri": "https://localhost:8080/",
          "height": 321
        },
        "id": "0b400zeREKqg",
        "outputId": "a02311a3-711a-4eca-cfff-1c2a5cbf4076"
      },
      "execution_count": 16,
      "outputs": [
        {
          "output_type": "stream",
          "name": "stdout",
          "text": [
            "Confusion Matrix:\n"
          ]
        },
        {
          "output_type": "execute_result",
          "data": {
            "text/plain": [
              "[Text(30.5, 0.5, 'predicted label'), Text(0.5, 12.5, 'true label')]"
            ]
          },
          "metadata": {},
          "execution_count": 16
        },
        {
          "output_type": "display_data",
          "data": {
            "text/plain": [
              "<Figure size 432x288 with 2 Axes>"
            ],
            "image/png": "[encoded data removed]"
          },
          "metadata": {
            "needs_background": "light"
          }
        }
      ]
    },
    {
      "cell_type": "markdown",
      "source": [
        "サンプル数が多い生存者に対する予測スコアは高い値を示す一方で，サンプル数の少ない死者に対しては，スコアが低くなる傾向があります．今回のデータセットのように，サンプルが占めるクラスの割合が極端に偏っている不均衡データでは，こうした傾向が観測されることが知られています．\n"
      ],
      "metadata": {
        "id": "ujDYTJQzEOkv"
      }
    },
    {
      "cell_type": "markdown",
      "source": [
        "#### Optuna"
      ],
      "metadata": {
        "id": "uAis8mf4PiDw"
      }
    },
    {
      "cell_type": "markdown",
      "source": [
        "OptunaとはPreferred Networks社が出しているハイパーパラメータ自動化ツールです。Tree-structured Parzen Estimator というベイズ最適化アルゴリズムの一種を用いていて有望そうなハイパーパレメーターを正確に特定できます。\n",
        "objective()というOptunaの目的関数を設定する関数でRandomForestClassifierのパラメーターを設定しています。\n",
        "RandomForestClassifier()のパラメーターについて：\n",
        "1.   criterion - 評価基準 (ジニ係数またはエントロピー)\n",
        "2.   bootstrap - 決定木構築の際にブートストラップサンプルを使用するかどうか\n",
        "3.   max_depth - 先のn_estimatorsで指定した決定木／回帰木の深さの指定\n",
        "4.   max_features - 個々の決定木に、どれくらいの特徴量を使用するかを、表します\n",
        "5.   max_leaf_nodes - 決定木をベスト・ファーストの方法で成長させる\n",
        "6.   n_estimators - ベースとして利用する決定木／回帰木の数\n",
        "7.   min_samples_split - 子ノードを分割するために必要なサンプルの最小数\n",
        "8.   min_samples_leaf - リーフノードにある必要があるサンプルの最小数\n",
        "\n",
        "詳しくはこちらを参照して下さい [[3](https://scikit-learn.org/stable/modules/generated/sklearn.ensemble.RandomForestClassifier.html)]。\n",
        "\n",
        "\n"
      ],
      "metadata": {
        "id": "cFaRncCyPi7f"
      }
    },
    {
      "cell_type": "code",
      "source": [
        "# def objective_complete(trial):\n",
        "#   criterion = trial.suggest_categorical('criterion', ['gini', 'entropy'])\n",
        "#   bootstrap = trial.suggest_categorical('bootstrap',['True','False'])\n",
        "#   max_depth = trial.suggest_int('max_depth', 1, 1000)\n",
        "#   max_features = trial.suggest_categorical('max_features', ['auto', 'sqrt','log2'])\n",
        "#   max_leaf_nodes = trial.suggest_int('max_leaf_nodes', 1,1000)\n",
        "#   n_estimators =  trial.suggest_int('n_estimators', 1, 1000)\n",
        "#   min_samples_split = trial.suggest_int('min_samples_split',2,5)\n",
        "#   min_samples_leaf = trial.suggest_int('min_samples_leaf',1,10)\n",
        "\n",
        "#   regr = ensemble.RandomForestClassifier(\n",
        "#       bootstrap = bootstrap, criterion = criterion,\n",
        "#       max_depth = max_depth, max_features = max_features,\n",
        "#       max_leaf_nodes = max_leaf_nodes,n_estimators = n_estimators,\n",
        "#       min_samples_split = min_samples_split,min_samples_leaf = min_samples_leaf,\n",
        "#       n_jobs=2)\n",
        "\n",
        "#   score = cross_val_score(regr, X_train_op, y_train_op, cv=5, scoring=\"r2\")\n",
        "#   r2_mean = score.mean()\n",
        "#   return r2_mean\n",
        "\n",
        "def objective(trial):\n",
        "      n_estimators = trial.suggest_int('n_estimators', 2, 20)\n",
        "      max_depth = int(trial.suggest_loguniform('max_depth', 1, 32))\n",
        "      clf = sklearn.ensemble.RandomForestClassifier(n_estimators=n_estimators, max_depth=max_depth)\n",
        "      return sklearn.model_selection.cross_val_score(clf, X_train_op, y_train_op, cv=5, n_jobs=-1).mean()\n",
        "\n",
        "study = optuna.create_study(direction='maximize')\n",
        "study.optimize(objective, n_trials=100)\n",
        "\n",
        "trial = study.best_trial\n",
        "print('Accuracy: {}'.format(trial.value))\n",
        "\n",
        "# チューニングしたハイパーパラメーターをフィット\n",
        "rforest_model_post_optuna = ensemble.RandomForestClassifier(\n",
        "                                     max_depth = trial.params['max_depth'],\n",
        "                                     n_estimators = trial.params['n_estimators'],                                    \n",
        "                                     n_jobs=-1)\n",
        "\n",
        "# モデルを再度トレーニングする\n",
        "rforest_model_post_optuna.fit(X_train_op, y_train_op) \n",
        "\n",
        "# 再度トレーニングした後のモデルのパフォーマンス検証\n",
        "# テストデータにrforest_modelに.predict()関数を応用し、RFモデルがラベルを何個正確に予測出来たかを検証する\n",
        "y_pred_op = rforest_model_post_optuna.predict(X_val_op)\n",
        "\n",
        "#モデルを作成する段階でのモデルの識別精度\n",
        "trainaccuracy_random_forest_op = rforest_model_post_optuna.score(X_train_op, y_train_op)\n",
        "print('TrainAccuracy: {}'.format(trainaccuracy_random_forest_op))\n",
        "\n",
        "#作成したモデルに学習に使用していない評価用のデータセットを入力し精度を確認\n",
        "accuracy_random_forest_op = accuracy_score(y_val_op, y_pred_op)\n",
        "print('Accuracy: {}'.format(accuracy_random_forest_op))\n",
        "\n",
        "# 正確性の出力\n",
        "print(classification_report(y_val_op, y_pred_op))\n"
      ],
      "metadata": {
        "colab": {
          "base_uri": "https://localhost:8080/"
        },
        "id": "LmKR_hFZPnJu",
        "outputId": "8aaa63e0-ceb6-441a-d37b-475267b24650"
      },
      "execution_count": 17,
      "outputs": [
        {
          "output_type": "stream",
          "name": "stderr",
          "text": [
            "\u001b[32m[I 2022-11-15 10:37:20,571]\u001b[0m A new study created in memory with name: no-name-37731ea6-801e-4083-8fda-381cf696472a\u001b[0m\n",
            "/usr/local/lib/python3.7/dist-packages/ipykernel_launcher.py:24: FutureWarning: suggest_loguniform has been deprecated in v3.0.0. This feature will be removed in v6.0.0. See https://github.com/optuna/optuna/releases/tag/v3.0.0. Use :func:`~optuna.trial.Trial.suggest_float` instead.\n",
            "\u001b[32m[I 2022-11-15 10:37:20,971]\u001b[0m Trial 0 finished with value: 0.6373684210526316 and parameters: {'n_estimators': 12, 'max_depth': 21.542258652610673}. Best is trial 0 with value: 0.6373684210526316.\u001b[0m\n",
            "/usr/local/lib/python3.7/dist-packages/ipykernel_launcher.py:24: FutureWarning: suggest_loguniform has been deprecated in v3.0.0. This feature will be removed in v6.0.0. See https://github.com/optuna/optuna/releases/tag/v3.0.0. Use :func:`~optuna.trial.Trial.suggest_float` instead.\n",
            "\u001b[32m[I 2022-11-15 10:37:21,030]\u001b[0m Trial 1 finished with value: 0.6373684210526316 and parameters: {'n_estimators': 2, 'max_depth': 1.1318653807903103}. Best is trial 0 with value: 0.6373684210526316.\u001b[0m\n",
            "/usr/local/lib/python3.7/dist-packages/ipykernel_launcher.py:24: FutureWarning: suggest_loguniform has been deprecated in v3.0.0. This feature will be removed in v6.0.0. See https://github.com/optuna/optuna/releases/tag/v3.0.0. Use :func:`~optuna.trial.Trial.suggest_float` instead.\n",
            "\u001b[32m[I 2022-11-15 10:37:21,162]\u001b[0m Trial 2 finished with value: 0.6673684210526315 and parameters: {'n_estimators': 20, 'max_depth': 2.1457635911821806}. Best is trial 2 with value: 0.6673684210526315.\u001b[0m\n",
            "/usr/local/lib/python3.7/dist-packages/ipykernel_launcher.py:24: FutureWarning: suggest_loguniform has been deprecated in v3.0.0. This feature will be removed in v6.0.0. See https://github.com/optuna/optuna/releases/tag/v3.0.0. Use :func:`~optuna.trial.Trial.suggest_float` instead.\n",
            "\u001b[32m[I 2022-11-15 10:37:21,276]\u001b[0m Trial 3 finished with value: 0.6657894736842105 and parameters: {'n_estimators': 14, 'max_depth': 12.205086781372572}. Best is trial 2 with value: 0.6673684210526315.\u001b[0m\n",
            "/usr/local/lib/python3.7/dist-packages/ipykernel_launcher.py:24: FutureWarning: suggest_loguniform has been deprecated in v3.0.0. This feature will be removed in v6.0.0. See https://github.com/optuna/optuna/releases/tag/v3.0.0. Use :func:`~optuna.trial.Trial.suggest_float` instead.\n",
            "\u001b[32m[I 2022-11-15 10:37:21,395]\u001b[0m Trial 4 finished with value: 0.6468421052631579 and parameters: {'n_estimators': 19, 'max_depth': 1.0754679606399233}. Best is trial 2 with value: 0.6673684210526315.\u001b[0m\n",
            "/usr/local/lib/python3.7/dist-packages/ipykernel_launcher.py:24: FutureWarning: suggest_loguniform has been deprecated in v3.0.0. This feature will be removed in v6.0.0. See https://github.com/optuna/optuna/releases/tag/v3.0.0. Use :func:`~optuna.trial.Trial.suggest_float` instead.\n",
            "\u001b[32m[I 2022-11-15 10:37:21,464]\u001b[0m Trial 5 finished with value: 0.6468421052631579 and parameters: {'n_estimators': 7, 'max_depth': 21.35458037077161}. Best is trial 2 with value: 0.6673684210526315.\u001b[0m\n",
            "/usr/local/lib/python3.7/dist-packages/ipykernel_launcher.py:24: FutureWarning: suggest_loguniform has been deprecated in v3.0.0. This feature will be removed in v6.0.0. See https://github.com/optuna/optuna/releases/tag/v3.0.0. Use :func:`~optuna.trial.Trial.suggest_float` instead.\n",
            "\u001b[32m[I 2022-11-15 10:37:21,537]\u001b[0m Trial 6 finished with value: 0.6163157894736843 and parameters: {'n_estimators': 8, 'max_depth': 2.0522726983108623}. Best is trial 2 with value: 0.6673684210526315.\u001b[0m\n",
            "/usr/local/lib/python3.7/dist-packages/ipykernel_launcher.py:24: FutureWarning: suggest_loguniform has been deprecated in v3.0.0. This feature will be removed in v6.0.0. See https://github.com/optuna/optuna/releases/tag/v3.0.0. Use :func:`~optuna.trial.Trial.suggest_float` instead.\n",
            "\u001b[32m[I 2022-11-15 10:37:21,641]\u001b[0m Trial 7 finished with value: 0.6678947368421053 and parameters: {'n_estimators': 13, 'max_depth': 2.215225005778832}. Best is trial 7 with value: 0.6678947368421053.\u001b[0m\n",
            "/usr/local/lib/python3.7/dist-packages/ipykernel_launcher.py:24: FutureWarning: suggest_loguniform has been deprecated in v3.0.0. This feature will be removed in v6.0.0. See https://github.com/optuna/optuna/releases/tag/v3.0.0. Use :func:`~optuna.trial.Trial.suggest_float` instead.\n",
            "\u001b[32m[I 2022-11-15 10:37:21,718]\u001b[0m Trial 8 finished with value: 0.6773684210526316 and parameters: {'n_estimators': 8, 'max_depth': 5.480215031977668}. Best is trial 8 with value: 0.6773684210526316.\u001b[0m\n",
            "/usr/local/lib/python3.7/dist-packages/ipykernel_launcher.py:24: FutureWarning: suggest_loguniform has been deprecated in v3.0.0. This feature will be removed in v6.0.0. See https://github.com/optuna/optuna/releases/tag/v3.0.0. Use :func:`~optuna.trial.Trial.suggest_float` instead.\n",
            "\u001b[32m[I 2022-11-15 10:37:21,801]\u001b[0m Trial 9 finished with value: 0.6668421052631579 and parameters: {'n_estimators': 11, 'max_depth': 6.807933337894288}. Best is trial 8 with value: 0.6773684210526316.\u001b[0m\n",
            "/usr/local/lib/python3.7/dist-packages/ipykernel_launcher.py:24: FutureWarning: suggest_loguniform has been deprecated in v3.0.0. This feature will be removed in v6.0.0. See https://github.com/optuna/optuna/releases/tag/v3.0.0. Use :func:`~optuna.trial.Trial.suggest_float` instead.\n",
            "\u001b[32m[I 2022-11-15 10:37:21,860]\u001b[0m Trial 10 finished with value: 0.5552631578947368 and parameters: {'n_estimators': 4, 'max_depth': 5.398134858968601}. Best is trial 8 with value: 0.6773684210526316.\u001b[0m\n",
            "/usr/local/lib/python3.7/dist-packages/ipykernel_launcher.py:24: FutureWarning: suggest_loguniform has been deprecated in v3.0.0. This feature will be removed in v6.0.0. See https://github.com/optuna/optuna/releases/tag/v3.0.0. Use :func:`~optuna.trial.Trial.suggest_float` instead.\n",
            "\u001b[32m[I 2022-11-15 10:37:21,975]\u001b[0m Trial 11 finished with value: 0.5957894736842105 and parameters: {'n_estimators': 16, 'max_depth': 3.997888660080688}. Best is trial 8 with value: 0.6773684210526316.\u001b[0m\n",
            "/usr/local/lib/python3.7/dist-packages/ipykernel_launcher.py:24: FutureWarning: suggest_loguniform has been deprecated in v3.0.0. This feature will be removed in v6.0.0. See https://github.com/optuna/optuna/releases/tag/v3.0.0. Use :func:`~optuna.trial.Trial.suggest_float` instead.\n",
            "\u001b[32m[I 2022-11-15 10:37:22,059]\u001b[0m Trial 12 finished with value: 0.6368421052631579 and parameters: {'n_estimators': 9, 'max_depth': 3.368546286406887}. Best is trial 8 with value: 0.6773684210526316.\u001b[0m\n",
            "/usr/local/lib/python3.7/dist-packages/ipykernel_launcher.py:24: FutureWarning: suggest_loguniform has been deprecated in v3.0.0. This feature will be removed in v6.0.0. See https://github.com/optuna/optuna/releases/tag/v3.0.0. Use :func:`~optuna.trial.Trial.suggest_float` instead.\n",
            "\u001b[32m[I 2022-11-15 10:37:22,175]\u001b[0m Trial 13 finished with value: 0.6568421052631579 and parameters: {'n_estimators': 16, 'max_depth': 9.331048796661932}. Best is trial 8 with value: 0.6773684210526316.\u001b[0m\n",
            "/usr/local/lib/python3.7/dist-packages/ipykernel_launcher.py:24: FutureWarning: suggest_loguniform has been deprecated in v3.0.0. This feature will be removed in v6.0.0. See https://github.com/optuna/optuna/releases/tag/v3.0.0. Use :func:`~optuna.trial.Trial.suggest_float` instead.\n",
            "\u001b[32m[I 2022-11-15 10:37:22,249]\u001b[0m Trial 14 finished with value: 0.6468421052631579 and parameters: {'n_estimators': 5, 'max_depth': 2.3354780725100937}. Best is trial 8 with value: 0.6773684210526316.\u001b[0m\n",
            "/usr/local/lib/python3.7/dist-packages/ipykernel_launcher.py:24: FutureWarning: suggest_loguniform has been deprecated in v3.0.0. This feature will be removed in v6.0.0. See https://github.com/optuna/optuna/releases/tag/v3.0.0. Use :func:`~optuna.trial.Trial.suggest_float` instead.\n",
            "\u001b[32m[I 2022-11-15 10:37:22,348]\u001b[0m Trial 15 finished with value: 0.6963157894736842 and parameters: {'n_estimators': 11, 'max_depth': 3.482403261567695}. Best is trial 15 with value: 0.6963157894736842.\u001b[0m\n",
            "/usr/local/lib/python3.7/dist-packages/ipykernel_launcher.py:24: FutureWarning: suggest_loguniform has been deprecated in v3.0.0. This feature will be removed in v6.0.0. See https://github.com/optuna/optuna/releases/tag/v3.0.0. Use :func:`~optuna.trial.Trial.suggest_float` instead.\n",
            "\u001b[32m[I 2022-11-15 10:37:22,432]\u001b[0m Trial 16 finished with value: 0.6173684210526316 and parameters: {'n_estimators': 10, 'max_depth': 12.472035422469341}. Best is trial 15 with value: 0.6963157894736842.\u001b[0m\n",
            "/usr/local/lib/python3.7/dist-packages/ipykernel_launcher.py:24: FutureWarning: suggest_loguniform has been deprecated in v3.0.0. This feature will be removed in v6.0.0. See https://github.com/optuna/optuna/releases/tag/v3.0.0. Use :func:`~optuna.trial.Trial.suggest_float` instead.\n",
            "\u001b[32m[I 2022-11-15 10:37:22,506]\u001b[0m Trial 17 finished with value: 0.6873684210526316 and parameters: {'n_estimators': 6, 'max_depth': 4.046890236541627}. Best is trial 15 with value: 0.6963157894736842.\u001b[0m\n",
            "/usr/local/lib/python3.7/dist-packages/ipykernel_launcher.py:24: FutureWarning: suggest_loguniform has been deprecated in v3.0.0. This feature will be removed in v6.0.0. See https://github.com/optuna/optuna/releases/tag/v3.0.0. Use :func:`~optuna.trial.Trial.suggest_float` instead.\n",
            "\u001b[32m[I 2022-11-15 10:37:22,578]\u001b[0m Trial 18 finished with value: 0.6168421052631579 and parameters: {'n_estimators': 6, 'max_depth': 3.3221173804704485}. Best is trial 15 with value: 0.6963157894736842.\u001b[0m\n",
            "/usr/local/lib/python3.7/dist-packages/ipykernel_launcher.py:24: FutureWarning: suggest_loguniform has been deprecated in v3.0.0. This feature will be removed in v6.0.0. See https://github.com/optuna/optuna/releases/tag/v3.0.0. Use :func:`~optuna.trial.Trial.suggest_float` instead.\n",
            "\u001b[32m[I 2022-11-15 10:37:22,634]\u001b[0m Trial 19 finished with value: 0.6368421052631579 and parameters: {'n_estimators': 3, 'max_depth': 7.675784561201158}. Best is trial 15 with value: 0.6963157894736842.\u001b[0m\n",
            "/usr/local/lib/python3.7/dist-packages/ipykernel_launcher.py:24: FutureWarning: suggest_loguniform has been deprecated in v3.0.0. This feature will be removed in v6.0.0. See https://github.com/optuna/optuna/releases/tag/v3.0.0. Use :func:`~optuna.trial.Trial.suggest_float` instead.\n",
            "\u001b[32m[I 2022-11-15 10:37:22,739]\u001b[0m Trial 20 finished with value: 0.6373684210526316 and parameters: {'n_estimators': 15, 'max_depth': 1.5954801963098122}. Best is trial 15 with value: 0.6963157894736842.\u001b[0m\n",
            "/usr/local/lib/python3.7/dist-packages/ipykernel_launcher.py:24: FutureWarning: suggest_loguniform has been deprecated in v3.0.0. This feature will be removed in v6.0.0. See https://github.com/optuna/optuna/releases/tag/v3.0.0. Use :func:`~optuna.trial.Trial.suggest_float` instead.\n",
            "\u001b[32m[I 2022-11-15 10:37:22,828]\u001b[0m Trial 21 finished with value: 0.6768421052631579 and parameters: {'n_estimators': 8, 'max_depth': 4.509261941899859}. Best is trial 15 with value: 0.6963157894736842.\u001b[0m\n",
            "/usr/local/lib/python3.7/dist-packages/ipykernel_launcher.py:24: FutureWarning: suggest_loguniform has been deprecated in v3.0.0. This feature will be removed in v6.0.0. See https://github.com/optuna/optuna/releases/tag/v3.0.0. Use :func:`~optuna.trial.Trial.suggest_float` instead.\n",
            "\u001b[32m[I 2022-11-15 10:37:22,955]\u001b[0m Trial 22 finished with value: 0.6268421052631579 and parameters: {'n_estimators': 10, 'max_depth': 5.449557287649386}. Best is trial 15 with value: 0.6963157894736842.\u001b[0m\n",
            "/usr/local/lib/python3.7/dist-packages/ipykernel_launcher.py:24: FutureWarning: suggest_loguniform has been deprecated in v3.0.0. This feature will be removed in v6.0.0. See https://github.com/optuna/optuna/releases/tag/v3.0.0. Use :func:`~optuna.trial.Trial.suggest_float` instead.\n",
            "\u001b[32m[I 2022-11-15 10:37:23,061]\u001b[0m Trial 23 finished with value: 0.596842105263158 and parameters: {'n_estimators': 6, 'max_depth': 3.137577662016355}. Best is trial 15 with value: 0.6963157894736842.\u001b[0m\n",
            "/usr/local/lib/python3.7/dist-packages/ipykernel_launcher.py:24: FutureWarning: suggest_loguniform has been deprecated in v3.0.0. This feature will be removed in v6.0.0. See https://github.com/optuna/optuna/releases/tag/v3.0.0. Use :func:`~optuna.trial.Trial.suggest_float` instead.\n",
            "\u001b[32m[I 2022-11-15 10:37:23,172]\u001b[0m Trial 24 finished with value: 0.6063157894736844 and parameters: {'n_estimators': 8, 'max_depth': 6.888520134999719}. Best is trial 15 with value: 0.6963157894736842.\u001b[0m\n",
            "/usr/local/lib/python3.7/dist-packages/ipykernel_launcher.py:24: FutureWarning: suggest_loguniform has been deprecated in v3.0.0. This feature will be removed in v6.0.0. See https://github.com/optuna/optuna/releases/tag/v3.0.0. Use :func:`~optuna.trial.Trial.suggest_float` instead.\n",
            "\u001b[32m[I 2022-11-15 10:37:23,344]\u001b[0m Trial 25 finished with value: 0.5963157894736844 and parameters: {'n_estimators': 11, 'max_depth': 10.743591004792506}. Best is trial 15 with value: 0.6963157894736842.\u001b[0m\n",
            "/usr/local/lib/python3.7/dist-packages/ipykernel_launcher.py:24: FutureWarning: suggest_loguniform has been deprecated in v3.0.0. This feature will be removed in v6.0.0. See https://github.com/optuna/optuna/releases/tag/v3.0.0. Use :func:`~optuna.trial.Trial.suggest_float` instead.\n",
            "\u001b[32m[I 2022-11-15 10:37:23,468]\u001b[0m Trial 26 finished with value: 0.5668421052631579 and parameters: {'n_estimators': 4, 'max_depth': 4.2599675392068015}. Best is trial 15 with value: 0.6963157894736842.\u001b[0m\n",
            "/usr/local/lib/python3.7/dist-packages/ipykernel_launcher.py:24: FutureWarning: suggest_loguniform has been deprecated in v3.0.0. This feature will be removed in v6.0.0. See https://github.com/optuna/optuna/releases/tag/v3.0.0. Use :func:`~optuna.trial.Trial.suggest_float` instead.\n",
            "\u001b[32m[I 2022-11-15 10:37:23,597]\u001b[0m Trial 27 finished with value: 0.6347368421052632 and parameters: {'n_estimators': 6, 'max_depth': 31.12523012314577}. Best is trial 15 with value: 0.6963157894736842.\u001b[0m\n",
            "/usr/local/lib/python3.7/dist-packages/ipykernel_launcher.py:24: FutureWarning: suggest_loguniform has been deprecated in v3.0.0. This feature will be removed in v6.0.0. See https://github.com/optuna/optuna/releases/tag/v3.0.0. Use :func:`~optuna.trial.Trial.suggest_float` instead.\n",
            "\u001b[32m[I 2022-11-15 10:37:23,742]\u001b[0m Trial 28 finished with value: 0.5857894736842105 and parameters: {'n_estimators': 9, 'max_depth': 2.7130274818962135}. Best is trial 15 with value: 0.6963157894736842.\u001b[0m\n",
            "/usr/local/lib/python3.7/dist-packages/ipykernel_launcher.py:24: FutureWarning: suggest_loguniform has been deprecated in v3.0.0. This feature will be removed in v6.0.0. See https://github.com/optuna/optuna/releases/tag/v3.0.0. Use :func:`~optuna.trial.Trial.suggest_float` instead.\n",
            "\u001b[32m[I 2022-11-15 10:37:23,904]\u001b[0m Trial 29 finished with value: 0.6568421052631578 and parameters: {'n_estimators': 12, 'max_depth': 1.6780725787343278}. Best is trial 15 with value: 0.6963157894736842.\u001b[0m\n",
            "/usr/local/lib/python3.7/dist-packages/ipykernel_launcher.py:24: FutureWarning: suggest_loguniform has been deprecated in v3.0.0. This feature will be removed in v6.0.0. See https://github.com/optuna/optuna/releases/tag/v3.0.0. Use :func:`~optuna.trial.Trial.suggest_float` instead.\n",
            "\u001b[32m[I 2022-11-15 10:37:24,072]\u001b[0m Trial 30 finished with value: 0.6068421052631578 and parameters: {'n_estimators': 12, 'max_depth': 4.930109827804845}. Best is trial 15 with value: 0.6963157894736842.\u001b[0m\n",
            "/usr/local/lib/python3.7/dist-packages/ipykernel_launcher.py:24: FutureWarning: suggest_loguniform has been deprecated in v3.0.0. This feature will be removed in v6.0.0. See https://github.com/optuna/optuna/releases/tag/v3.0.0. Use :func:`~optuna.trial.Trial.suggest_float` instead.\n",
            "\u001b[32m[I 2022-11-15 10:37:24,229]\u001b[0m Trial 31 finished with value: 0.6263157894736843 and parameters: {'n_estimators': 8, 'max_depth': 4.191157932234216}. Best is trial 15 with value: 0.6963157894736842.\u001b[0m\n",
            "/usr/local/lib/python3.7/dist-packages/ipykernel_launcher.py:24: FutureWarning: suggest_loguniform has been deprecated in v3.0.0. This feature will be removed in v6.0.0. See https://github.com/optuna/optuna/releases/tag/v3.0.0. Use :func:`~optuna.trial.Trial.suggest_float` instead.\n",
            "\u001b[32m[I 2022-11-15 10:37:24,368]\u001b[0m Trial 32 finished with value: 0.6373684210526316 and parameters: {'n_estimators': 7, 'max_depth': 7.679797261713823}. Best is trial 15 with value: 0.6963157894736842.\u001b[0m\n",
            "/usr/local/lib/python3.7/dist-packages/ipykernel_launcher.py:24: FutureWarning: suggest_loguniform has been deprecated in v3.0.0. This feature will be removed in v6.0.0. See https://github.com/optuna/optuna/releases/tag/v3.0.0. Use :func:`~optuna.trial.Trial.suggest_float` instead.\n",
            "\u001b[32m[I 2022-11-15 10:37:24,520]\u001b[0m Trial 33 finished with value: 0.7073684210526315 and parameters: {'n_estimators': 10, 'max_depth': 4.288747435611249}. Best is trial 33 with value: 0.7073684210526315.\u001b[0m\n",
            "/usr/local/lib/python3.7/dist-packages/ipykernel_launcher.py:24: FutureWarning: suggest_loguniform has been deprecated in v3.0.0. This feature will be removed in v6.0.0. See https://github.com/optuna/optuna/releases/tag/v3.0.0. Use :func:`~optuna.trial.Trial.suggest_float` instead.\n",
            "\u001b[32m[I 2022-11-15 10:37:24,700]\u001b[0m Trial 34 finished with value: 0.6473684210526316 and parameters: {'n_estimators': 10, 'max_depth': 2.8280286327253523}. Best is trial 33 with value: 0.7073684210526315.\u001b[0m\n",
            "/usr/local/lib/python3.7/dist-packages/ipykernel_launcher.py:24: FutureWarning: suggest_loguniform has been deprecated in v3.0.0. This feature will be removed in v6.0.0. See https://github.com/optuna/optuna/releases/tag/v3.0.0. Use :func:`~optuna.trial.Trial.suggest_float` instead.\n",
            "\u001b[32m[I 2022-11-15 10:37:24,880]\u001b[0m Trial 35 finished with value: 0.7273684210526317 and parameters: {'n_estimators': 13, 'max_depth': 3.7960882396316866}. Best is trial 35 with value: 0.7273684210526317.\u001b[0m\n",
            "/usr/local/lib/python3.7/dist-packages/ipykernel_launcher.py:24: FutureWarning: suggest_loguniform has been deprecated in v3.0.0. This feature will be removed in v6.0.0. See https://github.com/optuna/optuna/releases/tag/v3.0.0. Use :func:`~optuna.trial.Trial.suggest_float` instead.\n",
            "\u001b[32m[I 2022-11-15 10:37:25,101]\u001b[0m Trial 36 finished with value: 0.6363157894736842 and parameters: {'n_estimators': 14, 'max_depth': 3.8058716578346368}. Best is trial 35 with value: 0.7273684210526317.\u001b[0m\n",
            "/usr/local/lib/python3.7/dist-packages/ipykernel_launcher.py:24: FutureWarning: suggest_loguniform has been deprecated in v3.0.0. This feature will be removed in v6.0.0. See https://github.com/optuna/optuna/releases/tag/v3.0.0. Use :func:`~optuna.trial.Trial.suggest_float` instead.\n",
            "\u001b[32m[I 2022-11-15 10:37:25,305]\u001b[0m Trial 37 finished with value: 0.6673684210526315 and parameters: {'n_estimators': 18, 'max_depth': 1.800529192755342}. Best is trial 35 with value: 0.7273684210526317.\u001b[0m\n",
            "/usr/local/lib/python3.7/dist-packages/ipykernel_launcher.py:24: FutureWarning: suggest_loguniform has been deprecated in v3.0.0. This feature will be removed in v6.0.0. See https://github.com/optuna/optuna/releases/tag/v3.0.0. Use :func:`~optuna.trial.Trial.suggest_float` instead.\n",
            "\u001b[32m[I 2022-11-15 10:37:25,511]\u001b[0m Trial 38 finished with value: 0.5863157894736842 and parameters: {'n_estimators': 13, 'max_depth': 2.6971941252716087}. Best is trial 35 with value: 0.7273684210526317.\u001b[0m\n",
            "/usr/local/lib/python3.7/dist-packages/ipykernel_launcher.py:24: FutureWarning: suggest_loguniform has been deprecated in v3.0.0. This feature will be removed in v6.0.0. See https://github.com/optuna/optuna/releases/tag/v3.0.0. Use :func:`~optuna.trial.Trial.suggest_float` instead.\n",
            "\u001b[32m[I 2022-11-15 10:37:25,700]\u001b[0m Trial 39 finished with value: 0.6368421052631579 and parameters: {'n_estimators': 13, 'max_depth': 1.361325379093616}. Best is trial 35 with value: 0.7273684210526317.\u001b[0m\n",
            "/usr/local/lib/python3.7/dist-packages/ipykernel_launcher.py:24: FutureWarning: suggest_loguniform has been deprecated in v3.0.0. This feature will be removed in v6.0.0. See https://github.com/optuna/optuna/releases/tag/v3.0.0. Use :func:`~optuna.trial.Trial.suggest_float` instead.\n",
            "\u001b[32m[I 2022-11-15 10:37:25,802]\u001b[0m Trial 40 finished with value: 0.6463157894736842 and parameters: {'n_estimators': 2, 'max_depth': 6.2795228941301655}. Best is trial 35 with value: 0.7273684210526317.\u001b[0m\n",
            "/usr/local/lib/python3.7/dist-packages/ipykernel_launcher.py:24: FutureWarning: suggest_loguniform has been deprecated in v3.0.0. This feature will be removed in v6.0.0. See https://github.com/optuna/optuna/releases/tag/v3.0.0. Use :func:`~optuna.trial.Trial.suggest_float` instead.\n",
            "\u001b[32m[I 2022-11-15 10:37:25,984]\u001b[0m Trial 41 finished with value: 0.6678947368421053 and parameters: {'n_estimators': 11, 'max_depth': 3.6520887982034145}. Best is trial 35 with value: 0.7273684210526317.\u001b[0m\n",
            "/usr/local/lib/python3.7/dist-packages/ipykernel_launcher.py:24: FutureWarning: suggest_loguniform has been deprecated in v3.0.0. This feature will be removed in v6.0.0. See https://github.com/optuna/optuna/releases/tag/v3.0.0. Use :func:`~optuna.trial.Trial.suggest_float` instead.\n",
            "\u001b[32m[I 2022-11-15 10:37:26,127]\u001b[0m Trial 42 finished with value: 0.6268421052631579 and parameters: {'n_estimators': 9, 'max_depth': 5.177561610237658}. Best is trial 35 with value: 0.7273684210526317.\u001b[0m\n",
            "/usr/local/lib/python3.7/dist-packages/ipykernel_launcher.py:24: FutureWarning: suggest_loguniform has been deprecated in v3.0.0. This feature will be removed in v6.0.0. See https://github.com/optuna/optuna/releases/tag/v3.0.0. Use :func:`~optuna.trial.Trial.suggest_float` instead.\n",
            "\u001b[32m[I 2022-11-15 10:37:26,265]\u001b[0m Trial 43 finished with value: 0.6368421052631579 and parameters: {'n_estimators': 7, 'max_depth': 5.856593303514137}. Best is trial 35 with value: 0.7273684210526317.\u001b[0m\n",
            "/usr/local/lib/python3.7/dist-packages/ipykernel_launcher.py:24: FutureWarning: suggest_loguniform has been deprecated in v3.0.0. This feature will be removed in v6.0.0. See https://github.com/optuna/optuna/releases/tag/v3.0.0. Use :func:`~optuna.trial.Trial.suggest_float` instead.\n",
            "\u001b[32m[I 2022-11-15 10:37:26,458]\u001b[0m Trial 44 finished with value: 0.6373684210526316 and parameters: {'n_estimators': 11, 'max_depth': 4.668218383420323}. Best is trial 35 with value: 0.7273684210526317.\u001b[0m\n",
            "/usr/local/lib/python3.7/dist-packages/ipykernel_launcher.py:24: FutureWarning: suggest_loguniform has been deprecated in v3.0.0. This feature will be removed in v6.0.0. See https://github.com/optuna/optuna/releases/tag/v3.0.0. Use :func:`~optuna.trial.Trial.suggest_float` instead.\n",
            "\u001b[32m[I 2022-11-15 10:37:26,642]\u001b[0m Trial 45 finished with value: 0.5673684210526316 and parameters: {'n_estimators': 12, 'max_depth': 2.345015689748839}. Best is trial 35 with value: 0.7273684210526317.\u001b[0m\n",
            "/usr/local/lib/python3.7/dist-packages/ipykernel_launcher.py:24: FutureWarning: suggest_loguniform has been deprecated in v3.0.0. This feature will be removed in v6.0.0. See https://github.com/optuna/optuna/releases/tag/v3.0.0. Use :func:`~optuna.trial.Trial.suggest_float` instead.\n",
            "\u001b[32m[I 2022-11-15 10:37:26,842]\u001b[0m Trial 46 finished with value: 0.6763157894736842 and parameters: {'n_estimators': 15, 'max_depth': 9.01987943341957}. Best is trial 35 with value: 0.7273684210526317.\u001b[0m\n",
            "/usr/local/lib/python3.7/dist-packages/ipykernel_launcher.py:24: FutureWarning: suggest_loguniform has been deprecated in v3.0.0. This feature will be removed in v6.0.0. See https://github.com/optuna/optuna/releases/tag/v3.0.0. Use :func:`~optuna.trial.Trial.suggest_float` instead.\n",
            "\u001b[32m[I 2022-11-15 10:37:26,981]\u001b[0m Trial 47 finished with value: 0.6368421052631579 and parameters: {'n_estimators': 5, 'max_depth': 3.1922564274173526}. Best is trial 35 with value: 0.7273684210526317.\u001b[0m\n",
            "/usr/local/lib/python3.7/dist-packages/ipykernel_launcher.py:24: FutureWarning: suggest_loguniform has been deprecated in v3.0.0. This feature will be removed in v6.0.0. See https://github.com/optuna/optuna/releases/tag/v3.0.0. Use :func:`~optuna.trial.Trial.suggest_float` instead.\n",
            "\u001b[32m[I 2022-11-15 10:37:27,169]\u001b[0m Trial 48 finished with value: 0.6363157894736842 and parameters: {'n_estimators': 10, 'max_depth': 3.7965257412575957}. Best is trial 35 with value: 0.7273684210526317.\u001b[0m\n",
            "/usr/local/lib/python3.7/dist-packages/ipykernel_launcher.py:24: FutureWarning: suggest_loguniform has been deprecated in v3.0.0. This feature will be removed in v6.0.0. See https://github.com/optuna/optuna/releases/tag/v3.0.0. Use :func:`~optuna.trial.Trial.suggest_float` instead.\n",
            "\u001b[32m[I 2022-11-15 10:37:27,331]\u001b[0m Trial 49 finished with value: 0.6052631578947368 and parameters: {'n_estimators': 9, 'max_depth': 15.368367430052643}. Best is trial 35 with value: 0.7273684210526317.\u001b[0m\n",
            "/usr/local/lib/python3.7/dist-packages/ipykernel_launcher.py:24: FutureWarning: suggest_loguniform has been deprecated in v3.0.0. This feature will be removed in v6.0.0. See https://github.com/optuna/optuna/releases/tag/v3.0.0. Use :func:`~optuna.trial.Trial.suggest_float` instead.\n",
            "\u001b[32m[I 2022-11-15 10:37:27,538]\u001b[0m Trial 50 finished with value: 0.6973684210526316 and parameters: {'n_estimators': 14, 'max_depth': 6.476425420559784}. Best is trial 35 with value: 0.7273684210526317.\u001b[0m\n",
            "/usr/local/lib/python3.7/dist-packages/ipykernel_launcher.py:24: FutureWarning: suggest_loguniform has been deprecated in v3.0.0. This feature will be removed in v6.0.0. See https://github.com/optuna/optuna/releases/tag/v3.0.0. Use :func:`~optuna.trial.Trial.suggest_float` instead.\n",
            "\u001b[32m[I 2022-11-15 10:37:27,814]\u001b[0m Trial 51 finished with value: 0.5868421052631578 and parameters: {'n_estimators': 17, 'max_depth': 6.66672805291548}. Best is trial 35 with value: 0.7273684210526317.\u001b[0m\n",
            "/usr/local/lib/python3.7/dist-packages/ipykernel_launcher.py:24: FutureWarning: suggest_loguniform has been deprecated in v3.0.0. This feature will be removed in v6.0.0. See https://github.com/optuna/optuna/releases/tag/v3.0.0. Use :func:`~optuna.trial.Trial.suggest_float` instead.\n",
            "\u001b[32m[I 2022-11-15 10:37:27,925]\u001b[0m Trial 52 finished with value: 0.6978947368421053 and parameters: {'n_estimators': 14, 'max_depth': 8.279693588318176}. Best is trial 35 with value: 0.7273684210526317.\u001b[0m\n",
            "/usr/local/lib/python3.7/dist-packages/ipykernel_launcher.py:24: FutureWarning: suggest_loguniform has been deprecated in v3.0.0. This feature will be removed in v6.0.0. See https://github.com/optuna/optuna/releases/tag/v3.0.0. Use :func:`~optuna.trial.Trial.suggest_float` instead.\n",
            "\u001b[32m[I 2022-11-15 10:37:28,041]\u001b[0m Trial 53 finished with value: 0.6173684210526316 and parameters: {'n_estimators': 14, 'max_depth': 7.6405472905587155}. Best is trial 35 with value: 0.7273684210526317.\u001b[0m\n",
            "/usr/local/lib/python3.7/dist-packages/ipykernel_launcher.py:24: FutureWarning: suggest_loguniform has been deprecated in v3.0.0. This feature will be removed in v6.0.0. See https://github.com/optuna/optuna/releases/tag/v3.0.0. Use :func:`~optuna.trial.Trial.suggest_float` instead.\n",
            "\u001b[32m[I 2022-11-15 10:37:28,155]\u001b[0m Trial 54 finished with value: 0.6273684210526316 and parameters: {'n_estimators': 13, 'max_depth': 15.305728989768209}. Best is trial 35 with value: 0.7273684210526317.\u001b[0m\n",
            "/usr/local/lib/python3.7/dist-packages/ipykernel_launcher.py:24: FutureWarning: suggest_loguniform has been deprecated in v3.0.0. This feature will be removed in v6.0.0. See https://github.com/optuna/optuna/releases/tag/v3.0.0. Use :func:`~optuna.trial.Trial.suggest_float` instead.\n",
            "\u001b[32m[I 2022-11-15 10:37:28,276]\u001b[0m Trial 55 finished with value: 0.5657894736842105 and parameters: {'n_estimators': 15, 'max_depth': 8.491700731384485}. Best is trial 35 with value: 0.7273684210526317.\u001b[0m\n",
            "/usr/local/lib/python3.7/dist-packages/ipykernel_launcher.py:24: FutureWarning: suggest_loguniform has been deprecated in v3.0.0. This feature will be removed in v6.0.0. See https://github.com/optuna/optuna/releases/tag/v3.0.0. Use :func:`~optuna.trial.Trial.suggest_float` instead.\n",
            "\u001b[32m[I 2022-11-15 10:37:28,383]\u001b[0m Trial 56 finished with value: 0.658421052631579 and parameters: {'n_estimators': 14, 'max_depth': 10.499841955784595}. Best is trial 35 with value: 0.7273684210526317.\u001b[0m\n",
            "/usr/local/lib/python3.7/dist-packages/ipykernel_launcher.py:24: FutureWarning: suggest_loguniform has been deprecated in v3.0.0. This feature will be removed in v6.0.0. See https://github.com/optuna/optuna/releases/tag/v3.0.0. Use :func:`~optuna.trial.Trial.suggest_float` instead.\n",
            "\u001b[32m[I 2022-11-15 10:37:28,500]\u001b[0m Trial 57 finished with value: 0.6378947368421052 and parameters: {'n_estimators': 17, 'max_depth': 5.877057327728931}. Best is trial 35 with value: 0.7273684210526317.\u001b[0m\n",
            "/usr/local/lib/python3.7/dist-packages/ipykernel_launcher.py:24: FutureWarning: suggest_loguniform has been deprecated in v3.0.0. This feature will be removed in v6.0.0. See https://github.com/optuna/optuna/releases/tag/v3.0.0. Use :func:`~optuna.trial.Trial.suggest_float` instead.\n",
            "\u001b[32m[I 2022-11-15 10:37:28,622]\u001b[0m Trial 58 finished with value: 0.6468421052631579 and parameters: {'n_estimators': 16, 'max_depth': 4.832648116329825}. Best is trial 35 with value: 0.7273684210526317.\u001b[0m\n",
            "/usr/local/lib/python3.7/dist-packages/ipykernel_launcher.py:24: FutureWarning: suggest_loguniform has been deprecated in v3.0.0. This feature will be removed in v6.0.0. See https://github.com/optuna/optuna/releases/tag/v3.0.0. Use :func:`~optuna.trial.Trial.suggest_float` instead.\n",
            "\u001b[32m[I 2022-11-15 10:37:28,719]\u001b[0m Trial 59 finished with value: 0.6163157894736843 and parameters: {'n_estimators': 13, 'max_depth': 2.9870426736403153}. Best is trial 35 with value: 0.7273684210526317.\u001b[0m\n",
            "/usr/local/lib/python3.7/dist-packages/ipykernel_launcher.py:24: FutureWarning: suggest_loguniform has been deprecated in v3.0.0. This feature will be removed in v6.0.0. See https://github.com/optuna/optuna/releases/tag/v3.0.0. Use :func:`~optuna.trial.Trial.suggest_float` instead.\n",
            "\u001b[32m[I 2022-11-15 10:37:28,809]\u001b[0m Trial 60 finished with value: 0.6568421052631578 and parameters: {'n_estimators': 12, 'max_depth': 3.550404862194612}. Best is trial 35 with value: 0.7273684210526317.\u001b[0m\n",
            "/usr/local/lib/python3.7/dist-packages/ipykernel_launcher.py:24: FutureWarning: suggest_loguniform has been deprecated in v3.0.0. This feature will be removed in v6.0.0. See https://github.com/optuna/optuna/releases/tag/v3.0.0. Use :func:`~optuna.trial.Trial.suggest_float` instead.\n",
            "\u001b[32m[I 2022-11-15 10:37:28,885]\u001b[0m Trial 61 finished with value: 0.6052631578947368 and parameters: {'n_estimators': 7, 'max_depth': 5.402533404492736}. Best is trial 35 with value: 0.7273684210526317.\u001b[0m\n",
            "/usr/local/lib/python3.7/dist-packages/ipykernel_launcher.py:24: FutureWarning: suggest_loguniform has been deprecated in v3.0.0. This feature will be removed in v6.0.0. See https://github.com/optuna/optuna/releases/tag/v3.0.0. Use :func:`~optuna.trial.Trial.suggest_float` instead.\n",
            "\u001b[32m[I 2022-11-15 10:37:28,993]\u001b[0m Trial 62 finished with value: 0.6378947368421054 and parameters: {'n_estimators': 15, 'max_depth': 2.4929224741226217}. Best is trial 35 with value: 0.7273684210526317.\u001b[0m\n",
            "/usr/local/lib/python3.7/dist-packages/ipykernel_launcher.py:24: FutureWarning: suggest_loguniform has been deprecated in v3.0.0. This feature will be removed in v6.0.0. See https://github.com/optuna/optuna/releases/tag/v3.0.0. Use :func:`~optuna.trial.Trial.suggest_float` instead.\n",
            "\u001b[32m[I 2022-11-15 10:37:29,058]\u001b[0m Trial 63 finished with value: 0.6063157894736841 and parameters: {'n_estimators': 5, 'max_depth': 4.294778603178305}. Best is trial 35 with value: 0.7273684210526317.\u001b[0m\n",
            "/usr/local/lib/python3.7/dist-packages/ipykernel_launcher.py:24: FutureWarning: suggest_loguniform has been deprecated in v3.0.0. This feature will be removed in v6.0.0. See https://github.com/optuna/optuna/releases/tag/v3.0.0. Use :func:`~optuna.trial.Trial.suggest_float` instead.\n",
            "\u001b[32m[I 2022-11-15 10:37:29,145]\u001b[0m Trial 64 finished with value: 0.5963157894736841 and parameters: {'n_estimators': 11, 'max_depth': 1.999506831733492}. Best is trial 35 with value: 0.7273684210526317.\u001b[0m\n",
            "/usr/local/lib/python3.7/dist-packages/ipykernel_launcher.py:24: FutureWarning: suggest_loguniform has been deprecated in v3.0.0. This feature will be removed in v6.0.0. See https://github.com/optuna/optuna/releases/tag/v3.0.0. Use :func:`~optuna.trial.Trial.suggest_float` instead.\n",
            "\u001b[32m[I 2022-11-15 10:37:29,229]\u001b[0m Trial 65 finished with value: 0.6363157894736842 and parameters: {'n_estimators': 10, 'max_depth': 7.120041342879217}. Best is trial 35 with value: 0.7273684210526317.\u001b[0m\n",
            "/usr/local/lib/python3.7/dist-packages/ipykernel_launcher.py:24: FutureWarning: suggest_loguniform has been deprecated in v3.0.0. This feature will be removed in v6.0.0. See https://github.com/optuna/optuna/releases/tag/v3.0.0. Use :func:`~optuna.trial.Trial.suggest_float` instead.\n",
            "\u001b[32m[I 2022-11-15 10:37:29,319]\u001b[0m Trial 66 finished with value: 0.6678947368421053 and parameters: {'n_estimators': 12, 'max_depth': 6.1074117308153735}. Best is trial 35 with value: 0.7273684210526317.\u001b[0m\n",
            "/usr/local/lib/python3.7/dist-packages/ipykernel_launcher.py:24: FutureWarning: suggest_loguniform has been deprecated in v3.0.0. This feature will be removed in v6.0.0. See https://github.com/optuna/optuna/releases/tag/v3.0.0. Use :func:`~optuna.trial.Trial.suggest_float` instead.\n",
            "\u001b[32m[I 2022-11-15 10:37:29,409]\u001b[0m Trial 67 finished with value: 0.6168421052631579 and parameters: {'n_estimators': 8, 'max_depth': 3.954996335923102}. Best is trial 35 with value: 0.7273684210526317.\u001b[0m\n",
            "/usr/local/lib/python3.7/dist-packages/ipykernel_launcher.py:24: FutureWarning: suggest_loguniform has been deprecated in v3.0.0. This feature will be removed in v6.0.0. See https://github.com/optuna/optuna/releases/tag/v3.0.0. Use :func:`~optuna.trial.Trial.suggest_float` instead.\n",
            "\u001b[32m[I 2022-11-15 10:37:29,516]\u001b[0m Trial 68 finished with value: 0.6063157894736841 and parameters: {'n_estimators': 9, 'max_depth': 4.5877821377349335}. Best is trial 35 with value: 0.7273684210526317.\u001b[0m\n",
            "/usr/local/lib/python3.7/dist-packages/ipykernel_launcher.py:24: FutureWarning: suggest_loguniform has been deprecated in v3.0.0. This feature will be removed in v6.0.0. See https://github.com/optuna/optuna/releases/tag/v3.0.0. Use :func:`~optuna.trial.Trial.suggest_float` instead.\n",
            "\u001b[32m[I 2022-11-15 10:37:29,630]\u001b[0m Trial 69 finished with value: 0.6673684210526316 and parameters: {'n_estimators': 13, 'max_depth': 10.384718351125331}. Best is trial 35 with value: 0.7273684210526317.\u001b[0m\n",
            "/usr/local/lib/python3.7/dist-packages/ipykernel_launcher.py:24: FutureWarning: suggest_loguniform has been deprecated in v3.0.0. This feature will be removed in v6.0.0. See https://github.com/optuna/optuna/releases/tag/v3.0.0. Use :func:`~optuna.trial.Trial.suggest_float` instead.\n",
            "\u001b[32m[I 2022-11-15 10:37:29,727]\u001b[0m Trial 70 finished with value: 0.6052631578947368 and parameters: {'n_estimators': 10, 'max_depth': 3.382325050248954}. Best is trial 35 with value: 0.7273684210526317.\u001b[0m\n",
            "/usr/local/lib/python3.7/dist-packages/ipykernel_launcher.py:24: FutureWarning: suggest_loguniform has been deprecated in v3.0.0. This feature will be removed in v6.0.0. See https://github.com/optuna/optuna/releases/tag/v3.0.0. Use :func:`~optuna.trial.Trial.suggest_float` instead.\n",
            "\u001b[32m[I 2022-11-15 10:37:29,813]\u001b[0m Trial 71 finished with value: 0.6463157894736842 and parameters: {'n_estimators': 8, 'max_depth': 4.344593509103385}. Best is trial 35 with value: 0.7273684210526317.\u001b[0m\n",
            "/usr/local/lib/python3.7/dist-packages/ipykernel_launcher.py:24: FutureWarning: suggest_loguniform has been deprecated in v3.0.0. This feature will be removed in v6.0.0. See https://github.com/optuna/optuna/releases/tag/v3.0.0. Use :func:`~optuna.trial.Trial.suggest_float` instead.\n",
            "\u001b[32m[I 2022-11-15 10:37:29,905]\u001b[0m Trial 72 finished with value: 0.6052631578947368 and parameters: {'n_estimators': 6, 'max_depth': 5.2227211236993}. Best is trial 35 with value: 0.7273684210526317.\u001b[0m\n",
            "/usr/local/lib/python3.7/dist-packages/ipykernel_launcher.py:24: FutureWarning: suggest_loguniform has been deprecated in v3.0.0. This feature will be removed in v6.0.0. See https://github.com/optuna/optuna/releases/tag/v3.0.0. Use :func:`~optuna.trial.Trial.suggest_float` instead.\n",
            "\u001b[32m[I 2022-11-15 10:37:30,017]\u001b[0m Trial 73 finished with value: 0.6268421052631579 and parameters: {'n_estimators': 14, 'max_depth': 6.504816609773011}. Best is trial 35 with value: 0.7273684210526317.\u001b[0m\n",
            "/usr/local/lib/python3.7/dist-packages/ipykernel_launcher.py:24: FutureWarning: suggest_loguniform has been deprecated in v3.0.0. This feature will be removed in v6.0.0. See https://github.com/optuna/optuna/releases/tag/v3.0.0. Use :func:`~optuna.trial.Trial.suggest_float` instead.\n",
            "\u001b[32m[I 2022-11-15 10:37:30,090]\u001b[0m Trial 74 finished with value: 0.6463157894736842 and parameters: {'n_estimators': 6, 'max_depth': 8.398506647916149}. Best is trial 35 with value: 0.7273684210526317.\u001b[0m\n",
            "/usr/local/lib/python3.7/dist-packages/ipykernel_launcher.py:24: FutureWarning: suggest_loguniform has been deprecated in v3.0.0. This feature will be removed in v6.0.0. See https://github.com/optuna/optuna/releases/tag/v3.0.0. Use :func:`~optuna.trial.Trial.suggest_float` instead.\n",
            "\u001b[32m[I 2022-11-15 10:37:30,186]\u001b[0m Trial 75 finished with value: 0.6373684210526316 and parameters: {'n_estimators': 8, 'max_depth': 4.951855465468684}. Best is trial 35 with value: 0.7273684210526317.\u001b[0m\n",
            "/usr/local/lib/python3.7/dist-packages/ipykernel_launcher.py:24: FutureWarning: suggest_loguniform has been deprecated in v3.0.0. This feature will be removed in v6.0.0. See https://github.com/optuna/optuna/releases/tag/v3.0.0. Use :func:`~optuna.trial.Trial.suggest_float` instead.\n",
            "\u001b[32m[I 2022-11-15 10:37:30,290]\u001b[0m Trial 76 finished with value: 0.6373684210526316 and parameters: {'n_estimators': 11, 'max_depth': 3.902100528489358}. Best is trial 35 with value: 0.7273684210526317.\u001b[0m\n",
            "/usr/local/lib/python3.7/dist-packages/ipykernel_launcher.py:24: FutureWarning: suggest_loguniform has been deprecated in v3.0.0. This feature will be removed in v6.0.0. See https://github.com/optuna/optuna/releases/tag/v3.0.0. Use :func:`~optuna.trial.Trial.suggest_float` instead.\n",
            "\u001b[32m[I 2022-11-15 10:37:30,367]\u001b[0m Trial 77 finished with value: 0.6468421052631579 and parameters: {'n_estimators': 4, 'max_depth': 2.968853019896558}. Best is trial 35 with value: 0.7273684210526317.\u001b[0m\n",
            "/usr/local/lib/python3.7/dist-packages/ipykernel_launcher.py:24: FutureWarning: suggest_loguniform has been deprecated in v3.0.0. This feature will be removed in v6.0.0. See https://github.com/optuna/optuna/releases/tag/v3.0.0. Use :func:`~optuna.trial.Trial.suggest_float` instead.\n",
            "\u001b[32m[I 2022-11-15 10:37:30,444]\u001b[0m Trial 78 finished with value: 0.7078947368421054 and parameters: {'n_estimators': 7, 'max_depth': 5.502193979611332}. Best is trial 35 with value: 0.7273684210526317.\u001b[0m\n",
            "/usr/local/lib/python3.7/dist-packages/ipykernel_launcher.py:24: FutureWarning: suggest_loguniform has been deprecated in v3.0.0. This feature will be removed in v6.0.0. See https://github.com/optuna/optuna/releases/tag/v3.0.0. Use :func:`~optuna.trial.Trial.suggest_float` instead.\n",
            "\u001b[32m[I 2022-11-15 10:37:30,505]\u001b[0m Trial 79 finished with value: 0.6378947368421054 and parameters: {'n_estimators': 3, 'max_depth': 5.641306565708943}. Best is trial 35 with value: 0.7273684210526317.\u001b[0m\n",
            "/usr/local/lib/python3.7/dist-packages/ipykernel_launcher.py:24: FutureWarning: suggest_loguniform has been deprecated in v3.0.0. This feature will be removed in v6.0.0. See https://github.com/optuna/optuna/releases/tag/v3.0.0. Use :func:`~optuna.trial.Trial.suggest_float` instead.\n",
            "\u001b[32m[I 2022-11-15 10:37:30,594]\u001b[0m Trial 80 finished with value: 0.6168421052631579 and parameters: {'n_estimators': 7, 'max_depth': 12.10852174948465}. Best is trial 35 with value: 0.7273684210526317.\u001b[0m\n",
            "/usr/local/lib/python3.7/dist-packages/ipykernel_launcher.py:24: FutureWarning: suggest_loguniform has been deprecated in v3.0.0. This feature will be removed in v6.0.0. See https://github.com/optuna/optuna/releases/tag/v3.0.0. Use :func:`~optuna.trial.Trial.suggest_float` instead.\n",
            "\u001b[32m[I 2022-11-15 10:37:30,667]\u001b[0m Trial 81 finished with value: 0.6563157894736843 and parameters: {'n_estimators': 7, 'max_depth': 4.670809956282932}. Best is trial 35 with value: 0.7273684210526317.\u001b[0m\n",
            "/usr/local/lib/python3.7/dist-packages/ipykernel_launcher.py:24: FutureWarning: suggest_loguniform has been deprecated in v3.0.0. This feature will be removed in v6.0.0. See https://github.com/optuna/optuna/releases/tag/v3.0.0. Use :func:`~optuna.trial.Trial.suggest_float` instead.\n",
            "\u001b[32m[I 2022-11-15 10:37:30,756]\u001b[0m Trial 82 finished with value: 0.658421052631579 and parameters: {'n_estimators': 9, 'max_depth': 7.459823800171192}. Best is trial 35 with value: 0.7273684210526317.\u001b[0m\n",
            "/usr/local/lib/python3.7/dist-packages/ipykernel_launcher.py:24: FutureWarning: suggest_loguniform has been deprecated in v3.0.0. This feature will be removed in v6.0.0. See https://github.com/optuna/optuna/releases/tag/v3.0.0. Use :func:`~optuna.trial.Trial.suggest_float` instead.\n",
            "\u001b[32m[I 2022-11-15 10:37:30,839]\u001b[0m Trial 83 finished with value: 0.5768421052631578 and parameters: {'n_estimators': 8, 'max_depth': 3.39964699736542}. Best is trial 35 with value: 0.7273684210526317.\u001b[0m\n",
            "/usr/local/lib/python3.7/dist-packages/ipykernel_launcher.py:24: FutureWarning: suggest_loguniform has been deprecated in v3.0.0. This feature will be removed in v6.0.0. See https://github.com/optuna/optuna/releases/tag/v3.0.0. Use :func:`~optuna.trial.Trial.suggest_float` instead.\n",
            "\u001b[32m[I 2022-11-15 10:37:30,921]\u001b[0m Trial 84 finished with value: 0.6368421052631579 and parameters: {'n_estimators': 5, 'max_depth': 4.173671868282533}. Best is trial 35 with value: 0.7273684210526317.\u001b[0m\n",
            "/usr/local/lib/python3.7/dist-packages/ipykernel_launcher.py:24: FutureWarning: suggest_loguniform has been deprecated in v3.0.0. This feature will be removed in v6.0.0. See https://github.com/optuna/optuna/releases/tag/v3.0.0. Use :func:`~optuna.trial.Trial.suggest_float` instead.\n",
            "\u001b[32m[I 2022-11-15 10:37:31,032]\u001b[0m Trial 85 finished with value: 0.6047368421052631 and parameters: {'n_estimators': 15, 'max_depth': 5.655645574627477}. Best is trial 35 with value: 0.7273684210526317.\u001b[0m\n",
            "/usr/local/lib/python3.7/dist-packages/ipykernel_launcher.py:24: FutureWarning: suggest_loguniform has been deprecated in v3.0.0. This feature will be removed in v6.0.0. See https://github.com/optuna/optuna/releases/tag/v3.0.0. Use :func:`~optuna.trial.Trial.suggest_float` instead.\n",
            "\u001b[32m[I 2022-11-15 10:37:31,105]\u001b[0m Trial 86 finished with value: 0.6268421052631579 and parameters: {'n_estimators': 7, 'max_depth': 4.465380461877281}. Best is trial 35 with value: 0.7273684210526317.\u001b[0m\n",
            "/usr/local/lib/python3.7/dist-packages/ipykernel_launcher.py:24: FutureWarning: suggest_loguniform has been deprecated in v3.0.0. This feature will be removed in v6.0.0. See https://github.com/optuna/optuna/releases/tag/v3.0.0. Use :func:`~optuna.trial.Trial.suggest_float` instead.\n",
            "\u001b[32m[I 2022-11-15 10:37:31,200]\u001b[0m Trial 87 finished with value: 0.6557894736842105 and parameters: {'n_estimators': 12, 'max_depth': 6.200964602724287}. Best is trial 35 with value: 0.7273684210526317.\u001b[0m\n",
            "/usr/local/lib/python3.7/dist-packages/ipykernel_launcher.py:24: FutureWarning: suggest_loguniform has been deprecated in v3.0.0. This feature will be removed in v6.0.0. See https://github.com/optuna/optuna/releases/tag/v3.0.0. Use :func:`~optuna.trial.Trial.suggest_float` instead.\n",
            "\u001b[32m[I 2022-11-15 10:37:31,270]\u001b[0m Trial 88 finished with value: 0.6363157894736842 and parameters: {'n_estimators': 6, 'max_depth': 3.684645309707057}. Best is trial 35 with value: 0.7273684210526317.\u001b[0m\n",
            "/usr/local/lib/python3.7/dist-packages/ipykernel_launcher.py:24: FutureWarning: suggest_loguniform has been deprecated in v3.0.0. This feature will be removed in v6.0.0. See https://github.com/optuna/optuna/releases/tag/v3.0.0. Use :func:`~optuna.trial.Trial.suggest_float` instead.\n",
            "\u001b[32m[I 2022-11-15 10:37:31,356]\u001b[0m Trial 89 finished with value: 0.6973684210526316 and parameters: {'n_estimators': 9, 'max_depth': 5.224202334898783}. Best is trial 35 with value: 0.7273684210526317.\u001b[0m\n",
            "/usr/local/lib/python3.7/dist-packages/ipykernel_launcher.py:24: FutureWarning: suggest_loguniform has been deprecated in v3.0.0. This feature will be removed in v6.0.0. See https://github.com/optuna/optuna/releases/tag/v3.0.0. Use :func:`~optuna.trial.Trial.suggest_float` instead.\n",
            "\u001b[32m[I 2022-11-15 10:37:31,444]\u001b[0m Trial 90 finished with value: 0.6668421052631579 and parameters: {'n_estimators': 10, 'max_depth': 8.256905128725098}. Best is trial 35 with value: 0.7273684210526317.\u001b[0m\n",
            "/usr/local/lib/python3.7/dist-packages/ipykernel_launcher.py:24: FutureWarning: suggest_loguniform has been deprecated in v3.0.0. This feature will be removed in v6.0.0. See https://github.com/optuna/optuna/releases/tag/v3.0.0. Use :func:`~optuna.trial.Trial.suggest_float` instead.\n",
            "\u001b[32m[I 2022-11-15 10:37:31,582]\u001b[0m Trial 91 finished with value: 0.6357894736842106 and parameters: {'n_estimators': 20, 'max_depth': 5.157477638202477}. Best is trial 35 with value: 0.7273684210526317.\u001b[0m\n",
            "/usr/local/lib/python3.7/dist-packages/ipykernel_launcher.py:24: FutureWarning: suggest_loguniform has been deprecated in v3.0.0. This feature will be removed in v6.0.0. See https://github.com/optuna/optuna/releases/tag/v3.0.0. Use :func:`~optuna.trial.Trial.suggest_float` instead.\n",
            "\u001b[32m[I 2022-11-15 10:37:31,673]\u001b[0m Trial 92 finished with value: 0.6368421052631579 and parameters: {'n_estimators': 8, 'max_depth': 7.115811552772026}. Best is trial 35 with value: 0.7273684210526317.\u001b[0m\n",
            "/usr/local/lib/python3.7/dist-packages/ipykernel_launcher.py:24: FutureWarning: suggest_loguniform has been deprecated in v3.0.0. This feature will be removed in v6.0.0. See https://github.com/optuna/optuna/releases/tag/v3.0.0. Use :func:`~optuna.trial.Trial.suggest_float` instead.\n",
            "\u001b[32m[I 2022-11-15 10:37:31,753]\u001b[0m Trial 93 finished with value: 0.6268421052631579 and parameters: {'n_estimators': 9, 'max_depth': 4.090250560155257}. Best is trial 35 with value: 0.7273684210526317.\u001b[0m\n",
            "/usr/local/lib/python3.7/dist-packages/ipykernel_launcher.py:24: FutureWarning: suggest_loguniform has been deprecated in v3.0.0. This feature will be removed in v6.0.0. See https://github.com/optuna/optuna/releases/tag/v3.0.0. Use :func:`~optuna.trial.Trial.suggest_float` instead.\n",
            "\u001b[32m[I 2022-11-15 10:37:31,834]\u001b[0m Trial 94 finished with value: 0.6668421052631579 and parameters: {'n_estimators': 9, 'max_depth': 6.5404437232277495}. Best is trial 35 with value: 0.7273684210526317.\u001b[0m\n",
            "/usr/local/lib/python3.7/dist-packages/ipykernel_launcher.py:24: FutureWarning: suggest_loguniform has been deprecated in v3.0.0. This feature will be removed in v6.0.0. See https://github.com/optuna/optuna/releases/tag/v3.0.0. Use :func:`~optuna.trial.Trial.suggest_float` instead.\n",
            "\u001b[32m[I 2022-11-15 10:37:31,939]\u001b[0m Trial 95 finished with value: 0.6873684210526315 and parameters: {'n_estimators': 14, 'max_depth': 4.937340677787784}. Best is trial 35 with value: 0.7273684210526317.\u001b[0m\n",
            "/usr/local/lib/python3.7/dist-packages/ipykernel_launcher.py:24: FutureWarning: suggest_loguniform has been deprecated in v3.0.0. This feature will be removed in v6.0.0. See https://github.com/optuna/optuna/releases/tag/v3.0.0. Use :func:`~optuna.trial.Trial.suggest_float` instead.\n",
            "\u001b[32m[I 2022-11-15 10:37:32,047]\u001b[0m Trial 96 finished with value: 0.6568421052631579 and parameters: {'n_estimators': 14, 'max_depth': 4.918362832454925}. Best is trial 35 with value: 0.7273684210526317.\u001b[0m\n",
            "/usr/local/lib/python3.7/dist-packages/ipykernel_launcher.py:24: FutureWarning: suggest_loguniform has been deprecated in v3.0.0. This feature will be removed in v6.0.0. See https://github.com/optuna/optuna/releases/tag/v3.0.0. Use :func:`~optuna.trial.Trial.suggest_float` instead.\n",
            "\u001b[32m[I 2022-11-15 10:37:32,147]\u001b[0m Trial 97 finished with value: 0.6373684210526316 and parameters: {'n_estimators': 11, 'max_depth': 5.452838458189896}. Best is trial 35 with value: 0.7273684210526317.\u001b[0m\n",
            "/usr/local/lib/python3.7/dist-packages/ipykernel_launcher.py:24: FutureWarning: suggest_loguniform has been deprecated in v3.0.0. This feature will be removed in v6.0.0. See https://github.com/optuna/optuna/releases/tag/v3.0.0. Use :func:`~optuna.trial.Trial.suggest_float` instead.\n",
            "\u001b[32m[I 2022-11-15 10:37:32,247]\u001b[0m Trial 98 finished with value: 0.6378947368421052 and parameters: {'n_estimators': 14, 'max_depth': 9.625724775608546}. Best is trial 35 with value: 0.7273684210526317.\u001b[0m\n",
            "/usr/local/lib/python3.7/dist-packages/ipykernel_launcher.py:24: FutureWarning: suggest_loguniform has been deprecated in v3.0.0. This feature will be removed in v6.0.0. See https://github.com/optuna/optuna/releases/tag/v3.0.0. Use :func:`~optuna.trial.Trial.suggest_float` instead.\n",
            "\u001b[32m[I 2022-11-15 10:37:32,346]\u001b[0m Trial 99 finished with value: 0.5857894736842105 and parameters: {'n_estimators': 13, 'max_depth': 3.082555271866219}. Best is trial 35 with value: 0.7273684210526317.\u001b[0m\n"
          ]
        },
        {
          "output_type": "stream",
          "name": "stdout",
          "text": [
            "Accuracy: 0.7273684210526317\n",
            "TrainAccuracy: 0.8282828282828283\n",
            "Accuracy: 0.5581395348837209\n",
            "              precision    recall  f1-score   support\n",
            "\n",
            "         0.0       0.59      0.80      0.68        25\n",
            "         1.0       0.44      0.22      0.30        18\n",
            "\n",
            "    accuracy                           0.56        43\n",
            "   macro avg       0.52      0.51      0.49        43\n",
            "weighted avg       0.53      0.56      0.52        43\n",
            "\n"
          ]
        }
      ]
    },
    {
      "cell_type": "markdown",
      "source": [
        "最適化の履歴をplot_optimization_history()メソッドを使い確認してみましょう。\n",
        "縦軸が目的変数、横軸が最適化のトライアル数になってます。オレンジの折れ線が最良の目的変数の値となっており、何回目のトライアルでベストパラメータが出たのかわかりやすくなってます。"
      ],
      "metadata": {
        "id": "NtQdBwMnPqce"
      }
    },
    {
      "cell_type": "code",
      "source": [
        "optuna.visualization.plot_optimization_history(study)"
      ],
      "metadata": {
        "colab": {
          "base_uri": "https://localhost:8080/",
          "height": 542
        },
        "id": "vLWTSoXjPrtK",
        "outputId": "e75d75ca-63d1-49a1-bf42-a522ddcbccb0"
      },
      "execution_count": 18,
      "outputs": [
        {
          "output_type": "display_data",
          "data": {
            "text/html": [
              "<html>\n",
              "<head><meta charset=\"utf-8\" /></head>\n",
              "<body>\n",
              "    <div>            <script src=\"https://cdnjs.cloudflare.com/ajax/libs/mathjax/2.7.5/MathJax.js?config=TeX-AMS-MML_SVG\"></script><script type=\"text/javascript\">if (window.MathJax) {MathJax.Hub.Config({SVG: {font: \"STIX-Web\"}});}</script>                <script type=\"text/javascript\">window.PlotlyConfig = {MathJaxConfig: 'local'};</script>\n",
              "        <script src=\"https://cdn.plot.ly/plotly-2.8.3.min.js\"></script>                <div id=\"595ac164-c715-4b44-9c5e-780851702cbe\" class=\"plotly-graph-div\" style=\"height:525px; width:100%;\"></div>            <script type=\"text/javascript\">                                    window.PLOTLYENV=window.PLOTLYENV || {};                                    if (document.getElementById(\"595ac164-c715-4b44-9c5e-780851702cbe\")) {                    Plotly.newPlot(                        \"595ac164-c715-4b44-9c5e-780851702cbe\",                        [{\"mode\":\"markers\",\"name\":\"Objective Value\",\"x\":[0,1,2,3,4,5,6,7,8,9,10,11,12,13,14,15,16,17,18,19,20,21,22,23,24,25,26,27,28,29,30,31,32,33,34,35,36,37,38,39,40,41,42,43,44,45,46,47,48,49,50,51,52,53,54,55,56,57,58,59,60,61,62,63,64,65,66,67,68,69,70,71,72,73,74,75,76,77,78,79,80,81,82,83,84,85,86,87,88,89,90,91,92,93,94,95,96,97,98,99],\"y\":[0.6373684210526316,0.6373684210526316,0.6673684210526315,0.6657894736842105,0.6468421052631579,0.6468421052631579,0.6163157894736843,0.6678947368421053,0.6773684210526316,0.6668421052631579,0.5552631578947368,0.5957894736842105,0.6368421052631579,0.6568421052631579,0.6468421052631579,0.6963157894736842,0.6173684210526316,0.6873684210526316,0.6168421052631579,0.6368421052631579,0.6373684210526316,0.6768421052631579,0.6268421052631579,0.596842105263158,0.6063157894736844,0.5963157894736844,0.5668421052631579,0.6347368421052632,0.5857894736842105,0.6568421052631578,0.6068421052631578,0.6263157894736843,0.6373684210526316,0.7073684210526315,0.6473684210526316,0.7273684210526317,0.6363157894736842,0.6673684210526315,0.5863157894736842,0.6368421052631579,0.6463157894736842,0.6678947368421053,0.6268421052631579,0.6368421052631579,0.6373684210526316,0.5673684210526316,0.6763157894736842,0.6368421052631579,0.6363157894736842,0.6052631578947368,0.6973684210526316,0.5868421052631578,0.6978947368421053,0.6173684210526316,0.6273684210526316,0.5657894736842105,0.658421052631579,0.6378947368421052,0.6468421052631579,0.6163157894736843,0.6568421052631578,0.6052631578947368,0.6378947368421054,0.6063157894736841,0.5963157894736841,0.6363157894736842,0.6678947368421053,0.6168421052631579,0.6063157894736841,0.6673684210526316,0.6052631578947368,0.6463157894736842,0.6052631578947368,0.6268421052631579,0.6463157894736842,0.6373684210526316,0.6373684210526316,0.6468421052631579,0.7078947368421054,0.6378947368421054,0.6168421052631579,0.6563157894736843,0.658421052631579,0.5768421052631578,0.6368421052631579,0.6047368421052631,0.6268421052631579,0.6557894736842105,0.6363157894736842,0.6973684210526316,0.6668421052631579,0.6357894736842106,0.6368421052631579,0.6268421052631579,0.6668421052631579,0.6873684210526315,0.6568421052631579,0.6373684210526316,0.6378947368421052,0.5857894736842105],\"type\":\"scatter\"},{\"name\":\"Best Value\",\"x\":[0,1,2,3,4,5,6,7,8,9,10,11,12,13,14,15,16,17,18,19,20,21,22,23,24,25,26,27,28,29,30,31,32,33,34,35,36,37,38,39,40,41,42,43,44,45,46,47,48,49,50,51,52,53,54,55,56,57,58,59,60,61,62,63,64,65,66,67,68,69,70,71,72,73,74,75,76,77,78,79,80,81,82,83,84,85,86,87,88,89,90,91,92,93,94,95,96,97,98,99],\"y\":[0.6373684210526316,0.6373684210526316,0.6673684210526315,0.6673684210526315,0.6673684210526315,0.6673684210526315,0.6673684210526315,0.6678947368421053,0.6773684210526316,0.6773684210526316,0.6773684210526316,0.6773684210526316,0.6773684210526316,0.6773684210526316,0.6773684210526316,0.6963157894736842,0.6963157894736842,0.6963157894736842,0.6963157894736842,0.6963157894736842,0.6963157894736842,0.6963157894736842,0.6963157894736842,0.6963157894736842,0.6963157894736842,0.6963157894736842,0.6963157894736842,0.6963157894736842,0.6963157894736842,0.6963157894736842,0.6963157894736842,0.6963157894736842,0.6963157894736842,0.7073684210526315,0.7073684210526315,0.7273684210526317,0.7273684210526317,0.7273684210526317,0.7273684210526317,0.7273684210526317,0.7273684210526317,0.7273684210526317,0.7273684210526317,0.7273684210526317,0.7273684210526317,0.7273684210526317,0.7273684210526317,0.7273684210526317,0.7273684210526317,0.7273684210526317,0.7273684210526317,0.7273684210526317,0.7273684210526317,0.7273684210526317,0.7273684210526317,0.7273684210526317,0.7273684210526317,0.7273684210526317,0.7273684210526317,0.7273684210526317,0.7273684210526317,0.7273684210526317,0.7273684210526317,0.7273684210526317,0.7273684210526317,0.7273684210526317,0.7273684210526317,0.7273684210526317,0.7273684210526317,0.7273684210526317,0.7273684210526317,0.7273684210526317,0.7273684210526317,0.7273684210526317,0.7273684210526317,0.7273684210526317,0.7273684210526317,0.7273684210526317,0.7273684210526317,0.7273684210526317,0.7273684210526317,0.7273684210526317,0.7273684210526317,0.7273684210526317,0.7273684210526317,0.7273684210526317,0.7273684210526317,0.7273684210526317,0.7273684210526317,0.7273684210526317,0.7273684210526317,0.7273684210526317,0.7273684210526317,0.7273684210526317,0.7273684210526317,0.7273684210526317,0.7273684210526317,0.7273684210526317,0.7273684210526317,0.7273684210526317],\"type\":\"scatter\"}],                        {\"title\":{\"text\":\"Optimization History Plot\"},\"xaxis\":{\"title\":{\"text\":\"Trial\"}},\"yaxis\":{\"title\":{\"text\":\"Objective Value\"}},\"template\":{\"data\":{\"bar\":[{\"error_x\":{\"color\":\"#2a3f5f\"},\"error_y\":{\"color\":\"#2a3f5f\"},\"marker\":{\"line\":{\"color\":\"#E5ECF6\",\"width\":0.5},\"pattern\":{\"fillmode\":\"overlay\",\"size\":10,\"solidity\":0.2}},\"type\":\"bar\"}],\"barpolar\":[{\"marker\":{\"line\":{\"color\":\"#E5ECF6\",\"width\":0.5},\"pattern\":{\"fillmode\":\"overlay\",\"size\":10,\"solidity\":0.2}},\"type\":\"barpolar\"}],\"carpet\":[{\"aaxis\":{\"endlinecolor\":\"#2a3f5f\",\"gridcolor\":\"white\",\"linecolor\":\"white\",\"minorgridcolor\":\"white\",\"startlinecolor\":\"#2a3f5f\"},\"baxis\":{\"endlinecolor\":\"#2a3f5f\",\"gridcolor\":\"white\",\"linecolor\":\"white\",\"minorgridcolor\":\"white\",\"startlinecolor\":\"#2a3f5f\"},\"type\":\"carpet\"}],\"choropleth\":[{\"colorbar\":{\"outlinewidth\":0,\"ticks\":\"\"},\"type\":\"choropleth\"}],\"contour\":[{\"colorbar\":{\"outlinewidth\":0,\"ticks\":\"\"},\"colorscale\":[[0.0,\"#0d0887\"],[0.1111111111111111,\"#46039f\"],[0.2222222222222222,\"#7201a8\"],[0.3333333333333333,\"#9c179e\"],[0.4444444444444444,\"#bd3786\"],[0.5555555555555556,\"#d8576b\"],[0.6666666666666666,\"#ed7953\"],[0.7777777777777778,\"#fb9f3a\"],[0.8888888888888888,\"#fdca26\"],[1.0,\"#f0f921\"]],\"type\":\"contour\"}],\"contourcarpet\":[{\"colorbar\":{\"outlinewidth\":0,\"ticks\":\"\"},\"type\":\"contourcarpet\"}],\"heatmap\":[{\"colorbar\":{\"outlinewidth\":0,\"ticks\":\"\"},\"colorscale\":[[0.0,\"#0d0887\"],[0.1111111111111111,\"#46039f\"],[0.2222222222222222,\"#7201a8\"],[0.3333333333333333,\"#9c179e\"],[0.4444444444444444,\"#bd3786\"],[0.5555555555555556,\"#d8576b\"],[0.6666666666666666,\"#ed7953\"],[0.7777777777777778,\"#fb9f3a\"],[0.8888888888888888,\"#fdca26\"],[1.0,\"#f0f921\"]],\"type\":\"heatmap\"}],\"heatmapgl\":[{\"colorbar\":{\"outlinewidth\":0,\"ticks\":\"\"},\"colorscale\":[[0.0,\"#0d0887\"],[0.1111111111111111,\"#46039f\"],[0.2222222222222222,\"#7201a8\"],[0.3333333333333333,\"#9c179e\"],[0.4444444444444444,\"#bd3786\"],[0.5555555555555556,\"#d8576b\"],[0.6666666666666666,\"#ed7953\"],[0.7777777777777778,\"#fb9f3a\"],[0.8888888888888888,\"#fdca26\"],[1.0,\"#f0f921\"]],\"type\":\"heatmapgl\"}],\"histogram\":[{\"marker\":{\"pattern\":{\"fillmode\":\"overlay\",\"size\":10,\"solidity\":0.2}},\"type\":\"histogram\"}],\"histogram2d\":[{\"colorbar\":{\"outlinewidth\":0,\"ticks\":\"\"},\"colorscale\":[[0.0,\"#0d0887\"],[0.1111111111111111,\"#46039f\"],[0.2222222222222222,\"#7201a8\"],[0.3333333333333333,\"#9c179e\"],[0.4444444444444444,\"#bd3786\"],[0.5555555555555556,\"#d8576b\"],[0.6666666666666666,\"#ed7953\"],[0.7777777777777778,\"#fb9f3a\"],[0.8888888888888888,\"#fdca26\"],[1.0,\"#f0f921\"]],\"type\":\"histogram2d\"}],\"histogram2dcontour\":[{\"colorbar\":{\"outlinewidth\":0,\"ticks\":\"\"},\"colorscale\":[[0.0,\"#0d0887\"],[0.1111111111111111,\"#46039f\"],[0.2222222222222222,\"#7201a8\"],[0.3333333333333333,\"#9c179e\"],[0.4444444444444444,\"#bd3786\"],[0.5555555555555556,\"#d8576b\"],[0.6666666666666666,\"#ed7953\"],[0.7777777777777778,\"#fb9f3a\"],[0.8888888888888888,\"#fdca26\"],[1.0,\"#f0f921\"]],\"type\":\"histogram2dcontour\"}],\"mesh3d\":[{\"colorbar\":{\"outlinewidth\":0,\"ticks\":\"\"},\"type\":\"mesh3d\"}],\"parcoords\":[{\"line\":{\"colorbar\":{\"outlinewidth\":0,\"ticks\":\"\"}},\"type\":\"parcoords\"}],\"pie\":[{\"automargin\":true,\"type\":\"pie\"}],\"scatter\":[{\"marker\":{\"colorbar\":{\"outlinewidth\":0,\"ticks\":\"\"}},\"type\":\"scatter\"}],\"scatter3d\":[{\"line\":{\"colorbar\":{\"outlinewidth\":0,\"ticks\":\"\"}},\"marker\":{\"colorbar\":{\"outlinewidth\":0,\"ticks\":\"\"}},\"type\":\"scatter3d\"}],\"scattercarpet\":[{\"marker\":{\"colorbar\":{\"outlinewidth\":0,\"ticks\":\"\"}},\"type\":\"scattercarpet\"}],\"scattergeo\":[{\"marker\":{\"colorbar\":{\"outlinewidth\":0,\"ticks\":\"\"}},\"type\":\"scattergeo\"}],\"scattergl\":[{\"marker\":{\"colorbar\":{\"outlinewidth\":0,\"ticks\":\"\"}},\"type\":\"scattergl\"}],\"scattermapbox\":[{\"marker\":{\"colorbar\":{\"outlinewidth\":0,\"ticks\":\"\"}},\"type\":\"scattermapbox\"}],\"scatterpolar\":[{\"marker\":{\"colorbar\":{\"outlinewidth\":0,\"ticks\":\"\"}},\"type\":\"scatterpolar\"}],\"scatterpolargl\":[{\"marker\":{\"colorbar\":{\"outlinewidth\":0,\"ticks\":\"\"}},\"type\":\"scatterpolargl\"}],\"scatterternary\":[{\"marker\":{\"colorbar\":{\"outlinewidth\":0,\"ticks\":\"\"}},\"type\":\"scatterternary\"}],\"surface\":[{\"colorbar\":{\"outlinewidth\":0,\"ticks\":\"\"},\"colorscale\":[[0.0,\"#0d0887\"],[0.1111111111111111,\"#46039f\"],[0.2222222222222222,\"#7201a8\"],[0.3333333333333333,\"#9c179e\"],[0.4444444444444444,\"#bd3786\"],[0.5555555555555556,\"#d8576b\"],[0.6666666666666666,\"#ed7953\"],[0.7777777777777778,\"#fb9f3a\"],[0.8888888888888888,\"#fdca26\"],[1.0,\"#f0f921\"]],\"type\":\"surface\"}],\"table\":[{\"cells\":{\"fill\":{\"color\":\"#EBF0F8\"},\"line\":{\"color\":\"white\"}},\"header\":{\"fill\":{\"color\":\"#C8D4E3\"},\"line\":{\"color\":\"white\"}},\"type\":\"table\"}]},\"layout\":{\"annotationdefaults\":{\"arrowcolor\":\"#2a3f5f\",\"arrowhead\":0,\"arrowwidth\":1},\"autotypenumbers\":\"strict\",\"coloraxis\":{\"colorbar\":{\"outlinewidth\":0,\"ticks\":\"\"}},\"colorscale\":{\"diverging\":[[0,\"#8e0152\"],[0.1,\"#c51b7d\"],[0.2,\"#de77ae\"],[0.3,\"#f1b6da\"],[0.4,\"#fde0ef\"],[0.5,\"#f7f7f7\"],[0.6,\"#e6f5d0\"],[0.7,\"#b8e186\"],[0.8,\"#7fbc41\"],[0.9,\"#4d9221\"],[1,\"#276419\"]],\"sequential\":[[0.0,\"#0d0887\"],[0.1111111111111111,\"#46039f\"],[0.2222222222222222,\"#7201a8\"],[0.3333333333333333,\"#9c179e\"],[0.4444444444444444,\"#bd3786\"],[0.5555555555555556,\"#d8576b\"],[0.6666666666666666,\"#ed7953\"],[0.7777777777777778,\"#fb9f3a\"],[0.8888888888888888,\"#fdca26\"],[1.0,\"#f0f921\"]],\"sequentialminus\":[[0.0,\"#0d0887\"],[0.1111111111111111,\"#46039f\"],[0.2222222222222222,\"#7201a8\"],[0.3333333333333333,\"#9c179e\"],[0.4444444444444444,\"#bd3786\"],[0.5555555555555556,\"#d8576b\"],[0.6666666666666666,\"#ed7953\"],[0.7777777777777778,\"#fb9f3a\"],[0.8888888888888888,\"#fdca26\"],[1.0,\"#f0f921\"]]},\"colorway\":[\"#636efa\",\"#EF553B\",\"#00cc96\",\"#ab63fa\",\"#FFA15A\",\"#19d3f3\",\"#FF6692\",\"#B6E880\",\"#FF97FF\",\"#FECB52\"],\"font\":{\"color\":\"#2a3f5f\"},\"geo\":{\"bgcolor\":\"white\",\"lakecolor\":\"white\",\"landcolor\":\"#E5ECF6\",\"showlakes\":true,\"showland\":true,\"subunitcolor\":\"white\"},\"hoverlabel\":{\"align\":\"left\"},\"hovermode\":\"closest\",\"mapbox\":{\"style\":\"light\"},\"paper_bgcolor\":\"white\",\"plot_bgcolor\":\"#E5ECF6\",\"polar\":{\"angularaxis\":{\"gridcolor\":\"white\",\"linecolor\":\"white\",\"ticks\":\"\"},\"bgcolor\":\"#E5ECF6\",\"radialaxis\":{\"gridcolor\":\"white\",\"linecolor\":\"white\",\"ticks\":\"\"}},\"scene\":{\"xaxis\":{\"backgroundcolor\":\"#E5ECF6\",\"gridcolor\":\"white\",\"gridwidth\":2,\"linecolor\":\"white\",\"showbackground\":true,\"ticks\":\"\",\"zerolinecolor\":\"white\"},\"yaxis\":{\"backgroundcolor\":\"#E5ECF6\",\"gridcolor\":\"white\",\"gridwidth\":2,\"linecolor\":\"white\",\"showbackground\":true,\"ticks\":\"\",\"zerolinecolor\":\"white\"},\"zaxis\":{\"backgroundcolor\":\"#E5ECF6\",\"gridcolor\":\"white\",\"gridwidth\":2,\"linecolor\":\"white\",\"showbackground\":true,\"ticks\":\"\",\"zerolinecolor\":\"white\"}},\"shapedefaults\":{\"line\":{\"color\":\"#2a3f5f\"}},\"ternary\":{\"aaxis\":{\"gridcolor\":\"white\",\"linecolor\":\"white\",\"ticks\":\"\"},\"baxis\":{\"gridcolor\":\"white\",\"linecolor\":\"white\",\"ticks\":\"\"},\"bgcolor\":\"#E5ECF6\",\"caxis\":{\"gridcolor\":\"white\",\"linecolor\":\"white\",\"ticks\":\"\"}},\"title\":{\"x\":0.05},\"xaxis\":{\"automargin\":true,\"gridcolor\":\"white\",\"linecolor\":\"white\",\"ticks\":\"\",\"title\":{\"standoff\":15},\"zerolinecolor\":\"white\",\"zerolinewidth\":2},\"yaxis\":{\"automargin\":true,\"gridcolor\":\"white\",\"linecolor\":\"white\",\"ticks\":\"\",\"title\":{\"standoff\":15},\"zerolinecolor\":\"white\",\"zerolinewidth\":2}}}},                        {\"responsive\": true}                    ).then(function(){\n",
              "                            \n",
              "var gd = document.getElementById('595ac164-c715-4b44-9c5e-780851702cbe');\n",
              "var x = new MutationObserver(function (mutations, observer) {{\n",
              "        var display = window.getComputedStyle(gd).display;\n",
              "        if (!display || display === 'none') {{\n",
              "            console.log([gd, 'removed!']);\n",
              "            Plotly.purge(gd);\n",
              "            observer.disconnect();\n",
              "        }}\n",
              "}});\n",
              "\n",
              "// Listen for the removal of the full notebook cells\n",
              "var notebookContainer = gd.closest('#notebook-container');\n",
              "if (notebookContainer) {{\n",
              "    x.observe(notebookContainer, {childList: true});\n",
              "}}\n",
              "\n",
              "// Listen for the clearing of the current output cell\n",
              "var outputEl = gd.closest('.output');\n",
              "if (outputEl) {{\n",
              "    x.observe(outputEl, {childList: true});\n",
              "}}\n",
              "\n",
              "                        })                };                            </script>        </div>\n",
              "</body>\n",
              "</html>"
            ]
          },
          "metadata": {}
        }
      ]
    },
    {
      "cell_type": "markdown",
      "source": [
        "グラフをみてみると59回目のトライアルでベストパラメーターが出たのがわかりやくなっています。"
      ],
      "metadata": {
        "id": "01elf9eBPszM"
      }
    },
    {
      "cell_type": "code",
      "source": [
        "optuna.visualization.plot_slice(study)"
      ],
      "metadata": {
        "colab": {
          "base_uri": "https://localhost:8080/",
          "height": 542
        },
        "id": "QV-anY0OPxw9",
        "outputId": "e9715f51-51b5-431f-b5f6-6c2a92a18d66"
      },
      "execution_count": 19,
      "outputs": [
        {
          "output_type": "display_data",
          "data": {
            "text/html": [
              "<html>\n",
              "<head><meta charset=\"utf-8\" /></head>\n",
              "<body>\n",
              "    <div>            <script src=\"https://cdnjs.cloudflare.com/ajax/libs/mathjax/2.7.5/MathJax.js?config=TeX-AMS-MML_SVG\"></script><script type=\"text/javascript\">if (window.MathJax) {MathJax.Hub.Config({SVG: {font: \"STIX-Web\"}});}</script>                <script type=\"text/javascript\">window.PlotlyConfig = {MathJaxConfig: 'local'};</script>\n",
              "        <script src=\"https://cdn.plot.ly/plotly-2.8.3.min.js\"></script>                <div id=\"680199ad-57b0-4d16-a639-b545771c8242\" class=\"plotly-graph-div\" style=\"height:525px; width:100%;\"></div>            <script type=\"text/javascript\">                                    window.PLOTLYENV=window.PLOTLYENV || {};                                    if (document.getElementById(\"680199ad-57b0-4d16-a639-b545771c8242\")) {                    Plotly.newPlot(                        \"680199ad-57b0-4d16-a639-b545771c8242\",                        [{\"marker\":{\"color\":[0,1,2,3,4,5,6,7,8,9,10,11,12,13,14,15,16,17,18,19,20,21,22,23,24,25,26,27,28,29,30,31,32,33,34,35,36,37,38,39,40,41,42,43,44,45,46,47,48,49,50,51,52,53,54,55,56,57,58,59,60,61,62,63,64,65,66,67,68,69,70,71,72,73,74,75,76,77,78,79,80,81,82,83,84,85,86,87,88,89,90,91,92,93,94,95,96,97,98,99],\"colorbar\":{\"title\":{\"text\":\"Trial\"},\"x\":1.0,\"xpad\":40},\"colorscale\":[[0.0,\"rgb(247,251,255)\"],[0.125,\"rgb(222,235,247)\"],[0.25,\"rgb(198,219,239)\"],[0.375,\"rgb(158,202,225)\"],[0.5,\"rgb(107,174,214)\"],[0.625,\"rgb(66,146,198)\"],[0.75,\"rgb(33,113,181)\"],[0.875,\"rgb(8,81,156)\"],[1.0,\"rgb(8,48,107)\"]],\"line\":{\"color\":\"Grey\",\"width\":0.5},\"showscale\":true},\"mode\":\"markers\",\"showlegend\":false,\"x\":[21.542258652610673,1.1318653807903103,2.1457635911821806,12.205086781372572,1.0754679606399233,21.35458037077161,2.0522726983108623,2.215225005778832,5.480215031977668,6.807933337894288,5.398134858968601,3.997888660080688,3.368546286406887,9.331048796661932,2.3354780725100937,3.482403261567695,12.472035422469341,4.046890236541627,3.3221173804704485,7.675784561201158,1.5954801963098122,4.509261941899859,5.449557287649386,3.137577662016355,6.888520134999719,10.743591004792506,4.2599675392068015,31.12523012314577,2.7130274818962135,1.6780725787343278,4.930109827804845,4.191157932234216,7.679797261713823,4.288747435611249,2.8280286327253523,3.7960882396316866,3.8058716578346368,1.800529192755342,2.6971941252716087,1.361325379093616,6.2795228941301655,3.6520887982034145,5.177561610237658,5.856593303514137,4.668218383420323,2.345015689748839,9.01987943341957,3.1922564274173526,3.7965257412575957,15.368367430052643,6.476425420559784,6.66672805291548,8.279693588318176,7.6405472905587155,15.305728989768209,8.491700731384485,10.499841955784595,5.877057327728931,4.832648116329825,2.9870426736403153,3.550404862194612,5.402533404492736,2.4929224741226217,4.294778603178305,1.999506831733492,7.120041342879217,6.1074117308153735,3.954996335923102,4.5877821377349335,10.384718351125331,3.382325050248954,4.344593509103385,5.2227211236993,6.504816609773011,8.398506647916149,4.951855465468684,3.902100528489358,2.968853019896558,5.502193979611332,5.641306565708943,12.10852174948465,4.670809956282932,7.459823800171192,3.39964699736542,4.173671868282533,5.655645574627477,4.465380461877281,6.200964602724287,3.684645309707057,5.224202334898783,8.256905128725098,5.157477638202477,7.115811552772026,4.090250560155257,6.5404437232277495,4.937340677787784,4.918362832454925,5.452838458189896,9.625724775608546,3.082555271866219],\"y\":[0.6373684210526316,0.6373684210526316,0.6673684210526315,0.6657894736842105,0.6468421052631579,0.6468421052631579,0.6163157894736843,0.6678947368421053,0.6773684210526316,0.6668421052631579,0.5552631578947368,0.5957894736842105,0.6368421052631579,0.6568421052631579,0.6468421052631579,0.6963157894736842,0.6173684210526316,0.6873684210526316,0.6168421052631579,0.6368421052631579,0.6373684210526316,0.6768421052631579,0.6268421052631579,0.596842105263158,0.6063157894736844,0.5963157894736844,0.5668421052631579,0.6347368421052632,0.5857894736842105,0.6568421052631578,0.6068421052631578,0.6263157894736843,0.6373684210526316,0.7073684210526315,0.6473684210526316,0.7273684210526317,0.6363157894736842,0.6673684210526315,0.5863157894736842,0.6368421052631579,0.6463157894736842,0.6678947368421053,0.6268421052631579,0.6368421052631579,0.6373684210526316,0.5673684210526316,0.6763157894736842,0.6368421052631579,0.6363157894736842,0.6052631578947368,0.6973684210526316,0.5868421052631578,0.6978947368421053,0.6173684210526316,0.6273684210526316,0.5657894736842105,0.658421052631579,0.6378947368421052,0.6468421052631579,0.6163157894736843,0.6568421052631578,0.6052631578947368,0.6378947368421054,0.6063157894736841,0.5963157894736841,0.6363157894736842,0.6678947368421053,0.6168421052631579,0.6063157894736841,0.6673684210526316,0.6052631578947368,0.6463157894736842,0.6052631578947368,0.6268421052631579,0.6463157894736842,0.6373684210526316,0.6373684210526316,0.6468421052631579,0.7078947368421054,0.6378947368421054,0.6168421052631579,0.6563157894736843,0.658421052631579,0.5768421052631578,0.6368421052631579,0.6047368421052631,0.6268421052631579,0.6557894736842105,0.6363157894736842,0.6973684210526316,0.6668421052631579,0.6357894736842106,0.6368421052631579,0.6268421052631579,0.6668421052631579,0.6873684210526315,0.6568421052631579,0.6373684210526316,0.6378947368421052,0.5857894736842105],\"type\":\"scatter\",\"xaxis\":\"x\",\"yaxis\":\"y\"},{\"marker\":{\"color\":[0,1,2,3,4,5,6,7,8,9,10,11,12,13,14,15,16,17,18,19,20,21,22,23,24,25,26,27,28,29,30,31,32,33,34,35,36,37,38,39,40,41,42,43,44,45,46,47,48,49,50,51,52,53,54,55,56,57,58,59,60,61,62,63,64,65,66,67,68,69,70,71,72,73,74,75,76,77,78,79,80,81,82,83,84,85,86,87,88,89,90,91,92,93,94,95,96,97,98,99],\"colorbar\":{\"title\":{\"text\":\"Trial\"},\"x\":1.0,\"xpad\":40},\"colorscale\":[[0.0,\"rgb(247,251,255)\"],[0.125,\"rgb(222,235,247)\"],[0.25,\"rgb(198,219,239)\"],[0.375,\"rgb(158,202,225)\"],[0.5,\"rgb(107,174,214)\"],[0.625,\"rgb(66,146,198)\"],[0.75,\"rgb(33,113,181)\"],[0.875,\"rgb(8,81,156)\"],[1.0,\"rgb(8,48,107)\"]],\"line\":{\"color\":\"Grey\",\"width\":0.5},\"showscale\":false},\"mode\":\"markers\",\"showlegend\":false,\"x\":[12,2,20,14,19,7,8,13,8,11,4,16,9,16,5,11,10,6,6,3,15,8,10,6,8,11,4,6,9,12,12,8,7,10,10,13,14,18,13,13,2,11,9,7,11,12,15,5,10,9,14,17,14,14,13,15,14,17,16,13,12,7,15,5,11,10,12,8,9,13,10,8,6,14,6,8,11,4,7,3,7,7,9,8,5,15,7,12,6,9,10,20,8,9,9,14,14,11,14,13],\"y\":[0.6373684210526316,0.6373684210526316,0.6673684210526315,0.6657894736842105,0.6468421052631579,0.6468421052631579,0.6163157894736843,0.6678947368421053,0.6773684210526316,0.6668421052631579,0.5552631578947368,0.5957894736842105,0.6368421052631579,0.6568421052631579,0.6468421052631579,0.6963157894736842,0.6173684210526316,0.6873684210526316,0.6168421052631579,0.6368421052631579,0.6373684210526316,0.6768421052631579,0.6268421052631579,0.596842105263158,0.6063157894736844,0.5963157894736844,0.5668421052631579,0.6347368421052632,0.5857894736842105,0.6568421052631578,0.6068421052631578,0.6263157894736843,0.6373684210526316,0.7073684210526315,0.6473684210526316,0.7273684210526317,0.6363157894736842,0.6673684210526315,0.5863157894736842,0.6368421052631579,0.6463157894736842,0.6678947368421053,0.6268421052631579,0.6368421052631579,0.6373684210526316,0.5673684210526316,0.6763157894736842,0.6368421052631579,0.6363157894736842,0.6052631578947368,0.6973684210526316,0.5868421052631578,0.6978947368421053,0.6173684210526316,0.6273684210526316,0.5657894736842105,0.658421052631579,0.6378947368421052,0.6468421052631579,0.6163157894736843,0.6568421052631578,0.6052631578947368,0.6378947368421054,0.6063157894736841,0.5963157894736841,0.6363157894736842,0.6678947368421053,0.6168421052631579,0.6063157894736841,0.6673684210526316,0.6052631578947368,0.6463157894736842,0.6052631578947368,0.6268421052631579,0.6463157894736842,0.6373684210526316,0.6373684210526316,0.6468421052631579,0.7078947368421054,0.6378947368421054,0.6168421052631579,0.6563157894736843,0.658421052631579,0.5768421052631578,0.6368421052631579,0.6047368421052631,0.6268421052631579,0.6557894736842105,0.6363157894736842,0.6973684210526316,0.6668421052631579,0.6357894736842106,0.6368421052631579,0.6268421052631579,0.6668421052631579,0.6873684210526315,0.6568421052631579,0.6373684210526316,0.6378947368421052,0.5857894736842105],\"type\":\"scatter\",\"xaxis\":\"x2\",\"yaxis\":\"y2\"}],                        {\"template\":{\"data\":{\"bar\":[{\"error_x\":{\"color\":\"#2a3f5f\"},\"error_y\":{\"color\":\"#2a3f5f\"},\"marker\":{\"line\":{\"color\":\"#E5ECF6\",\"width\":0.5},\"pattern\":{\"fillmode\":\"overlay\",\"size\":10,\"solidity\":0.2}},\"type\":\"bar\"}],\"barpolar\":[{\"marker\":{\"line\":{\"color\":\"#E5ECF6\",\"width\":0.5},\"pattern\":{\"fillmode\":\"overlay\",\"size\":10,\"solidity\":0.2}},\"type\":\"barpolar\"}],\"carpet\":[{\"aaxis\":{\"endlinecolor\":\"#2a3f5f\",\"gridcolor\":\"white\",\"linecolor\":\"white\",\"minorgridcolor\":\"white\",\"startlinecolor\":\"#2a3f5f\"},\"baxis\":{\"endlinecolor\":\"#2a3f5f\",\"gridcolor\":\"white\",\"linecolor\":\"white\",\"minorgridcolor\":\"white\",\"startlinecolor\":\"#2a3f5f\"},\"type\":\"carpet\"}],\"choropleth\":[{\"colorbar\":{\"outlinewidth\":0,\"ticks\":\"\"},\"type\":\"choropleth\"}],\"contour\":[{\"colorbar\":{\"outlinewidth\":0,\"ticks\":\"\"},\"colorscale\":[[0.0,\"#0d0887\"],[0.1111111111111111,\"#46039f\"],[0.2222222222222222,\"#7201a8\"],[0.3333333333333333,\"#9c179e\"],[0.4444444444444444,\"#bd3786\"],[0.5555555555555556,\"#d8576b\"],[0.6666666666666666,\"#ed7953\"],[0.7777777777777778,\"#fb9f3a\"],[0.8888888888888888,\"#fdca26\"],[1.0,\"#f0f921\"]],\"type\":\"contour\"}],\"contourcarpet\":[{\"colorbar\":{\"outlinewidth\":0,\"ticks\":\"\"},\"type\":\"contourcarpet\"}],\"heatmap\":[{\"colorbar\":{\"outlinewidth\":0,\"ticks\":\"\"},\"colorscale\":[[0.0,\"#0d0887\"],[0.1111111111111111,\"#46039f\"],[0.2222222222222222,\"#7201a8\"],[0.3333333333333333,\"#9c179e\"],[0.4444444444444444,\"#bd3786\"],[0.5555555555555556,\"#d8576b\"],[0.6666666666666666,\"#ed7953\"],[0.7777777777777778,\"#fb9f3a\"],[0.8888888888888888,\"#fdca26\"],[1.0,\"#f0f921\"]],\"type\":\"heatmap\"}],\"heatmapgl\":[{\"colorbar\":{\"outlinewidth\":0,\"ticks\":\"\"},\"colorscale\":[[0.0,\"#0d0887\"],[0.1111111111111111,\"#46039f\"],[0.2222222222222222,\"#7201a8\"],[0.3333333333333333,\"#9c179e\"],[0.4444444444444444,\"#bd3786\"],[0.5555555555555556,\"#d8576b\"],[0.6666666666666666,\"#ed7953\"],[0.7777777777777778,\"#fb9f3a\"],[0.8888888888888888,\"#fdca26\"],[1.0,\"#f0f921\"]],\"type\":\"heatmapgl\"}],\"histogram\":[{\"marker\":{\"pattern\":{\"fillmode\":\"overlay\",\"size\":10,\"solidity\":0.2}},\"type\":\"histogram\"}],\"histogram2d\":[{\"colorbar\":{\"outlinewidth\":0,\"ticks\":\"\"},\"colorscale\":[[0.0,\"#0d0887\"],[0.1111111111111111,\"#46039f\"],[0.2222222222222222,\"#7201a8\"],[0.3333333333333333,\"#9c179e\"],[0.4444444444444444,\"#bd3786\"],[0.5555555555555556,\"#d8576b\"],[0.6666666666666666,\"#ed7953\"],[0.7777777777777778,\"#fb9f3a\"],[0.8888888888888888,\"#fdca26\"],[1.0,\"#f0f921\"]],\"type\":\"histogram2d\"}],\"histogram2dcontour\":[{\"colorbar\":{\"outlinewidth\":0,\"ticks\":\"\"},\"colorscale\":[[0.0,\"#0d0887\"],[0.1111111111111111,\"#46039f\"],[0.2222222222222222,\"#7201a8\"],[0.3333333333333333,\"#9c179e\"],[0.4444444444444444,\"#bd3786\"],[0.5555555555555556,\"#d8576b\"],[0.6666666666666666,\"#ed7953\"],[0.7777777777777778,\"#fb9f3a\"],[0.8888888888888888,\"#fdca26\"],[1.0,\"#f0f921\"]],\"type\":\"histogram2dcontour\"}],\"mesh3d\":[{\"colorbar\":{\"outlinewidth\":0,\"ticks\":\"\"},\"type\":\"mesh3d\"}],\"parcoords\":[{\"line\":{\"colorbar\":{\"outlinewidth\":0,\"ticks\":\"\"}},\"type\":\"parcoords\"}],\"pie\":[{\"automargin\":true,\"type\":\"pie\"}],\"scatter\":[{\"marker\":{\"colorbar\":{\"outlinewidth\":0,\"ticks\":\"\"}},\"type\":\"scatter\"}],\"scatter3d\":[{\"line\":{\"colorbar\":{\"outlinewidth\":0,\"ticks\":\"\"}},\"marker\":{\"colorbar\":{\"outlinewidth\":0,\"ticks\":\"\"}},\"type\":\"scatter3d\"}],\"scattercarpet\":[{\"marker\":{\"colorbar\":{\"outlinewidth\":0,\"ticks\":\"\"}},\"type\":\"scattercarpet\"}],\"scattergeo\":[{\"marker\":{\"colorbar\":{\"outlinewidth\":0,\"ticks\":\"\"}},\"type\":\"scattergeo\"}],\"scattergl\":[{\"marker\":{\"colorbar\":{\"outlinewidth\":0,\"ticks\":\"\"}},\"type\":\"scattergl\"}],\"scattermapbox\":[{\"marker\":{\"colorbar\":{\"outlinewidth\":0,\"ticks\":\"\"}},\"type\":\"scattermapbox\"}],\"scatterpolar\":[{\"marker\":{\"colorbar\":{\"outlinewidth\":0,\"ticks\":\"\"}},\"type\":\"scatterpolar\"}],\"scatterpolargl\":[{\"marker\":{\"colorbar\":{\"outlinewidth\":0,\"ticks\":\"\"}},\"type\":\"scatterpolargl\"}],\"scatterternary\":[{\"marker\":{\"colorbar\":{\"outlinewidth\":0,\"ticks\":\"\"}},\"type\":\"scatterternary\"}],\"surface\":[{\"colorbar\":{\"outlinewidth\":0,\"ticks\":\"\"},\"colorscale\":[[0.0,\"#0d0887\"],[0.1111111111111111,\"#46039f\"],[0.2222222222222222,\"#7201a8\"],[0.3333333333333333,\"#9c179e\"],[0.4444444444444444,\"#bd3786\"],[0.5555555555555556,\"#d8576b\"],[0.6666666666666666,\"#ed7953\"],[0.7777777777777778,\"#fb9f3a\"],[0.8888888888888888,\"#fdca26\"],[1.0,\"#f0f921\"]],\"type\":\"surface\"}],\"table\":[{\"cells\":{\"fill\":{\"color\":\"#EBF0F8\"},\"line\":{\"color\":\"white\"}},\"header\":{\"fill\":{\"color\":\"#C8D4E3\"},\"line\":{\"color\":\"white\"}},\"type\":\"table\"}]},\"layout\":{\"annotationdefaults\":{\"arrowcolor\":\"#2a3f5f\",\"arrowhead\":0,\"arrowwidth\":1},\"autotypenumbers\":\"strict\",\"coloraxis\":{\"colorbar\":{\"outlinewidth\":0,\"ticks\":\"\"}},\"colorscale\":{\"diverging\":[[0,\"#8e0152\"],[0.1,\"#c51b7d\"],[0.2,\"#de77ae\"],[0.3,\"#f1b6da\"],[0.4,\"#fde0ef\"],[0.5,\"#f7f7f7\"],[0.6,\"#e6f5d0\"],[0.7,\"#b8e186\"],[0.8,\"#7fbc41\"],[0.9,\"#4d9221\"],[1,\"#276419\"]],\"sequential\":[[0.0,\"#0d0887\"],[0.1111111111111111,\"#46039f\"],[0.2222222222222222,\"#7201a8\"],[0.3333333333333333,\"#9c179e\"],[0.4444444444444444,\"#bd3786\"],[0.5555555555555556,\"#d8576b\"],[0.6666666666666666,\"#ed7953\"],[0.7777777777777778,\"#fb9f3a\"],[0.8888888888888888,\"#fdca26\"],[1.0,\"#f0f921\"]],\"sequentialminus\":[[0.0,\"#0d0887\"],[0.1111111111111111,\"#46039f\"],[0.2222222222222222,\"#7201a8\"],[0.3333333333333333,\"#9c179e\"],[0.4444444444444444,\"#bd3786\"],[0.5555555555555556,\"#d8576b\"],[0.6666666666666666,\"#ed7953\"],[0.7777777777777778,\"#fb9f3a\"],[0.8888888888888888,\"#fdca26\"],[1.0,\"#f0f921\"]]},\"colorway\":[\"#636efa\",\"#EF553B\",\"#00cc96\",\"#ab63fa\",\"#FFA15A\",\"#19d3f3\",\"#FF6692\",\"#B6E880\",\"#FF97FF\",\"#FECB52\"],\"font\":{\"color\":\"#2a3f5f\"},\"geo\":{\"bgcolor\":\"white\",\"lakecolor\":\"white\",\"landcolor\":\"#E5ECF6\",\"showlakes\":true,\"showland\":true,\"subunitcolor\":\"white\"},\"hoverlabel\":{\"align\":\"left\"},\"hovermode\":\"closest\",\"mapbox\":{\"style\":\"light\"},\"paper_bgcolor\":\"white\",\"plot_bgcolor\":\"#E5ECF6\",\"polar\":{\"angularaxis\":{\"gridcolor\":\"white\",\"linecolor\":\"white\",\"ticks\":\"\"},\"bgcolor\":\"#E5ECF6\",\"radialaxis\":{\"gridcolor\":\"white\",\"linecolor\":\"white\",\"ticks\":\"\"}},\"scene\":{\"xaxis\":{\"backgroundcolor\":\"#E5ECF6\",\"gridcolor\":\"white\",\"gridwidth\":2,\"linecolor\":\"white\",\"showbackground\":true,\"ticks\":\"\",\"zerolinecolor\":\"white\"},\"yaxis\":{\"backgroundcolor\":\"#E5ECF6\",\"gridcolor\":\"white\",\"gridwidth\":2,\"linecolor\":\"white\",\"showbackground\":true,\"ticks\":\"\",\"zerolinecolor\":\"white\"},\"zaxis\":{\"backgroundcolor\":\"#E5ECF6\",\"gridcolor\":\"white\",\"gridwidth\":2,\"linecolor\":\"white\",\"showbackground\":true,\"ticks\":\"\",\"zerolinecolor\":\"white\"}},\"shapedefaults\":{\"line\":{\"color\":\"#2a3f5f\"}},\"ternary\":{\"aaxis\":{\"gridcolor\":\"white\",\"linecolor\":\"white\",\"ticks\":\"\"},\"baxis\":{\"gridcolor\":\"white\",\"linecolor\":\"white\",\"ticks\":\"\"},\"bgcolor\":\"#E5ECF6\",\"caxis\":{\"gridcolor\":\"white\",\"linecolor\":\"white\",\"ticks\":\"\"}},\"title\":{\"x\":0.05},\"xaxis\":{\"automargin\":true,\"gridcolor\":\"white\",\"linecolor\":\"white\",\"ticks\":\"\",\"title\":{\"standoff\":15},\"zerolinecolor\":\"white\",\"zerolinewidth\":2},\"yaxis\":{\"automargin\":true,\"gridcolor\":\"white\",\"linecolor\":\"white\",\"ticks\":\"\",\"title\":{\"standoff\":15},\"zerolinecolor\":\"white\",\"zerolinewidth\":2}}},\"xaxis\":{\"anchor\":\"y\",\"domain\":[0.0,0.45],\"title\":{\"text\":\"max_depth\"},\"type\":\"log\"},\"yaxis\":{\"anchor\":\"x\",\"domain\":[0.0,1.0],\"title\":{\"text\":\"Objective Value\"}},\"xaxis2\":{\"anchor\":\"y2\",\"domain\":[0.55,1.0],\"title\":{\"text\":\"n_estimators\"}},\"yaxis2\":{\"anchor\":\"x2\",\"domain\":[0.0,1.0],\"matches\":\"y\",\"showticklabels\":false},\"title\":{\"text\":\"Slice Plot\"}},                        {\"responsive\": true}                    ).then(function(){\n",
              "                            \n",
              "var gd = document.getElementById('680199ad-57b0-4d16-a639-b545771c8242');\n",
              "var x = new MutationObserver(function (mutations, observer) {{\n",
              "        var display = window.getComputedStyle(gd).display;\n",
              "        if (!display || display === 'none') {{\n",
              "            console.log([gd, 'removed!']);\n",
              "            Plotly.purge(gd);\n",
              "            observer.disconnect();\n",
              "        }}\n",
              "}});\n",
              "\n",
              "// Listen for the removal of the full notebook cells\n",
              "var notebookContainer = gd.closest('#notebook-container');\n",
              "if (notebookContainer) {{\n",
              "    x.observe(notebookContainer, {childList: true});\n",
              "}}\n",
              "\n",
              "// Listen for the clearing of the current output cell\n",
              "var outputEl = gd.closest('.output');\n",
              "if (outputEl) {{\n",
              "    x.observe(outputEl, {childList: true});\n",
              "}}\n",
              "\n",
              "                        })                };                            </script>        </div>\n",
              "</body>\n",
              "</html>"
            ]
          },
          "metadata": {}
        }
      ]
    },
    {
      "cell_type": "markdown",
      "source": [
        "## 特徴量の重要度の評価"
      ],
      "metadata": {
        "id": "SL9jdk3UPzYz"
      }
    },
    {
      "cell_type": "markdown",
      "source": [
        "妥当性の検証を終え、クロスバリデーションとOptunaでより正確性が高かったモデルを使い、特徴量の重要度の評価を行います。\n",
        "特徴量の重要度の評価はScikit-learnのランダムフォレストモデルライブラリのfeature_importances()という関数を使います。\n"
      ],
      "metadata": {
        "id": "YJroG0CJPz--"
      }
    },
    {
      "cell_type": "code",
      "source": [
        "if accuracy_random_forest_op > accuracy_random_forest:\n",
        "  print(\"妥当性の検証方法でより正確だったのはOptunaです\")\n",
        "  feature_importances = rforest_model_post_optuna.feature_importances_\n",
        "else:\n",
        "  print(\"妥当性の検証方法でより正確だったのはCross Validationです\")\n",
        "  feature_importances = rforest_model_cv.feature_importances_\n",
        "\n",
        "feature_importances_dict = {}\n",
        "\n",
        "for i, importance in enumerate(feature_importances):\n",
        "  perc = importance * 100\n",
        "  feature_importances_dict[finalized_df.columns[i]] = perc # 一行目は出力行のため、考慮しない\n",
        "\n",
        "sorted_dict = {}\n",
        "sorted_keys = sorted(feature_importances_dict, key=feature_importances_dict.get)\n",
        "for w in sorted_keys:\n",
        "    sorted_dict[w] =  feature_importances_dict[w]\n",
        "  \n",
        "for keys in sorted_dict.keys():\n",
        "  print(f\"フィーチャー名：{keys:>12s}は出力データの結果に{sorted_dict[keys]:>7.2f}%関与しています\")"
      ],
      "metadata": {
        "colab": {
          "base_uri": "https://localhost:8080/"
        },
        "id": "qombCtB5P2mU",
        "outputId": "f329448c-f9ea-4cf8-8389-3bd3961f2b7f"
      },
      "execution_count": 20,
      "outputs": [
        {
          "output_type": "stream",
          "name": "stdout",
          "text": [
            "妥当性の検証方法でより正確だったのはCross Validationです\n",
            "フィーチャー名：     EOTAXINは出力データの結果に  12.09%関与しています\n",
            "フィーチャー名：       MCP-1は出力データの結果に  15.32%関与しています\n",
            "フィーチャー名：        IL-8は出力データの結果に  17.65%関与しています\n",
            "フィーチャー名：        IL-6は出力データの結果に  17.76%関与しています\n",
            "フィーチャー名：      GM-CSFは出力データの結果に  17.79%関与しています\n",
            "フィーチャー名：       MMP-1は出力データの結果に  19.38%関与しています\n"
          ]
        }
      ]
    },
    {
      "cell_type": "code",
      "source": [],
      "metadata": {
        "id": "L4c5-Bg8WN_N"
      },
      "execution_count": 20,
      "outputs": []
    },
    {
      "cell_type": "code",
      "source": [],
      "metadata": {
        "id": "bXLzLkYPWN8D"
      },
      "execution_count": 20,
      "outputs": []
    },
    {
      "cell_type": "code",
      "source": [],
      "metadata": {
        "id": "Ps-SKZ2bWN5A"
      },
      "execution_count": 20,
      "outputs": []
    },
    {
      "cell_type": "code",
      "source": [],
      "metadata": {
        "id": "YLhzhoXcWN16"
      },
      "execution_count": 20,
      "outputs": []
    },
    {
      "cell_type": "code",
      "source": [],
      "metadata": {
        "id": "IhGm51n-WNyM"
      },
      "execution_count": 20,
      "outputs": []
    },
    {
      "cell_type": "markdown",
      "source": [
        "##  特徴量の重要度の評価に基づきモデル再構築"
      ],
      "metadata": {
        "id": "TRY9f7vuP4eT"
      }
    },
    {
      "cell_type": "markdown",
      "source": [
        "特徴量設計は、モデルタイプやそのパラメータよりもモデルの品質に大きな影響を与えるという共通認識があります。特徴量選択が重要な問題である理由として、実際のパターンを隠してしまうほどの余分な特徴量で学習してしまうと、本来のパターンを見つけるのが難しくなります。この場合、モデルは不要な特徴量のノイズパターンを使用し始め、結果としてパフォーマンスの低下につながります。加え、特徴量の数を減らすと、一般的にモデルの学習（トレーニング）が大幅に速くなります。そして大抵の場合、結果として得られるモデルは単純で理解しやすいものとなります。常に単純なモデルになるように心がけ、ノイズを削除し、ロバストなモデル作成を心がける必要があります。詳しくはこちらを参照して下さい [[4](https://www.rapidminer.jp/wp-content/uploads/2020/05/%E6%A9%9F%E6%A2%B0%E5%AD%A6%E7%BF%92%E3%81%AE%E3%81%9F%E3%82%81%E3%81%AE%E7%89%B9%E5%BE%B4%E9%87%8F%E6%9C%80%E9%81%A9%E5%8C%96.pdf)]。\n",
        "\n",
        "今回はForward Selectionという考え方を応用し、特徴量の重要度の評価で最も正答率が高かった5個の属性を保持して再度モデルを作成します。"
      ],
      "metadata": {
        "id": "7XOqF-lkP5N9"
      }
    },
    {
      "cell_type": "code",
      "source": [
        "top_five_params = list(sorted_dict.keys())\n",
        "print(f\"The top ten parameters are: {top_five_params}\")\n",
        "top_five_params.append('90day-mortality')\n",
        "\n",
        "# 最後に使用したPandasデータフレームをコピーを作成する\n",
        "finalized_df_c = finalized_df.copy()\n",
        "\n",
        "# 行数と列数を変数として保管する\n",
        "NUM_ROWS, NUM_COLS = finalized_df_c.shape[0], finalized_df_c.shape[1]\n",
        "\n",
        "# Y (ラベル) ターゲットラベル\n",
        "Y_col = '90day-mortality'\n",
        "# X (フィーチャー) ターゲットラベル以外の全ての行\n",
        "X_cols = finalized_df_c.loc[:, finalized_df_c.columns != Y_col].columns\n",
        "\n",
        "X_train, X_val, y_train, y_val = \\\n",
        "train_test_split(finalized_df_c[X_cols], finalized_df_c[Y_col],test_size=0.2, random_state=42)\n",
        "\n",
        "print(\"X_train.shape = \", X_train.shape, \" \\t y_train.shape = \", y_train.shape)\n",
        "print(\"X_val.shape = \", X_val.shape, \" \\t y_val.shape = \", y_val.shape)\n",
        "\n",
        "if accuracy_random_forest_op > accuracy_random_forest:\n",
        "  study = optuna.create_study(direction='maximize')\n",
        "  study.optimize(objective, n_trials=100)\n",
        "\n",
        "  trial = study.best_trial\n",
        "  print('Accuracy: {}'.format(trial.value))\n",
        "\n",
        "  # チューニングしたハイパーパラメーターをフィット\n",
        "  rforest_model_forward_selection = ensemble.RandomForestClassifier(\n",
        "                                     max_depth = trial.params['max_depth'],\n",
        "                                     n_estimators = trial.params['n_estimators'],                                    \n",
        "                                     n_jobs=-1)\n",
        "\n",
        "else:\n",
        "  # cross validationを使い、階層や決定木の数をチューニングしてみる（ハイパーパラメーター）\n",
        "  # 注：過適合/過剰適合のバランスを見極めながらハイパーパラメーターチューニングを行う\n",
        "  best_accuracy = 0\n",
        "  best_depth = 1\n",
        "  best_num_trees = 42\n",
        "\n",
        "  for ntrees in range(50,450,100):  # 決定木50から350の間（ステップ数：100)\n",
        "      for d in range(1,20): # 階層1から20の間\n",
        "          rforest_model = ensemble.RandomForestClassifier(\n",
        "              n_estimators= ntrees,\n",
        "              criterion='entropy',\n",
        "              max_depth=d,\n",
        "              min_samples_split=2,\n",
        "              min_samples_leaf=1,\n",
        "              min_weight_fraction_leaf=0.0,\n",
        "              max_features='auto',\n",
        "              max_leaf_nodes=None,\n",
        "              min_impurity_decrease=0.0,\n",
        "              bootstrap=True,\n",
        "              oob_score=False,\n",
        "              n_jobs=-1,\n",
        "              random_state=0,\n",
        "              verbose=0,\n",
        "              warm_start=False,\n",
        "              class_weight='balanced'\n",
        "          )\n",
        "          cv_scores = cross_val_score( rforest_model, X_train, y_train, cv=5 ) # 5 はトレーニング・テストの割合が8割・2割ということを表す\n",
        "          average_cv_accuracy = cv_scores.mean()  # cvスコアの平均値cv=5はスコアを五つ出すため、その平均値を見る\n",
        "          if average_cv_accuracy >= best_accuracy: # cvスコアの平均値正確性が現在の最適正確性を上回った場合、現在のcvスコア平均値を出した決定木数・階層を最適とする\n",
        "              best_accuracy = average_cv_accuracy\n",
        "              best_depth = d\n",
        "              best_num_trees = ntrees\n",
        "\n",
        "  print()\n",
        "  print(f\"最適層: {best_depth}, 最適決定木数： {best_num_trees}, 最高予測精度：{best_accuracy}\")\n",
        "\n",
        "  # 上記で見つけた最適層・最適決定木数をもとにモデルの構築・モデルのトレーニング\n",
        "  rforest_model_forward_selection = ensemble.RandomForestClassifier(max_depth=best_depth, n_estimators=best_num_trees) # ensemble.RandomForestClassifierからRF解析モデルを引っ張ってくる\n",
        "\n",
        "# モデルを再度トレーニングする\n",
        "rforest_model_forward_selection.fit(X_train, y_train) \n",
        "\n",
        "# 再度トレーニングした後のモデルのパフォーマンス検証\n",
        "# テストデータにrforest_modelに.predict()関数を応用し、RFモデルがラベルを何個正確に予測出来たかを検証する\n",
        "y_pred_op = rforest_model_forward_selection.predict(X_val)\n",
        "\n",
        "#モデルを作成する段階でのモデルの識別精度\n",
        "trainaccuracy_random_forest = rforest_model_forward_selection.score(X_train, y_train)\n",
        "print('TrainAccuracy: {}'.format(trainaccuracy_random_forest))\n",
        "\n",
        "#作成したモデルに学習に使用していない評価用のデータセットを入力し精度を確認\n",
        "accuracy_random_forest = accuracy_score(y_val, y_pred_op)\n",
        "print('Accuracy: {}'.format(accuracy_random_forest))\n",
        "\n",
        "# 正確性の出力\n",
        "print(classification_report(y_val, y_pred_op))\n",
        "\n",
        "# フィーチャーの重要度を出力するコード\n",
        "feature_importances_opt = rforest_model_forward_selection.feature_importances_\n",
        "\n",
        "feature_importances_dict = {}\n",
        "for i, importance in enumerate(feature_importances_opt):\n",
        "  perc = importance * 100\n",
        "  feature_importances_dict[finalized_df_c.columns[i]] = perc\n",
        "\n",
        "sorted_dict = {}\n",
        "sorted_keys = sorted(feature_importances_dict, key=feature_importances_dict.get)\n",
        "for w in sorted_keys:\n",
        "    sorted_dict[w] =  feature_importances_dict[w]\n",
        "  \n",
        "for keys in sorted_dict.keys():\n",
        "  print(f\"フィーチャー名：{keys:>12s}は出力データの結果に{sorted_dict[keys]:>7.2f}%関与しています\")"
      ],
      "metadata": {
        "colab": {
          "base_uri": "https://localhost:8080/"
        },
        "id": "guulZzHQP-ef",
        "outputId": "66c0d32d-4cde-4900-e014-69129f0334c5"
      },
      "execution_count": 21,
      "outputs": [
        {
          "output_type": "stream",
          "name": "stdout",
          "text": [
            "The top ten parameters are: ['EOTAXIN', 'MCP-1', 'IL-8', 'IL-6', 'GM-CSF', 'MMP-1']\n",
            "X_train.shape =  (113, 6)  \t y_train.shape =  (113,)\n",
            "X_val.shape =  (29, 6)  \t y_val.shape =  (29,)\n",
            "\n",
            "最適層: 6, 最適決定木数： 50, 最高予測精度：0.6288537549407115\n",
            "TrainAccuracy: 0.9823008849557522\n",
            "Accuracy: 0.5517241379310345\n",
            "              precision    recall  f1-score   support\n",
            "\n",
            "         0.0       0.62      0.72      0.67        18\n",
            "         1.0       0.38      0.27      0.32        11\n",
            "\n",
            "    accuracy                           0.55        29\n",
            "   macro avg       0.50      0.50      0.49        29\n",
            "weighted avg       0.53      0.55      0.53        29\n",
            "\n",
            "フィーチャー名：     EOTAXINは出力データの結果に  10.55%関与しています\n",
            "フィーチャー名：        IL-6は出力データの結果に  13.38%関与しています\n",
            "フィーチャー名：      GM-CSFは出力データの結果に  15.33%関与しています\n",
            "フィーチャー名：       MCP-1は出力データの結果に  15.73%関与しています\n",
            "フィーチャー名：        IL-8は出力データの結果に  22.17%関与しています\n",
            "フィーチャー名：       MMP-1は出力データの結果に  22.84%関与しています\n"
          ]
        }
      ]
    },
    {
      "cell_type": "markdown",
      "source": [
        "混同行列で予測結果を確認していきましょう。"
      ],
      "metadata": {
        "id": "6llkG1YFQCkt"
      }
    },
    {
      "cell_type": "code",
      "source": [
        "top_five_params"
      ],
      "metadata": {
        "colab": {
          "base_uri": "https://localhost:8080/"
        },
        "id": "560zR35vyn-H",
        "outputId": "c2cd168b-7ba1-48f2-f4d8-9338e02b4a59"
      },
      "execution_count": 22,
      "outputs": [
        {
          "output_type": "execute_result",
          "data": {
            "text/plain": [
              "['EOTAXIN', 'MCP-1', 'IL-8', 'IL-6', 'GM-CSF', 'MMP-1', '90day-mortality']"
            ]
          },
          "metadata": {},
          "execution_count": 22
        }
      ]
    },
    {
      "cell_type": "code",
      "source": [
        "result = confusion_matrix(y_val, y_pred_op)\n",
        "print(\"Confusion Matrix:\")\n",
        "#confusion matrix\n",
        "labels = sorted(finalized_df_c['90day-mortality'].unique())\n",
        "ax = sns.heatmap(\n",
        "confusion_matrix(y_val, y_pred_op),\n",
        "annot=True,\n",
        "xticklabels=labels,\n",
        "yticklabels=labels\n",
        ")\n",
        "ax.set(xlabel='true label', ylabel='predicted label')"
      ],
      "metadata": {
        "colab": {
          "base_uri": "https://localhost:8080/",
          "height": 321
        },
        "id": "MPzMzoUeP-lX",
        "outputId": "483bd3b2-c4c8-4c84-81d5-944d5097ee2b"
      },
      "execution_count": 23,
      "outputs": [
        {
          "output_type": "stream",
          "name": "stdout",
          "text": [
            "Confusion Matrix:\n"
          ]
        },
        {
          "output_type": "execute_result",
          "data": {
            "text/plain": [
              "[Text(30.5, 0.5, 'predicted label'), Text(0.5, 12.5, 'true label')]"
            ]
          },
          "metadata": {},
          "execution_count": 23
        },
        {
          "output_type": "display_data",
          "data": {
            "text/plain": [
              "<Figure size 432x288 with 2 Axes>"
            ],
            "image/png": "[encoded data removed]"
          },
          "metadata": {
            "needs_background": "light"
          }
        }
      ]
    },
    {
      "cell_type": "markdown",
      "source": [
        "## 学習モデルの保存"
      ],
      "metadata": {
        "id": "fKnMsr8TQGVe"
      }
    },
    {
      "cell_type": "markdown",
      "source": [
        "モデルは訓練中にも、訓練が終わったあとも保存できます。このことは、長い訓練時間を掛けなくても、やめたところから再開できるということを意味します。モデルが保存可能であることは、作ったモデルを他の人と共有できるということでもあります。\n",
        "\n",
        "保存方法としてはJoblibというSciPyのライブラリを使用します。JoblibはPythonのジョブをパイプライン処理するためのユーティリティを提供しています。NumPyデータ構造を効率的に利用するPythonオブジェクトの保存とロードを行うユーティリティを提供します。"
      ],
      "metadata": {
        "id": "g6xLU0oNQG6b"
      }
    },
    {
      "cell_type": "code",
      "source": [
        "# モデルを./outに保存\n",
        "filename = 'out/finalized_model_simplified.joblib'\n",
        "joblib.dump(rforest_model_forward_selection, filename)\n",
        "\n",
        "# モデルをGoogle Driveに保存\n",
        "!cp 'out/finalized_model_simplified.joblib' '/content/drive/MyDrive/Furuta'\n",
        "\n",
        "# モデルをGoogle Driveからロードしたい場合\n",
        "loaded_model_forward_selection = joblib.load(\"/content/drive/MyDrive/Furuta/finalized_model_simplified.joblib\")\n",
        "\n",
        "# テスト用データフレームから重要因子以外を取り除く\n",
        "X_test = X_test.drop(columns=[col for col in X_test.columns if col not in top_five_params])\n",
        "\n",
        "# 検証データにrforest_modelに.predict()関数を応用し、RFモデルがラベルを何個正確に予測出来たかを検証する\n",
        "y_pred_final = loaded_model_forward_selection.predict(X_test)\n",
        "\n",
        "#モデルを作成する段階でのモデルの識別精度\n",
        "trainaccuracy_random_forest_final = loaded_model_forward_selection.score(X_test, y_test)\n",
        "print('TrainAccuracy: {}'.format(trainaccuracy_random_forest_final))\n",
        "\n",
        "#作成したモデルに学習に使用していない評価用のデータセットを入力し精度を確認\n",
        "accuracy_random_forest_final = accuracy_score(y_test, y_pred_final)\n",
        "print('Accuracy: {}'.format(accuracy_random_forest_final))\n",
        "\n",
        "# 正確性の出力\n",
        "print(classification_report(y_test, y_pred_final))\n",
        "\n",
        "result = confusion_matrix(y_test, y_pred_final)\n",
        "print(\"Confusion Matrix:\")\n",
        "\n",
        "#confusion matrix\n",
        "labels = sorted(finalized_df_c['90day-mortality'].unique())\n",
        "ax = sns.heatmap(\n",
        "confusion_matrix(y_test, y_pred_final),\n",
        "annot=True,\n",
        "xticklabels=labels,\n",
        "yticklabels=labels\n",
        ")\n",
        "ax.set(xlabel='true label', ylabel='predicted label')"
      ],
      "metadata": {
        "colab": {
          "base_uri": "https://localhost:8080/",
          "height": 521
        },
        "id": "zc0l6wZVQJrO",
        "outputId": "75154623-606f-4392-b3dd-ca73a7ec9a12"
      },
      "execution_count": 24,
      "outputs": [
        {
          "output_type": "stream",
          "name": "stdout",
          "text": [
            "TrainAccuracy: 0.9444444444444444\n",
            "Accuracy: 0.9444444444444444\n",
            "              precision    recall  f1-score   support\n",
            "\n",
            "         0.0       0.94      1.00      0.97        15\n",
            "         1.0       1.00      0.67      0.80         3\n",
            "\n",
            "    accuracy                           0.94        18\n",
            "   macro avg       0.97      0.83      0.88        18\n",
            "weighted avg       0.95      0.94      0.94        18\n",
            "\n",
            "Confusion Matrix:\n"
          ]
        },
        {
          "output_type": "execute_result",
          "data": {
            "text/plain": [
              "[Text(30.5, 0.5, 'predicted label'), Text(0.5, 12.5, 'true label')]"
            ]
          },
          "metadata": {},
          "execution_count": 24
        },
        {
          "output_type": "display_data",
          "data": {
            "text/plain": [
              "<Figure size 432x288 with 2 Axes>"
            ],
            "image/png": "[encoded data removed]"
          },
          "metadata": {
            "needs_background": "light"
          }
        }
      ]
    },
    {
      "cell_type": "code",
      "source": [],
      "metadata": {
        "id": "A--nWMedJ_Zu"
      },
      "execution_count": null,
      "outputs": []
    },
    {
      "cell_type": "code",
      "source": [],
      "metadata": {
        "id": "WHzD_x-8J_XB"
      },
      "execution_count": null,
      "outputs": []
    },
    {
      "cell_type": "code",
      "source": [
        "class BaseBALDatasetProcessor2(object):\n",
        "    def __init__(\n",
        "        self,\n",
        "        dataset,\n",
        "        dataset_root,\n",
        "        dataframe_name,\n",
        "    ):\n",
        "        # 模擬データが元のデータの類似するように模擬データの作成設定をcorrelated_attribute_modeにする\n",
        "        self.mode = 'correlated_attribute_mode'\n",
        "        self.dataset = dataset\n",
        "        self.dataset_root = dataset_root\n",
        "        self.dataframe_name = dataframe_name\n",
        "\n",
        "        # Holdout法に基づき先に学習用のデータを分割したデータフレーム\n",
        "        self.augment_training_df = pd.DataFrame()\n",
        "\n",
        "        # 模擬データの構造を説明するための情報ファイル等の指定\n",
        "        if os.path.exists(f'./out/description_simplified.json') and os.path.exists(f'./out/synthetic_data_simplified.csv'):\n",
        "            self.description_file = f'./out/description_simplified.json'\n",
        "            self.synthetic_data = f'./out/synthetic_data_simplified.csv'\n",
        "\n",
        "        else:\n",
        "            self.output_dir = f'./out'\n",
        "            self.description_file = f'./out/description_simplified.json'\n",
        "            self.synthetic_data = f'./out/synthetic_data_simplified.csv'\n",
        "\n",
        "        # データセットをPandasのデータフレームとして読み込む\n",
        "        self.dataframe = pd.read_excel(self.dataset, engine='openpyxl')\n",
        "\n",
        "        # データセット内のカテゴリカル変数の数値をその数値が表すカテゴリーに置き換える必要がある際\n",
        "        self.columnname_dict = OrderedDict([\n",
        "            ('90day-mortality', {0.0: 'survival', 1.0: 'death'}),\n",
        "            ('sex', {0.0: 'male', 1.0: 'female'}),\n",
        "            ('smoking-status',\n",
        "             {0.0: 'Never',\n",
        "                   1.0: 'Ex(quit smoking over a year ago)',\n",
        "                   2.0: 'Current'}),\n",
        "            ('emphysema', {0.0: '-', 1.0: '+'}),\n",
        "            ('Baseline-ILD',\n",
        "             {0.0: 'UIP',\n",
        "                   1.0: 'probable UIP',\n",
        "                   2.0: 'Indeterminate for UIP',\n",
        "                   3.0: 'Alternative diagnosis'}),\n",
        "            ('Collagen-disease', {0.0: '-', 1.0: '+'}),\n",
        "            ('IPAF', {0.0: '-', 1.0: '+'})])\n",
        "\n",
        "    def clean_header(\n",
        "        self,\n",
        "        text\n",
        "    ):\n",
        "        \"\"\"\n",
        "        Pandasデータフレームのヘッダー内の\"\\n\"をスペースに変換する関数\n",
        "        \"\"\"\n",
        "        text = text.strip()\n",
        "        text = text.replace(\" \", \"-\")\n",
        "        text_n_newline = text.replace(\"\\n\", \" \")\n",
        "        return text_n_newline\n",
        "\n",
        "    def convert_text_to_list(self):\n",
        "        \"\"\"\n",
        "        Pandasデータフレームのヘッダーをリストに変換する関数\n",
        "        \"\"\"\n",
        "        df_header_list = self.dataframe.columns.values.tolist()\n",
        "        df_header_list_cleaned = [self.clean_header(x) for x in df_header_list]\n",
        "        self.dataframe.columns = df_header_list_cleaned\n",
        "\n",
        "    def drop_columns(\n",
        "        self,\n",
        "        col_names=[\"No\"]\n",
        "    ):\n",
        "        \"\"\"\n",
        "        学習に不必要な項目をdrop()する関数\n",
        "        \"\"\"\n",
        "        self.dataframe.drop(columns=self.dataframe.columns.difference(col_names), inplace=True)\n",
        "    def data_imputation(\n",
        "        self,\n",
        "        null_val='NaN',\n",
        "        strategy='median'\n",
        "    ):\n",
        "        \"\"\"\n",
        "        sklearnのSimpleImputerを導入し欠損値（NaN)補完を行う関数\n",
        "        \"\"\"\n",
        "        if null_val == 'NaN':\n",
        "            nan_attr = np.NaN\n",
        "        else:\n",
        "            print(\"Declare valid null data value for variable null_val\")\n",
        "        # データフレーム内の\"NaN\"をnumpyのNaNと置き換える)\n",
        "        self.dataframe.replace(null_val, nan_attr, inplace=True)\n",
        "        # sklearnのSimpleImputerを使い、np.NaNをnull値として認識させる。\n",
        "        # 加、strategy=\"median\"はnp.NaNをその行のNaNを中央値と置き換えるための指定\n",
        "        imp = SimpleImputer(missing_values=nan_attr, strategy=strategy)\n",
        "        df_idf = pd.DataFrame(imp.fit_transform(self.dataframe))\n",
        "        # SimpleImputerは数値しか作成できない為、元のデータセットの行名を新しいデータセットに加るコード\n",
        "        df_idf.columns = self.dataframe.columns\n",
        "        self.dataframe = df_idf\n",
        "\n",
        "    def remove_header_map(\n",
        "        self,\n",
        "        text\n",
        "    ):\n",
        "        \"\"\"\n",
        "        Pandasデータフレームのヘッダー内にカテゴリカル変数が含まれる場合、数値と置き換える関数\n",
        "        \"\"\"\n",
        "        for key in self.columnname_dict.keys():\n",
        "            if key in text:\n",
        "                text = key\n",
        "        return text\n",
        "\n",
        "\n",
        "        \"\"\"\n",
        "        上記全ての工程を一度に実行するためのメイン関数\n",
        "        \"\"\"\n",
        "        self.convert_text_to_list()\n",
        "        self.drop_columns(col_names=[\n",
        "            'LDH', \n",
        "            'CRP', \n",
        "            'P/F-ratio', \n",
        "            'BAL(neutro-%)', \n",
        "            'MMP-1', \n",
        "            'GM-CSF', \n",
        "            'IL-6',\n",
        "            'IL-8',\n",
        "            'MCP-1',\n",
        "            'EOTAXIN',\n",
        "            '90day-mortality survival:0 death:1',\n",
        "            'ID',\n",
        "            ])\n",
        "        self.data_imputation(null_val='NaN', strategy='median')\n",
        "        return self.synthetic_data_wrapper()"
      ],
      "metadata": {
        "id": "WKK1SAqoJ_UN"
      },
      "execution_count": 52,
      "outputs": []
    },
    {
      "cell_type": "code",
      "source": [
        "dataset = 'patient_data.xlsx'\n",
        "dataset_root = './'\n",
        "dataframe_name = 'AE_FILD_df'\n",
        "post_processed_data_frame, X_test, y_test = BaseBALDatasetProcessor2(dataset, dataset_root, dataframe_name).main()\n",
        "print(post_processed_data_frame['90day-mortality'].value_counts())"
      ],
      "metadata": {
        "colab": {
          "base_uri": "https://localhost:8080/",
          "height": 229
        },
        "id": "IAiHmCtpJ_RR",
        "outputId": "c1594028-1757-43b0-af88-342877b2c30a"
      },
      "execution_count": 53,
      "outputs": [
        {
          "output_type": "error",
          "ename": "AttributeError",
          "evalue": "ignored",
          "traceback": [
            "\u001b[0;31m---------------------------------------------------------------------------\u001b[0m",
            "\u001b[0;31mAttributeError\u001b[0m                            Traceback (most recent call last)",
            "\u001b[0;32m<ipython-input-53-b310c255192c>\u001b[0m in \u001b[0;36m<module>\u001b[0;34m\u001b[0m\n\u001b[1;32m      2\u001b[0m \u001b[0mdataset_root\u001b[0m \u001b[0;34m=\u001b[0m \u001b[0;34m'./'\u001b[0m\u001b[0;34m\u001b[0m\u001b[0;34m\u001b[0m\u001b[0m\n\u001b[1;32m      3\u001b[0m \u001b[0mdataframe_name\u001b[0m \u001b[0;34m=\u001b[0m \u001b[0;34m'AE_FILD_df'\u001b[0m\u001b[0;34m\u001b[0m\u001b[0;34m\u001b[0m\u001b[0m\n\u001b[0;32m----> 4\u001b[0;31m \u001b[0mpost_processed_data_frame\u001b[0m\u001b[0;34m,\u001b[0m \u001b[0mX_test\u001b[0m\u001b[0;34m,\u001b[0m \u001b[0my_test\u001b[0m \u001b[0;34m=\u001b[0m \u001b[0mBaseBALDatasetProcessor2\u001b[0m\u001b[0;34m(\u001b[0m\u001b[0mdataset\u001b[0m\u001b[0;34m,\u001b[0m \u001b[0mdataset_root\u001b[0m\u001b[0;34m,\u001b[0m \u001b[0mdataframe_name\u001b[0m\u001b[0;34m)\u001b[0m\u001b[0;34m.\u001b[0m\u001b[0mmain\u001b[0m\u001b[0;34m(\u001b[0m\u001b[0;34m)\u001b[0m\u001b[0;34m\u001b[0m\u001b[0;34m\u001b[0m\u001b[0m\n\u001b[0m\u001b[1;32m      5\u001b[0m \u001b[0mprint\u001b[0m\u001b[0;34m(\u001b[0m\u001b[0mpost_processed_data_frame\u001b[0m\u001b[0;34m[\u001b[0m\u001b[0;34m'90day-mortality'\u001b[0m\u001b[0;34m]\u001b[0m\u001b[0;34m.\u001b[0m\u001b[0mvalue_counts\u001b[0m\u001b[0;34m(\u001b[0m\u001b[0;34m)\u001b[0m\u001b[0;34m)\u001b[0m\u001b[0;34m\u001b[0m\u001b[0;34m\u001b[0m\u001b[0m\n",
            "\u001b[0;31mAttributeError\u001b[0m: 'BaseBALDatasetProcessor2' object has no attribute 'main'"
          ]
        }
      ]
    },
    {
      "cell_type": "code",
      "source": [],
      "metadata": {
        "id": "7rV5KIGEJ_N_"
      },
      "execution_count": null,
      "outputs": []
    },
    {
      "cell_type": "code",
      "source": [],
      "metadata": {
        "id": "tB5Oc4_FJ_Kf"
      },
      "execution_count": null,
      "outputs": []
    },
    {
      "cell_type": "code",
      "source": [
        "from sklearn.tree import DecisionTreeClassifier\n",
        "\n",
        "tree_cls = DecisionTreeClassifier(max_depth=6, random_state=0).fit(X_train, y_train)\n",
        "\n",
        "y_train_pred = tree_cls.predict(X_train)\n",
        "y_test_pred = tree_cls.predict(X_test)"
      ],
      "metadata": {
        "id": "rgAHVTvABWje"
      },
      "execution_count": 40,
      "outputs": []
    },
    {
      "cell_type": "code",
      "source": [
        "from sklearn.metrics import accuracy_score\n",
        "\n",
        "print(f'訓練データ正解割合：{accuracy_score(y_train, y_train_pred)}')\n",
        "print(f'テストデータ正解割合：{accuracy_score(y_test, y_test_pred)}')"
      ],
      "metadata": {
        "colab": {
          "base_uri": "https://localhost:8080/"
        },
        "id": "US3Cz9IzH4gt",
        "outputId": "7b49283d-7640-4dcf-8e2e-4b0c8e9b331e"
      },
      "execution_count": 41,
      "outputs": [
        {
          "output_type": "stream",
          "name": "stdout",
          "text": [
            "訓練データ正解割合：0.8230088495575221\n",
            "テストデータ正解割合：0.7222222222222222\n"
          ]
        }
      ]
    },
    {
      "cell_type": "code",
      "source": [
        "from sklearn.metrics import precision_score\n",
        "\n",
        "print(f'訓練データ適合率：{precision_score(y_train, y_train_pred, pos_label=0)}')\n",
        "print(f'テストデータ適合率：{precision_score(y_test, y_test_pred, pos_label=0)}')"
      ],
      "metadata": {
        "colab": {
          "base_uri": "https://localhost:8080/"
        },
        "id": "rTtqdzCsIY8V",
        "outputId": "17665f01-f1c4-49b4-ea11-cd0c602c6b9f"
      },
      "execution_count": 43,
      "outputs": [
        {
          "output_type": "stream",
          "name": "stdout",
          "text": [
            "訓練データ適合率：0.7954545454545454\n",
            "テストデータ適合率：0.8125\n"
          ]
        }
      ]
    },
    {
      "cell_type": "code",
      "source": [
        "from sklearn.metrics import f1_score\n",
        "\n",
        "print(f'訓練データ適合率：{f1_score(y_train, y_train_pred, pos_label=0)}')\n",
        "print(f'テストデータ適合率：{f1_score(y_test, y_test_pred, pos_label=0)}')"
      ],
      "metadata": {
        "colab": {
          "base_uri": "https://localhost:8080/"
        },
        "id": "tsTmD9bYIfJn",
        "outputId": "e8028a00-f8b0-4e75-83d5-c14a90d18300"
      },
      "execution_count": 44,
      "outputs": [
        {
          "output_type": "stream",
          "name": "stdout",
          "text": [
            "訓練データ適合率：0.875\n",
            "テストデータ適合率：0.8387096774193549\n"
          ]
        }
      ]
    },
    {
      "cell_type": "code",
      "source": [
        "from sklearn.metrics import classification_report\n",
        "\n",
        "print('Train Score Report')\n",
        "print(classification_report(y_train, y_train_pred))\n",
        "print('Test Score Report')\n",
        "print(classification_report(y_test, y_test_pred))"
      ],
      "metadata": {
        "colab": {
          "base_uri": "https://localhost:8080/"
        },
        "id": "Cma5JhGbIjkf",
        "outputId": "faf271ae-e050-4990-d2be-1a3c4ca09df4"
      },
      "execution_count": 45,
      "outputs": [
        {
          "output_type": "stream",
          "name": "stdout",
          "text": [
            "Train Score Report\n",
            "              precision    recall  f1-score   support\n",
            "\n",
            "         0.0       0.80      0.97      0.88        72\n",
            "         1.0       0.92      0.56      0.70        41\n",
            "\n",
            "    accuracy                           0.82       113\n",
            "   macro avg       0.86      0.77      0.79       113\n",
            "weighted avg       0.84      0.82      0.81       113\n",
            "\n",
            "Test Score Report\n",
            "              precision    recall  f1-score   support\n",
            "\n",
            "         0.0       0.81      0.87      0.84        15\n",
            "         1.0       0.00      0.00      0.00         3\n",
            "\n",
            "    accuracy                           0.72        18\n",
            "   macro avg       0.41      0.43      0.42        18\n",
            "weighted avg       0.68      0.72      0.70        18\n",
            "\n"
          ]
        }
      ]
    },
    {
      "cell_type": "code",
      "source": [
        "from sklearn.metrics import confusion_matrix\n",
        "import matplotlib.pyplot as plt\n",
        "import seaborn as sns\n",
        "\n",
        "matrix = confusion_matrix(y_test, y_test_pred)\n",
        "\n",
        "sns.heatmap(matrix.T, square=True, annot=True)\n",
        "plt.xlabel('True Label')\n",
        "plt.ylabel('Pred Labe')"
      ],
      "metadata": {
        "colab": {
          "base_uri": "https://localhost:8080/",
          "height": 303
        },
        "id": "14vDFLDPGpIs",
        "outputId": "e01ca849-ae35-4f0e-9de8-7cd98f14f71c"
      },
      "execution_count": 46,
      "outputs": [
        {
          "output_type": "execute_result",
          "data": {
            "text/plain": [
              "Text(80.90000000000006, 0.5, 'Pred Labe')"
            ]
          },
          "metadata": {},
          "execution_count": 46
        },
        {
          "output_type": "display_data",
          "data": {
            "text/plain": [
              "<Figure size 432x288 with 2 Axes>"
            ],
            "image/png": "[encoded data removed]"
          },
          "metadata": {
            "needs_background": "light"
          }
        }
      ]
    },
    {
      "cell_type": "code",
      "source": [
        "from sklearn import tree\n",
        "\n",
        "plt.figure (figsize=(20, 8))\n",
        "tree.plot_tree(tree_cls, feature_names=X_train.columns, filled=True, proportion=True, fontsize=8)\n",
        "plt.show()"
      ],
      "metadata": {
        "colab": {
          "base_uri": "https://localhost:8080/",
          "height": 452
        },
        "id": "ZaYQiXMc798L",
        "outputId": "73f1b277-7cbc-4ba6-930d-640a0e3dbc8f"
      },
      "execution_count": 47,
      "outputs": [
        {
          "output_type": "display_data",
          "data": {
            "text/plain": [
              "<Figure size 1440x576 with 1 Axes>"
            ],
            "image/png": "[encoded data removed]"
          },
          "metadata": {
            "needs_background": "light"
          }
        }
      ]
    },
    {
      "cell_type": "code",
      "source": [],
      "metadata": {
        "id": "zJ9YE3eFE8dM"
      },
      "execution_count": null,
      "outputs": []
    },
    {
      "cell_type": "markdown",
      "source": [
        "#精度悪いのでテストなしで検証"
      ],
      "metadata": {
        "id": "GW6tl7ErIoGU"
      }
    },
    {
      "cell_type": "code",
      "source": [
        "X_dtc = finalized_df_c[X_cols]\n",
        "y_dtc = finalized_df_c[Y_col]"
      ],
      "metadata": {
        "id": "2eiLcs-YE8Ul"
      },
      "execution_count": 48,
      "outputs": []
    },
    {
      "cell_type": "code",
      "source": [
        "X_dtc.shape"
      ],
      "metadata": {
        "colab": {
          "base_uri": "https://localhost:8080/"
        },
        "id": "QxMxGk4uE8OU",
        "outputId": "375d982f-a8f8-4792-bb4b-016858a87991"
      },
      "execution_count": 49,
      "outputs": [
        {
          "output_type": "execute_result",
          "data": {
            "text/plain": [
              "(142, 6)"
            ]
          },
          "metadata": {},
          "execution_count": 49
        }
      ]
    },
    {
      "cell_type": "code",
      "source": [],
      "metadata": {
        "id": "5fv7qpAiE8LV"
      },
      "execution_count": null,
      "outputs": []
    },
    {
      "cell_type": "markdown",
      "source": [
        "## 終わりに"
      ],
      "metadata": {
        "id": "4rilDap8QLpU"
      }
    },
    {
      "cell_type": "markdown",
      "source": [
        "今研究では、和歌山医科大学の保有する、線維化を伴う間質性肺炎の急性増悪の多施設後ろ向き実態調査に登録された患者において急性増悪中に施行されたBAL液中のサイトカインやケモカインのデータを用いて、間質性肺炎の予後予測因子の抽出と予後予測に取り組みました。\n",
        "\n",
        "解析内容の要約は以下となります。\n",
        "1.   環境構築\n",
        "2.   データ前処理\n",
        "3.   RF解析モデル構築\n",
        "4.   妥当性の検証・ハイパーパラメーターチューニング\n",
        "5.   特徴量重要度の評価\n",
        "6.   特徴量重要の評価に基づきモデル再構築\n",
        "\n",
        "精度向上に向けて様々な手法を試してみましたが，今回のタスクにおいては，どの工夫が有効に働くか自明で無い場合がほとんどです．従って，試行錯誤を行いながら，その問題設定に適合するやり方を模索していく必要があります．\n",
        "\n",
        "さらなる取り組みとしては，例えば下記内容を検討する余地があります。\n",
        "\n",
        "\n",
        "* クラス不均衡データへの対応\n",
        "  - サンプリング\n",
        "      - 不均衡データセットからサンプリングを行い，クラス比率のバランスが取れたデータセットを作成．\n",
        "    - **Undersampling** : 大多数の正常サンプルを削減．\n",
        "    - **Oversampling**  : 少数の異常サンプルを水増し．  \n",
        "  - 損失関数の重み調整\n",
        "    - 正常サンプルを異常と誤分類した際のペナルティを小さく，異常サンプルを正常と誤分類した際のペナルティを大きくする．\n",
        "    - 例えば，サンプル数の存在比率の逆数を重みとして利用．\n",
        "  - 目的関数(損失関数)の変更\n",
        "    - 異常サンプルに対する予測スコアを向上させるような目的関数を導入．\n",
        "  - 異常検知\n",
        "    - 正常サンプルのデータ分布を仮定し，そこから十分に逸脱したサンプルを異常とみなす．\n",
        "\n",
        "* 前処理の工夫\n",
        "  - ラベルの追加\n",
        "    - 生存者・死者加えて，新たな目的関数を考慮する．\n",
        "  - ラベルの与え方の変更\n",
        "      * セグメント範囲内に正常以外のピークラベルが含まれる場合に優先的にそのラベルを付与する，等．\n",
        "\n",
        "* モデルの変更等\n",
        "  - ランダムフォレスト以外の機械学習モデルを導入する\n"
      ],
      "metadata": {
        "id": "nf5UES9wQLis"
      }
    }
  ]
}